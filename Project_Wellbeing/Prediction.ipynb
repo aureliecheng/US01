{
 "cells": [
  {
   "cell_type": "markdown",
   "metadata": {},
   "source": [
    "# Project - Predict the wellbeing of shanghainese communities"
   ]
  },
  {
   "cell_type": "markdown",
   "metadata": {},
   "source": [
    "# MACHINE LEARNING"
   ]
  },
  {
   "cell_type": "code",
   "execution_count": 11,
   "metadata": {},
   "outputs": [],
   "source": [
    "import pandas as pd\n",
    "import numpy as np"
   ]
  },
  {
   "cell_type": "code",
   "execution_count": 204,
   "metadata": {},
   "outputs": [],
   "source": [
    "df_predict = pd.read_pickle(\"df_prediction.pkl\")"
   ]
  },
  {
   "cell_type": "code",
   "execution_count": 205,
   "metadata": {},
   "outputs": [
    {
     "data": {
      "text/html": [
       "<div>\n",
       "<style scoped>\n",
       "    .dataframe tbody tr th:only-of-type {\n",
       "        vertical-align: middle;\n",
       "    }\n",
       "\n",
       "    .dataframe tbody tr th {\n",
       "        vertical-align: top;\n",
       "    }\n",
       "\n",
       "    .dataframe thead th {\n",
       "        text-align: right;\n",
       "    }\n",
       "</style>\n",
       "<table border=\"1\" class=\"dataframe\">\n",
       "  <thead>\n",
       "    <tr style=\"text-align: right;\">\n",
       "      <th></th>\n",
       "      <th>nb_transportation_scaled</th>\n",
       "      <th>nb_shopping_scaled</th>\n",
       "      <th>nb_restaurant_scaled</th>\n",
       "      <th>nb_scenicSpot_scaled</th>\n",
       "      <th>nb_stadiumAndGym_scaled</th>\n",
       "      <th>nb_mobike_scaled</th>\n",
       "      <th>green_space_scaled</th>\n",
       "      <th>happiness_equalCoff</th>\n",
       "      <th>happiness_clean</th>\n",
       "      <th>happiness_smell</th>\n",
       "      <th>happiness_noise</th>\n",
       "      <th>happiness_perso</th>\n",
       "      <th>happiness_other</th>\n",
       "    </tr>\n",
       "  </thead>\n",
       "  <tbody>\n",
       "    <tr>\n",
       "      <td>0</td>\n",
       "      <td>-0.757151</td>\n",
       "      <td>-0.598362</td>\n",
       "      <td>-0.721806</td>\n",
       "      <td>-0.405934</td>\n",
       "      <td>-0.747588</td>\n",
       "      <td>-0.808407</td>\n",
       "      <td>0.265348</td>\n",
       "      <td>1.666667</td>\n",
       "      <td>2.428571</td>\n",
       "      <td>1.285714</td>\n",
       "      <td>1.285714</td>\n",
       "      <td>1.600000</td>\n",
       "      <td>1.444444</td>\n",
       "    </tr>\n",
       "    <tr>\n",
       "      <td>1</td>\n",
       "      <td>-0.838055</td>\n",
       "      <td>-0.682104</td>\n",
       "      <td>-0.801698</td>\n",
       "      <td>-0.404075</td>\n",
       "      <td>-0.792245</td>\n",
       "      <td>-0.808407</td>\n",
       "      <td>0.265348</td>\n",
       "      <td>1.333333</td>\n",
       "      <td>2.095238</td>\n",
       "      <td>0.952381</td>\n",
       "      <td>0.952381</td>\n",
       "      <td>1.266667</td>\n",
       "      <td>1.111111</td>\n",
       "    </tr>\n",
       "    <tr>\n",
       "      <td>2</td>\n",
       "      <td>-0.905242</td>\n",
       "      <td>-0.692630</td>\n",
       "      <td>-0.810939</td>\n",
       "      <td>-0.427699</td>\n",
       "      <td>-0.807475</td>\n",
       "      <td>-0.808395</td>\n",
       "      <td>0.265348</td>\n",
       "      <td>1.666667</td>\n",
       "      <td>2.428571</td>\n",
       "      <td>1.285714</td>\n",
       "      <td>1.285714</td>\n",
       "      <td>1.600000</td>\n",
       "      <td>1.444444</td>\n",
       "    </tr>\n",
       "    <tr>\n",
       "      <td>3</td>\n",
       "      <td>-0.911484</td>\n",
       "      <td>-0.694507</td>\n",
       "      <td>-0.783498</td>\n",
       "      <td>-0.381704</td>\n",
       "      <td>-0.775861</td>\n",
       "      <td>-0.808336</td>\n",
       "      <td>0.265348</td>\n",
       "      <td>1.333333</td>\n",
       "      <td>1.714286</td>\n",
       "      <td>1.142857</td>\n",
       "      <td>1.142857</td>\n",
       "      <td>1.300000</td>\n",
       "      <td>1.222222</td>\n",
       "    </tr>\n",
       "    <tr>\n",
       "      <td>4</td>\n",
       "      <td>-0.905943</td>\n",
       "      <td>-0.688400</td>\n",
       "      <td>-0.805164</td>\n",
       "      <td>-0.421503</td>\n",
       "      <td>-0.800932</td>\n",
       "      <td>-0.808370</td>\n",
       "      <td>0.265348</td>\n",
       "      <td>1.000000</td>\n",
       "      <td>1.571429</td>\n",
       "      <td>1.000000</td>\n",
       "      <td>0.428571</td>\n",
       "      <td>1.100000</td>\n",
       "      <td>0.666667</td>\n",
       "    </tr>\n",
       "  </tbody>\n",
       "</table>\n",
       "</div>"
      ],
      "text/plain": [
       "   nb_transportation_scaled  nb_shopping_scaled  nb_restaurant_scaled  \\\n",
       "0                 -0.757151           -0.598362             -0.721806   \n",
       "1                 -0.838055           -0.682104             -0.801698   \n",
       "2                 -0.905242           -0.692630             -0.810939   \n",
       "3                 -0.911484           -0.694507             -0.783498   \n",
       "4                 -0.905943           -0.688400             -0.805164   \n",
       "\n",
       "   nb_scenicSpot_scaled  nb_stadiumAndGym_scaled  nb_mobike_scaled  \\\n",
       "0             -0.405934                -0.747588         -0.808407   \n",
       "1             -0.404075                -0.792245         -0.808407   \n",
       "2             -0.427699                -0.807475         -0.808395   \n",
       "3             -0.381704                -0.775861         -0.808336   \n",
       "4             -0.421503                -0.800932         -0.808370   \n",
       "\n",
       "   green_space_scaled  happiness_equalCoff  happiness_clean  happiness_smell  \\\n",
       "0            0.265348             1.666667         2.428571         1.285714   \n",
       "1            0.265348             1.333333         2.095238         0.952381   \n",
       "2            0.265348             1.666667         2.428571         1.285714   \n",
       "3            0.265348             1.333333         1.714286         1.142857   \n",
       "4            0.265348             1.000000         1.571429         1.000000   \n",
       "\n",
       "   happiness_noise  happiness_perso  happiness_other  \n",
       "0         1.285714         1.600000         1.444444  \n",
       "1         0.952381         1.266667         1.111111  \n",
       "2         1.285714         1.600000         1.444444  \n",
       "3         1.142857         1.300000         1.222222  \n",
       "4         0.428571         1.100000         0.666667  "
      ]
     },
     "execution_count": 205,
     "metadata": {},
     "output_type": "execute_result"
    }
   ],
   "source": [
    "df_predict.head()"
   ]
  },
  {
   "cell_type": "code",
   "execution_count": 206,
   "metadata": {},
   "outputs": [
    {
     "data": {
      "text/plain": [
       "count    129.000000\n",
       "mean       2.062544\n",
       "std        0.314851\n",
       "min        1.380952\n",
       "25%        1.836735\n",
       "50%        2.035714\n",
       "75%        2.285714\n",
       "max        3.000000\n",
       "Name: happiness_clean, dtype: float64"
      ]
     },
     "execution_count": 206,
     "metadata": {},
     "output_type": "execute_result"
    }
   ],
   "source": [
    "df_predict['happiness_clean'].describe()"
   ]
  },
  {
   "cell_type": "markdown",
   "metadata": {},
   "source": [
    "# 1. Classification"
   ]
  },
  {
   "cell_type": "markdown",
   "metadata": {},
   "source": [
    "## a. Happiness when clean, smell, noise have the same coefficient"
   ]
  },
  {
   "cell_type": "code",
   "execution_count": 207,
   "metadata": {},
   "outputs": [],
   "source": [
    "X = df_predict[['nb_transportation_scaled', 'nb_shopping_scaled', 'nb_restaurant_scaled', 'nb_scenicSpot_scaled', 'nb_stadiumAndGym_scaled', 'nb_mobike_scaled', 'green_space_scaled']] #features\n",
    "Y_coeff = df_predict['happiness_equalCoff'] #target"
   ]
  },
  {
   "cell_type": "code",
   "execution_count": 208,
   "metadata": {},
   "outputs": [
    {
     "data": {
      "text/plain": [
       "count    129.000000\n",
       "mean       1.389260\n",
       "std        0.183787\n",
       "min        1.000000\n",
       "25%        1.333333\n",
       "50%        1.333333\n",
       "75%        1.500000\n",
       "max        1.666667\n",
       "Name: happiness_equalCoff, dtype: float64"
      ]
     },
     "execution_count": 208,
     "metadata": {},
     "output_type": "execute_result"
    }
   ],
   "source": [
    "Y_coeff.describe()"
   ]
  },
  {
   "cell_type": "code",
   "execution_count": 209,
   "metadata": {},
   "outputs": [],
   "source": [
    "Z_coeff = pd.DataFrame.copy(Y_coeff)"
   ]
  },
  {
   "cell_type": "code",
   "execution_count": 210,
   "metadata": {},
   "outputs": [],
   "source": [
    "Z_coeff = Y_coeff.apply(lambda x:\"Very unhappy\" if x < 1.165 else \n",
    "        \"Unhappy\" if (x >= 1.165 and x < 1.33) else\n",
    "        \"Happy\" if (x >= 1.33 and x < 1.495) else\n",
    "        \"Very happy\")"
   ]
  },
  {
   "cell_type": "code",
   "execution_count": 211,
   "metadata": {},
   "outputs": [],
   "source": [
    "df_predict.insert(8, \"class_samecoeff\", Z_coeff)"
   ]
  },
  {
   "cell_type": "code",
   "execution_count": 212,
   "metadata": {},
   "outputs": [
    {
     "data": {
      "text/plain": [
       "class_samecoeff\n",
       "Happy           52\n",
       "Unhappy         21\n",
       "Very happy      45\n",
       "Very unhappy    11\n",
       "dtype: int64"
      ]
     },
     "execution_count": 212,
     "metadata": {},
     "output_type": "execute_result"
    }
   ],
   "source": [
    "df_predict.groupby('class_samecoeff').size()"
   ]
  },
  {
   "cell_type": "markdown",
   "metadata": {},
   "source": [
    "## b. Happiness when CLEAN has more importance than noise, smell"
   ]
  },
  {
   "cell_type": "code",
   "execution_count": 213,
   "metadata": {},
   "outputs": [],
   "source": [
    "Y_clean = df_predict['happiness_clean'] #target"
   ]
  },
  {
   "cell_type": "code",
   "execution_count": 214,
   "metadata": {},
   "outputs": [
    {
     "data": {
      "text/plain": [
       "count    129.000000\n",
       "mean       2.062544\n",
       "std        0.314851\n",
       "min        1.380952\n",
       "25%        1.836735\n",
       "50%        2.035714\n",
       "75%        2.285714\n",
       "max        3.000000\n",
       "Name: happiness_clean, dtype: float64"
      ]
     },
     "execution_count": 214,
     "metadata": {},
     "output_type": "execute_result"
    }
   ],
   "source": [
    "Y_clean.describe()"
   ]
  },
  {
   "cell_type": "code",
   "execution_count": 215,
   "metadata": {},
   "outputs": [],
   "source": [
    "Z_clean = pd.DataFrame.copy(Y_clean)\n",
    "Z_clean = Y_clean.apply(lambda x:\"Very unhappy\" if x < 1.785714 else \n",
    "        \"Unhappy\" if (x >= 1.1785714 and x < 2.190476) else\n",
    "        \"Happy\" if (x >= 2.190476 and x < 2.595238) else\n",
    "        \"Very happy\")"
   ]
  },
  {
   "cell_type": "code",
   "execution_count": 216,
   "metadata": {},
   "outputs": [],
   "source": [
    "df_predict.insert(10, \"class_clean\", Z_clean)"
   ]
  },
  {
   "cell_type": "code",
   "execution_count": 217,
   "metadata": {},
   "outputs": [
    {
     "data": {
      "text/plain": [
       "class_clean\n",
       "Happy           40\n",
       "Unhappy         55\n",
       "Very happy       5\n",
       "Very unhappy    29\n",
       "dtype: int64"
      ]
     },
     "execution_count": 217,
     "metadata": {},
     "output_type": "execute_result"
    }
   ],
   "source": [
    "df_predict.groupby('class_clean').size()"
   ]
  },
  {
   "cell_type": "markdown",
   "metadata": {},
   "source": [
    "## c. Happiness when SMELL has more importance than clean, noise"
   ]
  },
  {
   "cell_type": "code",
   "execution_count": 218,
   "metadata": {},
   "outputs": [],
   "source": [
    "Y_smell = df_predict['happiness_smell'] #target"
   ]
  },
  {
   "cell_type": "code",
   "execution_count": 219,
   "metadata": {},
   "outputs": [
    {
     "data": {
      "text/plain": [
       "count    129.000000\n",
       "mean       1.083657\n",
       "std        0.171013\n",
       "min        0.428571\n",
       "25%        1.000000\n",
       "50%        1.142857\n",
       "75%        1.214286\n",
       "max        1.285714\n",
       "Name: happiness_smell, dtype: float64"
      ]
     },
     "execution_count": 219,
     "metadata": {},
     "output_type": "execute_result"
    }
   ],
   "source": [
    "Y_smell.describe()"
   ]
  },
  {
   "cell_type": "code",
   "execution_count": 220,
   "metadata": {},
   "outputs": [
    {
     "name": "stdout",
     "output_type": "stream",
     "text": [
      "0.2142857142857143\n",
      "0.6428571428571428\n",
      "0.8571428571428572\n",
      "1.0714285714285714\n"
     ]
    }
   ],
   "source": [
    "print((Y_smell.max()-Y_smell.min())/4)\n",
    "print(Y_smell.min() + ((Y_smell.max()-Y_smell.min())/4))\n",
    "print(Y_smell.min() + ((Y_smell.max()-Y_smell.min())/4)*2)\n",
    "print(Y_smell.min() + ((Y_smell.max()-Y_smell.min())/4)*3)"
   ]
  },
  {
   "cell_type": "code",
   "execution_count": 221,
   "metadata": {},
   "outputs": [],
   "source": [
    "Z_smell = pd.DataFrame.copy(Y_smell)\n",
    "Z_smell = Y_smell.apply(lambda x:\"Very unhappy\" if x < 0.6428571428571428 else \n",
    "        \"Unhappy\" if (x >= 0.6428571428571428 and x < 0.8571428571428572) else\n",
    "        \"Happy\" if (x >= 0.8571428571428572 and x < 1.0714285714285714) else\n",
    "        \"Very happy\")"
   ]
  },
  {
   "cell_type": "code",
   "execution_count": 222,
   "metadata": {},
   "outputs": [],
   "source": [
    "df_predict.insert(12, \"class_smell\", Z_smell)"
   ]
  },
  {
   "cell_type": "code",
   "execution_count": 223,
   "metadata": {},
   "outputs": [
    {
     "data": {
      "text/plain": [
       "class_smell\n",
       "Happy           33\n",
       "Unhappy         14\n",
       "Very happy      80\n",
       "Very unhappy     2\n",
       "dtype: int64"
      ]
     },
     "execution_count": 223,
     "metadata": {},
     "output_type": "execute_result"
    }
   ],
   "source": [
    "df_predict.groupby('class_smell').size()"
   ]
  },
  {
   "cell_type": "markdown",
   "metadata": {},
   "source": [
    "## d. Happiness when NOISE has more importance than clean, smell"
   ]
  },
  {
   "cell_type": "code",
   "execution_count": 224,
   "metadata": {},
   "outputs": [],
   "source": [
    "Y_noise = df_predict['happiness_noise'] #target"
   ]
  },
  {
   "cell_type": "code",
   "execution_count": 225,
   "metadata": {},
   "outputs": [
    {
     "data": {
      "text/plain": [
       "count    129.000000\n",
       "mean       1.021580\n",
       "std        0.234248\n",
       "min        0.428571\n",
       "25%        0.904762\n",
       "50%        1.102041\n",
       "75%        1.196429\n",
       "max        1.285714\n",
       "Name: happiness_noise, dtype: float64"
      ]
     },
     "execution_count": 225,
     "metadata": {},
     "output_type": "execute_result"
    }
   ],
   "source": [
    "Y_noise.describe()"
   ]
  },
  {
   "cell_type": "code",
   "execution_count": 226,
   "metadata": {},
   "outputs": [
    {
     "name": "stdout",
     "output_type": "stream",
     "text": [
      "0.2142857142857143\n",
      "0.6428571428571428\n",
      "0.8571428571428572\n",
      "1.0714285714285714\n"
     ]
    }
   ],
   "source": [
    "print((Y_noise.max()-Y_noise.min())/4)\n",
    "print(Y_noise.min() + ((Y_noise.max()-Y_noise.min())/4))\n",
    "print(Y_noise.min() + ((Y_noise.max()-Y_noise.min())/4)*2)\n",
    "print(Y_noise.min() + ((Y_noise.max()-Y_noise.min())/4)*3)"
   ]
  },
  {
   "cell_type": "code",
   "execution_count": 228,
   "metadata": {},
   "outputs": [],
   "source": [
    "Z_noise = pd.DataFrame.copy(Y_noise)\n",
    "Z_noise = Y_noise.apply(lambda x:\"Very unhappy\" if x < 0.6428571428571428 else \n",
    "        \"Unhappy\" if (x >= 0.6428571428571428 and x < 0.8571428571428572) else\n",
    "        \"Happy\" if (x >= 0.8571428571428572 and x < 1.0714285714285714) else\n",
    "        \"Very happy\")"
   ]
  },
  {
   "cell_type": "code",
   "execution_count": 229,
   "metadata": {},
   "outputs": [],
   "source": [
    "df_predict.insert(14, \"class_noise\", Z_noise)"
   ]
  },
  {
   "cell_type": "code",
   "execution_count": 230,
   "metadata": {},
   "outputs": [
    {
     "data": {
      "text/plain": [
       "class_noise\n",
       "Happy           30\n",
       "Unhappy         13\n",
       "Very happy      73\n",
       "Very unhappy    13\n",
       "dtype: int64"
      ]
     },
     "execution_count": 230,
     "metadata": {},
     "output_type": "execute_result"
    }
   ],
   "source": [
    "df_predict.groupby('class_noise').size()"
   ]
  },
  {
   "cell_type": "markdown",
   "metadata": {},
   "source": [
    "## e. Happiness - personnal opinion"
   ]
  },
  {
   "cell_type": "code",
   "execution_count": 231,
   "metadata": {},
   "outputs": [],
   "source": [
    "Y_perso = df_predict['happiness_perso'] #target"
   ]
  },
  {
   "cell_type": "code",
   "execution_count": 232,
   "metadata": {},
   "outputs": [
    {
     "data": {
      "text/plain": [
       "count    129.000000\n",
       "mean       1.346643\n",
       "std        0.177887\n",
       "min        0.800000\n",
       "25%        1.250000\n",
       "50%        1.325000\n",
       "75%        1.450000\n",
       "max        1.700000\n",
       "Name: happiness_perso, dtype: float64"
      ]
     },
     "execution_count": 232,
     "metadata": {},
     "output_type": "execute_result"
    }
   ],
   "source": [
    "Y_perso.describe()"
   ]
  },
  {
   "cell_type": "code",
   "execution_count": 233,
   "metadata": {},
   "outputs": [
    {
     "name": "stdout",
     "output_type": "stream",
     "text": [
      "0.22499999999999998\n",
      "1.025\n",
      "1.25\n",
      "1.475\n"
     ]
    }
   ],
   "source": [
    "print((Y_perso.max()-Y_perso.min())/4)\n",
    "print(Y_perso.min() + ((Y_perso.max()-Y_perso.min())/4))\n",
    "print(Y_perso.min() + ((Y_perso.max()-Y_perso.min())/4)*2)\n",
    "print(Y_perso.min() + ((Y_perso.max()-Y_perso.min())/4)*3)"
   ]
  },
  {
   "cell_type": "code",
   "execution_count": 235,
   "metadata": {},
   "outputs": [],
   "source": [
    "Z_perso = pd.DataFrame.copy(Y_perso)\n",
    "Z_perso = Y_perso.apply(lambda x:\"Very unhappy\" if x < 1.025 else \n",
    "        \"Unhappy\" if (x >= 1.025 and x < 1.25) else\n",
    "        \"Happy\" if (x >= 1.25 and x < 1.475) else\n",
    "        \"Very happy\")"
   ]
  },
  {
   "cell_type": "code",
   "execution_count": 236,
   "metadata": {},
   "outputs": [],
   "source": [
    "df_predict.insert(16, \"class_perso\", Z_perso)"
   ]
  },
  {
   "cell_type": "code",
   "execution_count": 237,
   "metadata": {},
   "outputs": [
    {
     "data": {
      "text/plain": [
       "class_perso\n",
       "Happy           66\n",
       "Unhappy         25\n",
       "Very happy      32\n",
       "Very unhappy     6\n",
       "dtype: int64"
      ]
     },
     "execution_count": 237,
     "metadata": {},
     "output_type": "execute_result"
    }
   ],
   "source": [
    "df_predict.groupby('class_perso').size()"
   ]
  },
  {
   "cell_type": "markdown",
   "metadata": {},
   "source": [
    "## f. Happiness - arbitary choice"
   ]
  },
  {
   "cell_type": "code",
   "execution_count": 238,
   "metadata": {},
   "outputs": [],
   "source": [
    "Y_other = df_predict['happiness_other'] #target"
   ]
  },
  {
   "cell_type": "code",
   "execution_count": 239,
   "metadata": {},
   "outputs": [
    {
     "name": "stdout",
     "output_type": "stream",
     "text": [
      "0.19444444444444445\n",
      "0.861111111111111\n",
      "1.0555555555555556\n",
      "1.25\n"
     ]
    }
   ],
   "source": [
    "print((Y_other.max()-Y_other.min())/4)\n",
    "print(Y_other.min() + ((Y_other.max()-Y_other.min())/4))\n",
    "print(Y_other.min() + ((Y_other.max()-Y_other.min())/4)*2)\n",
    "print(Y_other.min() + ((Y_other.max()-Y_other.min())/4)*3)"
   ]
  },
  {
   "cell_type": "code",
   "execution_count": 240,
   "metadata": {},
   "outputs": [],
   "source": [
    "Z_other = pd.DataFrame.copy(Y_other)\n",
    "Z_other = Y_other.apply(lambda x:\"Very unhappy\" if x < 0.861111111111111 else \n",
    "        \"Unhappy\" if (x >= 0.861111111111111 and x < 1.0555555555555556) else\n",
    "        \"Happy\" if (x >= 1.0555555555555556 and x < 1.25) else\n",
    "        \"Very happy\")"
   ]
  },
  {
   "cell_type": "code",
   "execution_count": 241,
   "metadata": {},
   "outputs": [],
   "source": [
    "df_predict.insert(18, \"class_other\", Z_other)"
   ]
  },
  {
   "cell_type": "code",
   "execution_count": 242,
   "metadata": {},
   "outputs": [
    {
     "data": {
      "text/plain": [
       "class_other\n",
       "Happy           53\n",
       "Unhappy         16\n",
       "Very happy      49\n",
       "Very unhappy    11\n",
       "dtype: int64"
      ]
     },
     "execution_count": 242,
     "metadata": {},
     "output_type": "execute_result"
    }
   ],
   "source": [
    "df_predict.groupby('class_other').size()"
   ]
  },
  {
   "cell_type": "code",
   "execution_count": 243,
   "metadata": {},
   "outputs": [
    {
     "data": {
      "text/html": [
       "<div>\n",
       "<style scoped>\n",
       "    .dataframe tbody tr th:only-of-type {\n",
       "        vertical-align: middle;\n",
       "    }\n",
       "\n",
       "    .dataframe tbody tr th {\n",
       "        vertical-align: top;\n",
       "    }\n",
       "\n",
       "    .dataframe thead th {\n",
       "        text-align: right;\n",
       "    }\n",
       "</style>\n",
       "<table border=\"1\" class=\"dataframe\">\n",
       "  <thead>\n",
       "    <tr style=\"text-align: right;\">\n",
       "      <th></th>\n",
       "      <th>nb_transportation_scaled</th>\n",
       "      <th>nb_shopping_scaled</th>\n",
       "      <th>nb_restaurant_scaled</th>\n",
       "      <th>nb_scenicSpot_scaled</th>\n",
       "      <th>nb_stadiumAndGym_scaled</th>\n",
       "      <th>nb_mobike_scaled</th>\n",
       "      <th>green_space_scaled</th>\n",
       "      <th>happiness_equalCoff</th>\n",
       "      <th>class_samecoeff</th>\n",
       "      <th>happiness_clean</th>\n",
       "      <th>class_clean</th>\n",
       "      <th>happiness_smell</th>\n",
       "      <th>class_smell</th>\n",
       "      <th>happiness_noise</th>\n",
       "      <th>class_noise</th>\n",
       "      <th>happiness_perso</th>\n",
       "      <th>class_perso</th>\n",
       "      <th>happiness_other</th>\n",
       "      <th>class_other</th>\n",
       "    </tr>\n",
       "  </thead>\n",
       "  <tbody>\n",
       "    <tr>\n",
       "      <td>0</td>\n",
       "      <td>-0.757151</td>\n",
       "      <td>-0.598362</td>\n",
       "      <td>-0.721806</td>\n",
       "      <td>-0.405934</td>\n",
       "      <td>-0.747588</td>\n",
       "      <td>-0.808407</td>\n",
       "      <td>0.265348</td>\n",
       "      <td>1.666667</td>\n",
       "      <td>Very happy</td>\n",
       "      <td>2.428571</td>\n",
       "      <td>Happy</td>\n",
       "      <td>1.285714</td>\n",
       "      <td>Very happy</td>\n",
       "      <td>1.285714</td>\n",
       "      <td>Very happy</td>\n",
       "      <td>1.600000</td>\n",
       "      <td>Very happy</td>\n",
       "      <td>1.444444</td>\n",
       "      <td>Very happy</td>\n",
       "    </tr>\n",
       "    <tr>\n",
       "      <td>1</td>\n",
       "      <td>-0.838055</td>\n",
       "      <td>-0.682104</td>\n",
       "      <td>-0.801698</td>\n",
       "      <td>-0.404075</td>\n",
       "      <td>-0.792245</td>\n",
       "      <td>-0.808407</td>\n",
       "      <td>0.265348</td>\n",
       "      <td>1.333333</td>\n",
       "      <td>Happy</td>\n",
       "      <td>2.095238</td>\n",
       "      <td>Unhappy</td>\n",
       "      <td>0.952381</td>\n",
       "      <td>Happy</td>\n",
       "      <td>0.952381</td>\n",
       "      <td>Happy</td>\n",
       "      <td>1.266667</td>\n",
       "      <td>Happy</td>\n",
       "      <td>1.111111</td>\n",
       "      <td>Happy</td>\n",
       "    </tr>\n",
       "    <tr>\n",
       "      <td>2</td>\n",
       "      <td>-0.905242</td>\n",
       "      <td>-0.692630</td>\n",
       "      <td>-0.810939</td>\n",
       "      <td>-0.427699</td>\n",
       "      <td>-0.807475</td>\n",
       "      <td>-0.808395</td>\n",
       "      <td>0.265348</td>\n",
       "      <td>1.666667</td>\n",
       "      <td>Very happy</td>\n",
       "      <td>2.428571</td>\n",
       "      <td>Happy</td>\n",
       "      <td>1.285714</td>\n",
       "      <td>Very happy</td>\n",
       "      <td>1.285714</td>\n",
       "      <td>Very happy</td>\n",
       "      <td>1.600000</td>\n",
       "      <td>Very happy</td>\n",
       "      <td>1.444444</td>\n",
       "      <td>Very happy</td>\n",
       "    </tr>\n",
       "    <tr>\n",
       "      <td>3</td>\n",
       "      <td>-0.911484</td>\n",
       "      <td>-0.694507</td>\n",
       "      <td>-0.783498</td>\n",
       "      <td>-0.381704</td>\n",
       "      <td>-0.775861</td>\n",
       "      <td>-0.808336</td>\n",
       "      <td>0.265348</td>\n",
       "      <td>1.333333</td>\n",
       "      <td>Happy</td>\n",
       "      <td>1.714286</td>\n",
       "      <td>Very unhappy</td>\n",
       "      <td>1.142857</td>\n",
       "      <td>Very happy</td>\n",
       "      <td>1.142857</td>\n",
       "      <td>Very happy</td>\n",
       "      <td>1.300000</td>\n",
       "      <td>Happy</td>\n",
       "      <td>1.222222</td>\n",
       "      <td>Happy</td>\n",
       "    </tr>\n",
       "    <tr>\n",
       "      <td>4</td>\n",
       "      <td>-0.905943</td>\n",
       "      <td>-0.688400</td>\n",
       "      <td>-0.805164</td>\n",
       "      <td>-0.421503</td>\n",
       "      <td>-0.800932</td>\n",
       "      <td>-0.808370</td>\n",
       "      <td>0.265348</td>\n",
       "      <td>1.000000</td>\n",
       "      <td>Very unhappy</td>\n",
       "      <td>1.571429</td>\n",
       "      <td>Very unhappy</td>\n",
       "      <td>1.000000</td>\n",
       "      <td>Happy</td>\n",
       "      <td>0.428571</td>\n",
       "      <td>Very unhappy</td>\n",
       "      <td>1.100000</td>\n",
       "      <td>Unhappy</td>\n",
       "      <td>0.666667</td>\n",
       "      <td>Very unhappy</td>\n",
       "    </tr>\n",
       "  </tbody>\n",
       "</table>\n",
       "</div>"
      ],
      "text/plain": [
       "   nb_transportation_scaled  nb_shopping_scaled  nb_restaurant_scaled  \\\n",
       "0                 -0.757151           -0.598362             -0.721806   \n",
       "1                 -0.838055           -0.682104             -0.801698   \n",
       "2                 -0.905242           -0.692630             -0.810939   \n",
       "3                 -0.911484           -0.694507             -0.783498   \n",
       "4                 -0.905943           -0.688400             -0.805164   \n",
       "\n",
       "   nb_scenicSpot_scaled  nb_stadiumAndGym_scaled  nb_mobike_scaled  \\\n",
       "0             -0.405934                -0.747588         -0.808407   \n",
       "1             -0.404075                -0.792245         -0.808407   \n",
       "2             -0.427699                -0.807475         -0.808395   \n",
       "3             -0.381704                -0.775861         -0.808336   \n",
       "4             -0.421503                -0.800932         -0.808370   \n",
       "\n",
       "   green_space_scaled  happiness_equalCoff class_samecoeff  happiness_clean  \\\n",
       "0            0.265348             1.666667      Very happy         2.428571   \n",
       "1            0.265348             1.333333           Happy         2.095238   \n",
       "2            0.265348             1.666667      Very happy         2.428571   \n",
       "3            0.265348             1.333333           Happy         1.714286   \n",
       "4            0.265348             1.000000    Very unhappy         1.571429   \n",
       "\n",
       "    class_clean  happiness_smell class_smell  happiness_noise   class_noise  \\\n",
       "0         Happy         1.285714  Very happy         1.285714    Very happy   \n",
       "1       Unhappy         0.952381       Happy         0.952381         Happy   \n",
       "2         Happy         1.285714  Very happy         1.285714    Very happy   \n",
       "3  Very unhappy         1.142857  Very happy         1.142857    Very happy   \n",
       "4  Very unhappy         1.000000       Happy         0.428571  Very unhappy   \n",
       "\n",
       "   happiness_perso class_perso  happiness_other   class_other  \n",
       "0         1.600000  Very happy         1.444444    Very happy  \n",
       "1         1.266667       Happy         1.111111         Happy  \n",
       "2         1.600000  Very happy         1.444444    Very happy  \n",
       "3         1.300000       Happy         1.222222         Happy  \n",
       "4         1.100000     Unhappy         0.666667  Very unhappy  "
      ]
     },
     "execution_count": 243,
     "metadata": {},
     "output_type": "execute_result"
    }
   ],
   "source": [
    "df_predict.head()"
   ]
  },
  {
   "cell_type": "markdown",
   "metadata": {},
   "source": [
    "# 2. Split data into training and test sets"
   ]
  },
  {
   "cell_type": "code",
   "execution_count": 90,
   "metadata": {},
   "outputs": [],
   "source": [
    "from sklearn.model_selection import cross_val_score\n",
    "from sklearn.tree import DecisionTreeClassifier\n",
    "from sklearn.neighbors import KNeighborsClassifier\n",
    "from sklearn.svm import SVC\n",
    "from sklearn.model_selection import StratifiedKFold\n",
    "from sklearn.metrics import classification_report\n",
    "from sklearn.metrics import confusion_matrix\n",
    "from sklearn.metrics import accuracy_score\n",
    "from sklearn.ensemble import RandomForestClassifier"
   ]
  },
  {
   "cell_type": "markdown",
   "metadata": {},
   "source": [
    "## a. Target: Happiness_samecoeff"
   ]
  },
  {
   "cell_type": "code",
   "execution_count": 244,
   "metadata": {},
   "outputs": [],
   "source": [
    "from sklearn.model_selection import train_test_split\n",
    "X_train, X_test, Z_coeff_train, Z_coeff_test = train_test_split(X, Z_coeff, test_size=0.3)"
   ]
  },
  {
   "cell_type": "markdown",
   "metadata": {},
   "source": [
    "### i. Decision Tree"
   ]
  },
  {
   "cell_type": "code",
   "execution_count": 102,
   "metadata": {},
   "outputs": [
    {
     "data": {
      "text/plain": [
       "GridSearchCV(cv=ShuffleSplit(n_splits=5, random_state=None, test_size=None, train_size=None),\n",
       "             error_score='raise-deprecating',\n",
       "             estimator=DecisionTreeClassifier(class_weight=None,\n",
       "                                              criterion='gini', max_depth=None,\n",
       "                                              max_features=None,\n",
       "                                              max_leaf_nodes=None,\n",
       "                                              min_impurity_decrease=0.0,\n",
       "                                              min_impurity_split=None,\n",
       "                                              min_samples_leaf=1,\n",
       "                                              min_samples_split=2,\n",
       "                                              min_weight_fraction_leaf=0.0,\n",
       "                                              presort=False, random_state=None,\n",
       "                                              splitter='best'),\n",
       "             iid='warn', n_jobs=None,\n",
       "             param_grid={'max_depth': [1, 2, 4, 6, 8, 10, 20, 40, 100]},\n",
       "             pre_dispatch='2*n_jobs', refit=True, return_train_score=False,\n",
       "             scoring=None, verbose=0)"
      ]
     },
     "execution_count": 102,
     "metadata": {},
     "output_type": "execute_result"
    }
   ],
   "source": [
    "from sklearn import tree\n",
    "from sklearn.model_selection import GridSearchCV\n",
    "from sklearn.model_selection import ShuffleSplit\n",
    "param_grid = {'max_depth': [1,2,4,6,8,10,20,40,100]}\n",
    "search = GridSearchCV(tree.DecisionTreeClassifier(), param_grid, cv= ShuffleSplit(n_splits=5))\n",
    "search.fit(X,Z_coeff)"
   ]
  },
  {
   "cell_type": "code",
   "execution_count": 104,
   "metadata": {},
   "outputs": [
    {
     "data": {
      "text/plain": [
       "0.3333333333333333"
      ]
     },
     "execution_count": 104,
     "metadata": {},
     "output_type": "execute_result"
    }
   ],
   "source": [
    "from sklearn import tree\n",
    "clf = tree.DecisionTreeClassifier(max_depth=search.best_params_['max_depth'])\n",
    "clf = clf.fit(X_train, Z_coeff_train)\n",
    "prediction = clf.predict(X_test)\n",
    "np.mean(prediction == Z_coeff_test)"
   ]
  },
  {
   "cell_type": "code",
   "execution_count": null,
   "metadata": {},
   "outputs": [],
   "source": []
  },
  {
   "cell_type": "code",
   "execution_count": null,
   "metadata": {},
   "outputs": [],
   "source": []
  },
  {
   "cell_type": "code",
   "execution_count": 94,
   "metadata": {},
   "outputs": [],
   "source": [
    "models = []"
   ]
  },
  {
   "cell_type": "code",
   "execution_count": null,
   "metadata": {},
   "outputs": [],
   "source": []
  },
  {
   "cell_type": "code",
   "execution_count": 95,
   "metadata": {},
   "outputs": [],
   "source": [
    "models.append(('KNN', KNeighborsClassifier()))\n",
    "models.append(('SVM', SVC(gamma='auto')))"
   ]
  },
  {
   "cell_type": "code",
   "execution_count": 96,
   "metadata": {},
   "outputs": [
    {
     "name": "stderr",
     "output_type": "stream",
     "text": [
      "C:\\Users\\Aurelie\\Anaconda\\lib\\site-packages\\sklearn\\model_selection\\_split.py:657: Warning: The least populated class in y has only 5 members, which is too few. The minimum number of members in any class cannot be less than n_splits=10.\n",
      "  % (min_groups, self.n_splits)), Warning)\n",
      "C:\\Users\\Aurelie\\Anaconda\\lib\\site-packages\\sklearn\\model_selection\\_split.py:657: Warning: The least populated class in y has only 5 members, which is too few. The minimum number of members in any class cannot be less than n_splits=10.\n",
      "  % (min_groups, self.n_splits)), Warning)\n"
     ]
    },
    {
     "name": "stdout",
     "output_type": "stream",
     "text": [
      "KNN: 0.360051 (0.113328)\n",
      "SVM: 0.467677 (0.026552)\n"
     ]
    }
   ],
   "source": [
    "results = []\n",
    "names = []\n",
    "for name, model in models:\n",
    "    kfold = StratifiedKFold(n_splits=10, random_state=1, shuffle=True)\n",
    "    cv_results = cross_val_score(model, X_train, Z_coeff_train, cv=kfold, scoring='accuracy')\n",
    "    results.append(cv_results)\n",
    "    names.append(name)\n",
    "    print('%s: %f (%f)' % (name, cv_results.mean(), cv_results.std()))"
   ]
  },
  {
   "cell_type": "code",
   "execution_count": 98,
   "metadata": {},
   "outputs": [],
   "source": [
    "model = SVC(gamma='auto')\n",
    "model.fit(X_train, Z_coeff_train)\n",
    "predictions = model.predict(X_test)"
   ]
  },
  {
   "cell_type": "code",
   "execution_count": 100,
   "metadata": {},
   "outputs": [
    {
     "name": "stdout",
     "output_type": "stream",
     "text": [
      "Accuracy score:  0.46153846153846156\n",
      "Confusion Matrix: \n",
      "[[ 0  0  1  9]\n",
      " [ 1  0  0  0]\n",
      " [ 0  0  1 10]\n",
      " [ 0  0  0 17]]\n",
      "Classification report: \n",
      "              precision    recall  f1-score   support\n",
      "\n",
      "       Happy       0.00      0.00      0.00        10\n",
      "     Unhappy       0.00      0.00      0.00         1\n",
      "  Very happy       0.50      0.09      0.15        11\n",
      "Very unhappy       0.47      1.00      0.64        17\n",
      "\n",
      "    accuracy                           0.46        39\n",
      "   macro avg       0.24      0.27      0.20        39\n",
      "weighted avg       0.35      0.46      0.32        39\n",
      "\n"
     ]
    },
    {
     "name": "stderr",
     "output_type": "stream",
     "text": [
      "C:\\Users\\Aurelie\\Anaconda\\lib\\site-packages\\sklearn\\metrics\\classification.py:1437: UndefinedMetricWarning: Precision and F-score are ill-defined and being set to 0.0 in labels with no predicted samples.\n",
      "  'precision', 'predicted', average, warn_for)\n"
     ]
    }
   ],
   "source": [
    "print('Accuracy score: ', accuracy_score(Z_coeff_test, predictions))\n",
    "print('Confusion Matrix: ')\n",
    "print(confusion_matrix(Z_coeff_test, predictions))\n",
    "print('Classification report: ')\n",
    "print(classification_report(Z_coeff_test, predictions))"
   ]
  },
  {
   "cell_type": "code",
   "execution_count": null,
   "metadata": {},
   "outputs": [],
   "source": [
    "#### NOISE\n",
    "param_grid = {'max_depth': [1, 3, 5, 7], 'n_estimators' : [1, 3, 5, 7]}\n",
    "search = GridSearchCV(RandomForestClassifier(), param_grid, cv=ShuffleSplit(n_splits=5))\n",
    "search.fit(data, y_noise)\n",
    "# Print the best parameters\n",
    "print(\"Best parameters for noise: \" + str(search.best_params_))\n",
    "\n",
    "#### SMELL\n",
    "param_grid = {'max_depth': [1, 3, 5, 7], 'n_estimators' : [1, 3, 5, 7]}\n",
    "search = GridSearchCV(RandomForestClassifier(), param_grid, cv=ShuffleSplit(n_splits=5))\n",
    "search.fit(data, y_smell)\n",
    "print(\"Best parameters for smell: \" + str(search.best_params_))\n",
    "\n",
    "#### CLEAN\n",
    "param_grid = {'max_depth': [1, 3, 5, 7], 'n_estimators' : [1, 3, 5, 7]}\n",
    "search = GridSearchCV(RandomForestClassifier(), param_grid, cv=ShuffleSplit(n_splits=5))\n",
    "search.fit(data, y_clean)\n",
    "print(\"Best parameters for clean: \" + str(search.best_params_))"
   ]
  },
  {
   "cell_type": "code",
   "execution_count": null,
   "metadata": {},
   "outputs": [],
   "source": [
    "#### NOISE\n",
    "rfc = RandomForestClassifier(max_depth=1, n_estimators=1)\n",
    "# use cross validation\n",
    "scores = cross_val_score(rfc, data, y_noise, cv=ShuffleSplit(n_splits=5))\n",
    "# print score\n",
    "print(\"Score of noise prediction: \" + str(np.mean(scores)))\n",
    "\n",
    "#### SMELL\n",
    "rfc = RandomForestClassifier(max_depth=1, n_estimators=1)\n",
    "scores = cross_val_score(rfc, data, y_smell, cv=ShuffleSplit(n_splits=5))\n",
    "print(\"Score of smell prediction: \" + str(np.mean(scores)))\n",
    "\n",
    "#### CLEAN\n",
    "rfc = RandomForestClassifier(max_depth=1, n_estimators=7)\n",
    "scores = cross_val_score(rfc, data, y_clean, cv=ShuffleSplit(n_splits=5))\n",
    "print(\"Score of clean prediction: \" + str(np.mean(scores)))"
   ]
  },
  {
   "cell_type": "markdown",
   "metadata": {},
   "source": [
    "### i. KNN "
   ]
  },
  {
   "cell_type": "code",
   "execution_count": null,
   "metadata": {},
   "outputs": [],
   "source": [
    "from sklearn import neighbors, datasets\n",
    "n_neighbors = 2000\n",
    "clf = neighbors.KNeighborsClassifier(n_neighbors, weights='distance')\n",
    "scores = cross_val_score(clf, X, Z, cv=5)\n",
    "clf.fit(X, Z)\n",
    "np.mean(scores)"
   ]
  },
  {
   "cell_type": "markdown",
   "metadata": {},
   "source": [
    "## b. Target: Happiness_clean"
   ]
  },
  {
   "cell_type": "code",
   "execution_count": 110,
   "metadata": {},
   "outputs": [],
   "source": [
    "from sklearn.model_selection import train_test_split\n",
    "X_train, X_test, Z_clean_train, Z_clean_test = train_test_split(X, Z_clean, test_size=0.3)"
   ]
  },
  {
   "cell_type": "code",
   "execution_count": 111,
   "metadata": {},
   "outputs": [
    {
     "data": {
      "text/plain": [
       "GridSearchCV(cv=ShuffleSplit(n_splits=5, random_state=None, test_size=None, train_size=None),\n",
       "             error_score='raise-deprecating',\n",
       "             estimator=DecisionTreeClassifier(class_weight=None,\n",
       "                                              criterion='gini', max_depth=None,\n",
       "                                              max_features=None,\n",
       "                                              max_leaf_nodes=None,\n",
       "                                              min_impurity_decrease=0.0,\n",
       "                                              min_impurity_split=None,\n",
       "                                              min_samples_leaf=1,\n",
       "                                              min_samples_split=2,\n",
       "                                              min_weight_fraction_leaf=0.0,\n",
       "                                              presort=False, random_state=None,\n",
       "                                              splitter='best'),\n",
       "             iid='warn', n_jobs=None,\n",
       "             param_grid={'max_depth': [1, 2, 4, 6, 8, 10, 20, 40, 100]},\n",
       "             pre_dispatch='2*n_jobs', refit=True, return_train_score=False,\n",
       "             scoring=None, verbose=0)"
      ]
     },
     "execution_count": 111,
     "metadata": {},
     "output_type": "execute_result"
    }
   ],
   "source": [
    "from sklearn import tree\n",
    "from sklearn.model_selection import GridSearchCV\n",
    "from sklearn.model_selection import ShuffleSplit\n",
    "param_grid = {'max_depth': [1,2,4,6,8,10,20,40,100]}\n",
    "search = GridSearchCV(tree.DecisionTreeClassifier(), param_grid, cv= ShuffleSplit(n_splits=5))\n",
    "search.fit(X,Z_clean)"
   ]
  },
  {
   "cell_type": "code",
   "execution_count": 112,
   "metadata": {},
   "outputs": [
    {
     "data": {
      "text/plain": [
       "0.20512820512820512"
      ]
     },
     "execution_count": 112,
     "metadata": {},
     "output_type": "execute_result"
    }
   ],
   "source": [
    "from sklearn import tree\n",
    "clf = tree.DecisionTreeClassifier(max_depth=search.best_params_['max_depth'])\n",
    "clf = clf.fit(X_train, Z_clean_train)\n",
    "prediction = clf.predict(X_test)\n",
    "np.mean(prediction == Z_clean_test)"
   ]
  },
  {
   "cell_type": "markdown",
   "metadata": {},
   "source": [
    "## c. Target: Happiness_smell"
   ]
  },
  {
   "cell_type": "code",
   "execution_count": 107,
   "metadata": {},
   "outputs": [],
   "source": [
    "from sklearn.model_selection import train_test_split\n",
    "X_train, X_test, Z_smell_train, Z_smell_test = train_test_split(X, Z_smell, test_size=0.3)"
   ]
  },
  {
   "cell_type": "code",
   "execution_count": 108,
   "metadata": {},
   "outputs": [
    {
     "data": {
      "text/plain": [
       "GridSearchCV(cv=ShuffleSplit(n_splits=5, random_state=None, test_size=None, train_size=None),\n",
       "             error_score='raise-deprecating',\n",
       "             estimator=DecisionTreeClassifier(class_weight=None,\n",
       "                                              criterion='gini', max_depth=None,\n",
       "                                              max_features=None,\n",
       "                                              max_leaf_nodes=None,\n",
       "                                              min_impurity_decrease=0.0,\n",
       "                                              min_impurity_split=None,\n",
       "                                              min_samples_leaf=1,\n",
       "                                              min_samples_split=2,\n",
       "                                              min_weight_fraction_leaf=0.0,\n",
       "                                              presort=False, random_state=None,\n",
       "                                              splitter='best'),\n",
       "             iid='warn', n_jobs=None,\n",
       "             param_grid={'max_depth': [1, 2, 4, 6, 8, 10, 20, 40, 100]},\n",
       "             pre_dispatch='2*n_jobs', refit=True, return_train_score=False,\n",
       "             scoring=None, verbose=0)"
      ]
     },
     "execution_count": 108,
     "metadata": {},
     "output_type": "execute_result"
    }
   ],
   "source": [
    "from sklearn import tree\n",
    "from sklearn.model_selection import GridSearchCV\n",
    "from sklearn.model_selection import ShuffleSplit\n",
    "param_grid = {'max_depth': [1,2,4,6,8,10,20,40,100]}\n",
    "search = GridSearchCV(tree.DecisionTreeClassifier(), param_grid, cv= ShuffleSplit(n_splits=5))\n",
    "search.fit(X,Z_smell)"
   ]
  },
  {
   "cell_type": "code",
   "execution_count": 109,
   "metadata": {},
   "outputs": [
    {
     "data": {
      "text/plain": [
       "0.6923076923076923"
      ]
     },
     "execution_count": 109,
     "metadata": {},
     "output_type": "execute_result"
    }
   ],
   "source": [
    "from sklearn import tree\n",
    "clf = tree.DecisionTreeClassifier(max_depth=search.best_params_['max_depth'])\n",
    "clf = clf.fit(X_train, Z_smell_train)\n",
    "prediction = clf.predict(X_test)\n",
    "np.mean(prediction == Z_smell_test)"
   ]
  },
  {
   "cell_type": "code",
   "execution_count": 113,
   "metadata": {},
   "outputs": [
    {
     "data": {
      "text/plain": [
       "[Text(581.25, 577.5, 'X[5] <= -0.747\\ngini = 0.745\\nsamples = 90\\nvalue = [25, 26, 21, 18]'),\n",
       " Text(290.625, 192.5, 'gini = 0.702\\nsamples = 35\\nvalue = [4, 6, 12, 13]'),\n",
       " Text(871.875, 192.5, 'gini = 0.687\\nsamples = 55\\nvalue = [21, 20, 9, 5]')]"
      ]
     },
     "execution_count": 113,
     "metadata": {},
     "output_type": "execute_result"
    }
   ],
   "source": [
    "import matplotlib.pyplot as plt\n",
    "plt.figure(figsize=(15,10))\n",
    "tree.plot_tree(clf)"
   ]
  },
  {
   "cell_type": "markdown",
   "metadata": {},
   "source": [
    "## d. Target: Happiness_noise"
   ]
  },
  {
   "cell_type": "code",
   "execution_count": null,
   "metadata": {},
   "outputs": [],
   "source": []
  },
  {
   "cell_type": "markdown",
   "metadata": {},
   "source": [
    "## e. Target: Happiness_perso"
   ]
  },
  {
   "cell_type": "code",
   "execution_count": null,
   "metadata": {},
   "outputs": [],
   "source": []
  },
  {
   "cell_type": "markdown",
   "metadata": {},
   "source": [
    "## f. Target: Happiness_other"
   ]
  },
  {
   "cell_type": "code",
   "execution_count": null,
   "metadata": {},
   "outputs": [],
   "source": []
  }
 ],
 "metadata": {
  "kernelspec": {
   "display_name": "Python 3",
   "language": "python",
   "name": "python3"
  },
  "language_info": {
   "codemirror_mode": {
    "name": "ipython",
    "version": 3
   },
   "file_extension": ".py",
   "mimetype": "text/x-python",
   "name": "python",
   "nbconvert_exporter": "python",
   "pygments_lexer": "ipython3",
   "version": "3.7.4"
  }
 },
 "nbformat": 4,
 "nbformat_minor": 4
}
