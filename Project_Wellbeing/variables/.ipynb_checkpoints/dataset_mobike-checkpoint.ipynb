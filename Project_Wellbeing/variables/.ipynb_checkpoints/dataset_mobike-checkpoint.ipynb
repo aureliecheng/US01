{
 "cells": [
  {
   "cell_type": "markdown",
   "metadata": {},
   "source": [
    "# Dataset - Mobike"
   ]
  },
  {
   "cell_type": "code",
   "execution_count": 1,
   "metadata": {},
   "outputs": [],
   "source": [
    "import pandas as pd\n",
    "import datetime\n",
    "import time"
   ]
  },
  {
   "cell_type": "code",
   "execution_count": 2,
   "metadata": {},
   "outputs": [],
   "source": [
    "import pickle"
   ]
  },
  {
   "cell_type": "code",
   "execution_count": 4,
   "metadata": {},
   "outputs": [],
   "source": [
    "df_mobike = pd.read_pickle('../dataset/utseus-mobike-2016.pk')"
   ]
  },
  {
   "cell_type": "code",
   "execution_count": 5,
   "metadata": {},
   "outputs": [
    {
     "data": {
      "text/html": [
       "<div>\n",
       "<style scoped>\n",
       "    .dataframe tbody tr th:only-of-type {\n",
       "        vertical-align: middle;\n",
       "    }\n",
       "\n",
       "    .dataframe tbody tr th {\n",
       "        vertical-align: top;\n",
       "    }\n",
       "\n",
       "    .dataframe thead th {\n",
       "        text-align: right;\n",
       "    }\n",
       "</style>\n",
       "<table border=\"1\" class=\"dataframe\">\n",
       "  <thead>\n",
       "    <tr style=\"text-align: right;\">\n",
       "      <th></th>\n",
       "      <th>orderid</th>\n",
       "      <th>bikeid</th>\n",
       "      <th>userid</th>\n",
       "      <th>start_time</th>\n",
       "      <th>start_location_x</th>\n",
       "      <th>start_location_y</th>\n",
       "      <th>end_time</th>\n",
       "      <th>end_location_x</th>\n",
       "      <th>end_location_y</th>\n",
       "      <th>track</th>\n",
       "    </tr>\n",
       "  </thead>\n",
       "  <tbody>\n",
       "    <tr>\n",
       "      <td>0</td>\n",
       "      <td>1</td>\n",
       "      <td>324731</td>\n",
       "      <td>7541</td>\n",
       "      <td>2016-08-28 00:00</td>\n",
       "      <td>121.49</td>\n",
       "      <td>31.28</td>\n",
       "      <td>2016-08-28 00:08</td>\n",
       "      <td>121.486</td>\n",
       "      <td>31.273</td>\n",
       "      <td>121.485,31.275#121.485,31.276#121.486,31.273#1...</td>\n",
       "    </tr>\n",
       "    <tr>\n",
       "      <td>1</td>\n",
       "      <td>6</td>\n",
       "      <td>288841</td>\n",
       "      <td>4427</td>\n",
       "      <td>2016-08-28 00:00</td>\n",
       "      <td>121.462</td>\n",
       "      <td>31.313</td>\n",
       "      <td>2016-08-28 00:17</td>\n",
       "      <td>121.455</td>\n",
       "      <td>31.315</td>\n",
       "      <td>121.455,31.313#121.455,31.314#121.455,31.315#1...</td>\n",
       "    </tr>\n",
       "    <tr>\n",
       "      <td>2</td>\n",
       "      <td>8</td>\n",
       "      <td>315873</td>\n",
       "      <td>6474</td>\n",
       "      <td>2016-08-28 00:00</td>\n",
       "      <td>121.416</td>\n",
       "      <td>31.154</td>\n",
       "      <td>2016-08-28 00:14</td>\n",
       "      <td>121.419</td>\n",
       "      <td>31.156</td>\n",
       "      <td>121.416,31.154#121.416,31.155#121.417,31.155#1...</td>\n",
       "    </tr>\n",
       "    <tr>\n",
       "      <td>3</td>\n",
       "      <td>10</td>\n",
       "      <td>93155</td>\n",
       "      <td>12616</td>\n",
       "      <td>2016-08-28 00:00</td>\n",
       "      <td>121.436</td>\n",
       "      <td>31.32</td>\n",
       "      <td>2016-08-28 00:12</td>\n",
       "      <td>121.444</td>\n",
       "      <td>31.31</td>\n",
       "      <td>121.436,31.318#121.436,31.319#121.436,31.320#1...</td>\n",
       "    </tr>\n",
       "    <tr>\n",
       "      <td>4</td>\n",
       "      <td>11</td>\n",
       "      <td>352484</td>\n",
       "      <td>11596</td>\n",
       "      <td>2016-08-28 00:00</td>\n",
       "      <td>121.459</td>\n",
       "      <td>31.325</td>\n",
       "      <td>2016-08-28 00:08</td>\n",
       "      <td>121.46</td>\n",
       "      <td>31.315</td>\n",
       "      <td>121.459,31.315#121.459,31.316#121.459,31.317#1...</td>\n",
       "    </tr>\n",
       "  </tbody>\n",
       "</table>\n",
       "</div>"
      ],
      "text/plain": [
       "  orderid  bikeid userid        start_time start_location_x start_location_y  \\\n",
       "0       1  324731   7541  2016-08-28 00:00           121.49            31.28   \n",
       "1       6  288841   4427  2016-08-28 00:00          121.462           31.313   \n",
       "2       8  315873   6474  2016-08-28 00:00          121.416           31.154   \n",
       "3      10   93155  12616  2016-08-28 00:00          121.436            31.32   \n",
       "4      11  352484  11596  2016-08-28 00:00          121.459           31.325   \n",
       "\n",
       "           end_time end_location_x end_location_y  \\\n",
       "0  2016-08-28 00:08        121.486         31.273   \n",
       "1  2016-08-28 00:17        121.455         31.315   \n",
       "2  2016-08-28 00:14        121.419         31.156   \n",
       "3  2016-08-28 00:12        121.444          31.31   \n",
       "4  2016-08-28 00:08         121.46         31.315   \n",
       "\n",
       "                                               track  \n",
       "0  121.485,31.275#121.485,31.276#121.486,31.273#1...  \n",
       "1  121.455,31.313#121.455,31.314#121.455,31.315#1...  \n",
       "2  121.416,31.154#121.416,31.155#121.417,31.155#1...  \n",
       "3  121.436,31.318#121.436,31.319#121.436,31.320#1...  \n",
       "4  121.459,31.315#121.459,31.316#121.459,31.317#1...  "
      ]
     },
     "execution_count": 5,
     "metadata": {},
     "output_type": "execute_result"
    }
   ],
   "source": [
    "df_mobike.head()"
   ]
  },
  {
   "cell_type": "code",
   "execution_count": 135,
   "metadata": {},
   "outputs": [
    {
     "data": {
      "text/plain": [
       "orderid              object\n",
       "bikeid               object\n",
       "userid               object\n",
       "start_time           object\n",
       "start_location_x    float64\n",
       "start_location_y    float64\n",
       "end_time             object\n",
       "end_location_x      float64\n",
       "end_location_y      float64\n",
       "track                object\n",
       "geometry_start       object\n",
       "geometry_end         object\n",
       "dtype: object"
      ]
     },
     "execution_count": 135,
     "metadata": {},
     "output_type": "execute_result"
    }
   ],
   "source": [
    "df_mobike.dtypes"
   ]
  },
  {
   "cell_type": "code",
   "execution_count": 134,
   "metadata": {},
   "outputs": [],
   "source": [
    "df_mobike['start_location_x'] = pd.to_numeric(df_mobike['start_location_x'])\n",
    "df_mobike['end_location_x'] = pd.to_numeric(df_mobike['end_location_x'])\n",
    "df_mobike['start_location_y'] = pd.to_numeric(df_mobike['start_location_y'])\n",
    "df_mobike['end_location_y'] = pd.to_numeric(df_mobike['end_location_y'])"
   ]
  },
  {
   "cell_type": "code",
   "execution_count": 139,
   "metadata": {},
   "outputs": [],
   "source": [
    "from shapely.geometry import Point, Polygon"
   ]
  },
  {
   "cell_type": "code",
   "execution_count": 136,
   "metadata": {},
   "outputs": [],
   "source": [
    "geometry_start = [Point(xy) for xy in zip(df_mobike['start_location_x'], df_mobike['start_location_y'])]\n",
    "geometry_end = [Point(xy) for xy in zip(df_mobike['end_location_x'], df_mobike['end_location_y'])]"
   ]
  },
  {
   "cell_type": "code",
   "execution_count": 137,
   "metadata": {},
   "outputs": [],
   "source": [
    "df_mobike['geometry_start'] = geometry_start\n",
    "df_mobike['geometry_end'] = geometry_end"
   ]
  },
  {
   "cell_type": "markdown",
   "metadata": {},
   "source": [
    "# Compute the number of mobike in each district"
   ]
  },
  {
   "cell_type": "code",
   "execution_count": 140,
   "metadata": {},
   "outputs": [
    {
     "data": {
      "text/html": [
       "<div>\n",
       "<style scoped>\n",
       "    .dataframe tbody tr th:only-of-type {\n",
       "        vertical-align: middle;\n",
       "    }\n",
       "\n",
       "    .dataframe tbody tr th {\n",
       "        vertical-align: top;\n",
       "    }\n",
       "\n",
       "    .dataframe thead th {\n",
       "        text-align: right;\n",
       "    }\n",
       "</style>\n",
       "<table border=\"1\" class=\"dataframe\">\n",
       "  <thead>\n",
       "    <tr style=\"text-align: right;\">\n",
       "      <th></th>\n",
       "      <th>NAME</th>\n",
       "      <th>TYPE</th>\n",
       "      <th>geometry</th>\n",
       "    </tr>\n",
       "  </thead>\n",
       "  <tbody>\n",
       "    <tr>\n",
       "      <td>0</td>\n",
       "      <td>??</td>\n",
       "      <td>2</td>\n",
       "      <td>POLYGON Z ((121.42168 30.68471 0.00000, 121.42...</td>\n",
       "    </tr>\n",
       "    <tr>\n",
       "      <td>1</td>\n",
       "      <td>???</td>\n",
       "      <td>2</td>\n",
       "      <td>POLYGON Z ((121.41199 30.69374 0.00000, 121.41...</td>\n",
       "    </tr>\n",
       "    <tr>\n",
       "      <td>2</td>\n",
       "      <td>???</td>\n",
       "      <td>2</td>\n",
       "      <td>POLYGON Z ((121.40163 30.70717 0.00000, 121.40...</td>\n",
       "    </tr>\n",
       "    <tr>\n",
       "      <td>3</td>\n",
       "      <td>????</td>\n",
       "      <td>2</td>\n",
       "      <td>POLYGON Z ((121.33687 30.73806 0.00000, 121.33...</td>\n",
       "    </tr>\n",
       "    <tr>\n",
       "      <td>4</td>\n",
       "      <td>????</td>\n",
       "      <td>2</td>\n",
       "      <td>POLYGON Z ((121.25143 30.79177 0.00000, 121.25...</td>\n",
       "    </tr>\n",
       "  </tbody>\n",
       "</table>\n",
       "</div>"
      ],
      "text/plain": [
       "   NAME  TYPE                                           geometry\n",
       "0    ??     2  POLYGON Z ((121.42168 30.68471 0.00000, 121.42...\n",
       "1   ???     2  POLYGON Z ((121.41199 30.69374 0.00000, 121.41...\n",
       "2   ???     2  POLYGON Z ((121.40163 30.70717 0.00000, 121.40...\n",
       "3  ????     2  POLYGON Z ((121.33687 30.73806 0.00000, 121.33...\n",
       "4  ????     2  POLYGON Z ((121.25143 30.79177 0.00000, 121.25..."
      ]
     },
     "execution_count": 140,
     "metadata": {},
     "output_type": "execute_result"
    }
   ],
   "source": [
    "df_district = pd.read_pickle('../dataset/utseus-cendus-shanghai-neighborhoods.pk')\n",
    "df_district.head()"
   ]
  },
  {
   "cell_type": "code",
   "execution_count": 142,
   "metadata": {},
   "outputs": [],
   "source": [
    "df_mobike_per_discrit = df_district[['geometry']].copy()"
   ]
  },
  {
   "cell_type": "code",
   "execution_count": 165,
   "metadata": {},
   "outputs": [],
   "source": [
    "df_mobike_per_discrit['nb_mobike'] = 0"
   ]
  },
  {
   "cell_type": "code",
   "execution_count": 159,
   "metadata": {},
   "outputs": [],
   "source": [
    "sample = df_mobike.sample(n=1000, random_state=1)"
   ]
  },
  {
   "cell_type": "code",
   "execution_count": 167,
   "metadata": {},
   "outputs": [],
   "source": [
    "for index, row in df_mobike.iterrows():\n",
    "    find_start = False\n",
    "    find_end = False\n",
    "    geom_start = row.geometry_start\n",
    "    geom_end = row.geometry_end\n",
    "    for index2, polygon in df_district['geometry'].items(): \n",
    "        if ((find_start==False) & (geom_start.within(polygon)==True)):\n",
    "            poly_start = polygon\n",
    "            index_start = index2\n",
    "            find_start = True\n",
    "        if ((find_end==False) & (geom_end.within(polygon)==True)):\n",
    "            poly_end = polygon\n",
    "            index_end = index2\n",
    "            find_end = True\n",
    "        if (find_start & find_end):\n",
    "            if (poly_start != poly_end):\n",
    "                df_mobike_per_discrit.loc[index_start, 'nb_mobike'] += 1\n",
    "                df_mobike_per_discrit.loc[index_end, 'nb_mobike'] += 1\n",
    "            else:\n",
    "                df_mobike_per_discrit.loc[index_start, 'nb_mobike'] += 1\n",
    "            break"
   ]
  },
  {
   "cell_type": "code",
   "execution_count": 1,
   "metadata": {},
   "outputs": [
    {
     "ename": "NameError",
     "evalue": "name 'df_district' is not defined",
     "output_type": "error",
     "traceback": [
      "\u001b[1;31m---------------------------------------------------------------------------\u001b[0m",
      "\u001b[1;31mNameError\u001b[0m                                 Traceback (most recent call last)",
      "\u001b[1;32m<ipython-input-1-677767664ccc>\u001b[0m in \u001b[0;36m<module>\u001b[1;34m\u001b[0m\n\u001b[1;32m----> 1\u001b[1;33m \u001b[0mdf_district\u001b[0m\u001b[1;33m.\u001b[0m\u001b[0mhead\u001b[0m\u001b[1;33m(\u001b[0m\u001b[1;36m6\u001b[0m\u001b[1;33m)\u001b[0m\u001b[1;33m\u001b[0m\u001b[1;33m\u001b[0m\u001b[0m\n\u001b[0m",
      "\u001b[1;31mNameError\u001b[0m: name 'df_district' is not defined"
     ]
    }
   ],
   "source": [
    "df_district.head(6)"
   ]
  },
  {
   "cell_type": "code",
   "execution_count": 182,
   "metadata": {},
   "outputs": [],
   "source": [
    "df_district['surface'] = df_district['geometry'].area"
   ]
  },
  {
   "cell_type": "code",
   "execution_count": 173,
   "metadata": {},
   "outputs": [],
   "source": [
    "df_mobike_per_discrit['nb_mobike_proportion'] = df_mobike_per_discrit['nb_mobike']/df_mobike_per_discrit['geometry'].area"
   ]
  },
  {
   "cell_type": "code",
   "execution_count": 176,
   "metadata": {},
   "outputs": [],
   "source": [
    "df_mobike_per_discrit.to_pickle(\"./df_mobike_per_discrit.pickle\")"
   ]
  }
 ],
 "metadata": {
  "kernelspec": {
   "display_name": "Python 3",
   "language": "python",
   "name": "python3"
  },
  "language_info": {
   "codemirror_mode": {
    "name": "ipython",
    "version": 3
   },
   "file_extension": ".py",
   "mimetype": "text/x-python",
   "name": "python",
   "nbconvert_exporter": "python",
   "pygments_lexer": "ipython3",
   "version": "3.7.4"
  }
 },
 "nbformat": 4,
 "nbformat_minor": 4
}
