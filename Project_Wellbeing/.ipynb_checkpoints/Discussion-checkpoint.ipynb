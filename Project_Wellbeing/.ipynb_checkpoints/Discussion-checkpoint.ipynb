{
 "cells": [
  {
   "cell_type": "markdown",
   "metadata": {},
   "source": [
    "# How the repository is organized:"
   ]
  },
  {
   "cell_type": "markdown",
   "metadata": {},
   "source": [
    "1. Project_Wellbeing/Dataset_preparation.ipynb: \n",
    " - load and clean target file\n",
    " - compute the happiness depending of the 3 parameters clean, smell and noise\n",
    " - work with districts\n",
    " - collect the different features, clean, scale"
   ]
  },
  {
   "cell_type": "markdown",
   "metadata": {},
   "source": [
    "2. Project_Wellbeing/Prediction.ipynb:\n",
    " - classifation of each happiness target\n",
    " - machine learning for each target"
   ]
  },
  {
   "cell_type": "markdown",
   "metadata": {},
   "source": [
    "3. Project_Wellbeing/model:\n",
    " - model (result of previous work with the best score) as pickle files"
   ]
  },
  {
   "cell_type": "markdown",
   "metadata": {},
   "source": [
    "4. Project_Wellbeing/variables:\n",
    " - jupyter notebook where I worked on inputs data \n",
    " - pickle files that resulat from the notebooks: I used these files to load the features in my dataset_preparation"
   ]
  },
  {
   "cell_type": "markdown",
   "metadata": {},
   "source": [
    "# DISCUSSION"
   ]
  },
  {
   "cell_type": "markdown",
   "metadata": {},
   "source": [
    "The goal of the project is to give recommandation to improve the wellbeing in Shanghai to City of Shanghai given what we discovered with our predictions. For that we have at our disposal several inputs data."
   ]
  },
  {
   "cell_type": "markdown",
   "metadata": {},
   "source": [
    "## Choices"
   ]
  },
  {
   "cell_type": "markdown",
   "metadata": {},
   "source": [
    "### 1. Wellbeing"
   ]
  },
  {
   "cell_type": "markdown",
   "metadata": {},
   "source": [
    "We have 3 targets clean, smell, noise. As I wanted to identify myself with people who answered the survey, I chose to define the wellbeing according different point of views. In this way, I compute 4 different target happiness by calculating the weighted average of clean, smell, noise:\n",
    "* happiness_equalCoeff: same coefficient on the 3 parameters clean, noise and smell\n",
    "* happiness_clean: put a higher coefficient on clean only\n",
    "* happiness_smell: put a higher coefficient on smell only\n",
    "* happiness_noise: put a higher coefficient on smell only\n",
    "* happiness_perso: according my personnal opinion I put a higher coefficient on smell, then noise and finally clean"
   ]
  },
  {
   "cell_type": "markdown",
   "metadata": {},
   "source": [
    "### 2. Features"
   ]
  },
  {
   "cell_type": "markdown",
   "metadata": {},
   "source": [
    "Still acording to my personnal point of view and what I think will be affecting the most on people's wellbeing, I chose:"
   ]
  },
  {
   "cell_type": "markdown",
   "metadata": {},
   "source": [
    "From utseus-cendus-poi.pk:\n",
    "* transportation\n",
    "* shopping\n",
    "* restaurant\n",
    "* scenic spot\n",
    "* stadium and gym\n",
    "From utseus-mobike-2016.pk:\n",
    "* mobike\n",
    "From beijinglab_china-park_WGS84.pk:\n",
    "* green space"
   ]
  },
  {
   "cell_type": "markdown",
   "metadata": {},
   "source": [
    "Then I chose to work on the districts of Shanghai. In this way, I compute the quantity of each different parameters (transportation, shopping, restaurant etc..) in each discrit from the dataset utseus-cendus-shanghai-neighborhoods.pk"
   ]
  },
  {
   "cell_type": "markdown",
   "metadata": {},
   "source": [
    "Finally for my prediction I only kept the discricts where we have a target point"
   ]
  },
  {
   "cell_type": "markdown",
   "metadata": {},
   "source": [
    "### 3. Classification"
   ]
  },
  {
   "cell_type": "markdown",
   "metadata": {},
   "source": [
    "I create 4 different classes for each type of happiness target: very unhappy, unhappy, happy and very happy."
   ]
  },
  {
   "cell_type": "code",
   "execution_count": null,
   "metadata": {},
   "outputs": [],
   "source": []
  }
 ],
 "metadata": {
  "kernelspec": {
   "display_name": "Python 3",
   "language": "python",
   "name": "python3"
  },
  "language_info": {
   "codemirror_mode": {
    "name": "ipython",
    "version": 3
   },
   "file_extension": ".py",
   "mimetype": "text/x-python",
   "name": "python",
   "nbconvert_exporter": "python",
   "pygments_lexer": "ipython3",
   "version": "3.7.4"
  }
 },
 "nbformat": 4,
 "nbformat_minor": 4
}
