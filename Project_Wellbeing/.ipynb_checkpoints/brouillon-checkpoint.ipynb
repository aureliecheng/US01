{
 "cells": [
  {
   "cell_type": "code",
   "execution_count": 2,
   "metadata": {},
   "outputs": [],
   "source": [
    "import pandas as pd\n",
    "from shapely.geometry import Point, Polygon\n",
    "import geopandas as gpd"
   ]
  },
  {
   "cell_type": "code",
   "execution_count": 3,
   "metadata": {},
   "outputs": [
    {
     "data": {
      "text/html": [
       "<div>\n",
       "<style scoped>\n",
       "    .dataframe tbody tr th:only-of-type {\n",
       "        vertical-align: middle;\n",
       "    }\n",
       "\n",
       "    .dataframe tbody tr th {\n",
       "        vertical-align: top;\n",
       "    }\n",
       "\n",
       "    .dataframe thead th {\n",
       "        text-align: right;\n",
       "    }\n",
       "</style>\n",
       "<table border=\"1\" class=\"dataframe\">\n",
       "  <thead>\n",
       "    <tr style=\"text-align: right;\">\n",
       "      <th></th>\n",
       "      <th>NAME</th>\n",
       "      <th>GPSX</th>\n",
       "      <th>GPSY</th>\n",
       "      <th>GBCODE</th>\n",
       "      <th>category</th>\n",
       "      <th>subcategory</th>\n",
       "      <th>subsubcategory</th>\n",
       "    </tr>\n",
       "  </thead>\n",
       "  <tbody>\n",
       "    <tr>\n",
       "      <td>0</td>\n",
       "      <td>2015年中国国际纱线(春夏)展览会</td>\n",
       "      <td>121.296368</td>\n",
       "      <td>31.188324</td>\n",
       "      <td>990000.0</td>\n",
       "      <td>Other points of interest</td>\n",
       "      <td>Natural Place Name Identification Points</td>\n",
       "      <td>Entrance name</td>\n",
       "    </tr>\n",
       "    <tr>\n",
       "      <td>1</td>\n",
       "      <td>勃兰登堡之声-2015家庭音乐会</td>\n",
       "      <td>121.473360</td>\n",
       "      <td>31.228923</td>\n",
       "      <td>990000.0</td>\n",
       "      <td>Other points of interest</td>\n",
       "      <td>Natural Place Name Identification Points</td>\n",
       "      <td>Entrance name</td>\n",
       "    </tr>\n",
       "    <tr>\n",
       "      <td>2</td>\n",
       "      <td>2015第十四届(上海)国际有机食品和绿色食品博览会</td>\n",
       "      <td>121.399378</td>\n",
       "      <td>31.205028</td>\n",
       "      <td>990000.0</td>\n",
       "      <td>Other points of interest</td>\n",
       "      <td>Natural Place Name Identification Points</td>\n",
       "      <td>Entrance name</td>\n",
       "    </tr>\n",
       "    <tr>\n",
       "      <td>3</td>\n",
       "      <td>星星火炬上海组委会</td>\n",
       "      <td>121.529628</td>\n",
       "      <td>31.271063</td>\n",
       "      <td>990000.0</td>\n",
       "      <td>Other points of interest</td>\n",
       "      <td>Natural Place Name Identification Points</td>\n",
       "      <td>Entrance name</td>\n",
       "    </tr>\n",
       "    <tr>\n",
       "      <td>4</td>\n",
       "      <td>2016VGT国际铁人三项赛</td>\n",
       "      <td>121.169185</td>\n",
       "      <td>31.282332</td>\n",
       "      <td>990000.0</td>\n",
       "      <td>Other points of interest</td>\n",
       "      <td>Natural Place Name Identification Points</td>\n",
       "      <td>Entrance name</td>\n",
       "    </tr>\n",
       "  </tbody>\n",
       "</table>\n",
       "</div>"
      ],
      "text/plain": [
       "                         NAME        GPSX       GPSY    GBCODE  \\\n",
       "0          2015年中国国际纱线(春夏)展览会  121.296368  31.188324  990000.0   \n",
       "1            勃兰登堡之声-2015家庭音乐会  121.473360  31.228923  990000.0   \n",
       "2  2015第十四届(上海)国际有机食品和绿色食品博览会  121.399378  31.205028  990000.0   \n",
       "3                   星星火炬上海组委会  121.529628  31.271063  990000.0   \n",
       "4              2016VGT国际铁人三项赛  121.169185  31.282332  990000.0   \n",
       "\n",
       "                   category                               subcategory  \\\n",
       "0  Other points of interest  Natural Place Name Identification Points   \n",
       "1  Other points of interest  Natural Place Name Identification Points   \n",
       "2  Other points of interest  Natural Place Name Identification Points   \n",
       "3  Other points of interest  Natural Place Name Identification Points   \n",
       "4  Other points of interest  Natural Place Name Identification Points   \n",
       "\n",
       "  subsubcategory  \n",
       "0  Entrance name  \n",
       "1  Entrance name  \n",
       "2  Entrance name  \n",
       "3  Entrance name  \n",
       "4  Entrance name  "
      ]
     },
     "execution_count": 3,
     "metadata": {},
     "output_type": "execute_result"
    }
   ],
   "source": [
    "df_POI = pd.read_pickle(\"./dataset/utseus-cendus-poi.pk\")\n",
    "df_POI.head()"
   ]
  },
  {
   "cell_type": "code",
   "execution_count": 18,
   "metadata": {},
   "outputs": [
    {
     "data": {
      "text/plain": [
       "array(['Other points of interest', 'Transportation', 'Organ group',\n",
       "       'Shopping', 'Restaurant', nan, 'Company business', 'Scenic spot',\n",
       "       'Life service', 'Get accommodation', 'Sports and leisure',\n",
       "       'Real Estate Park and Warehousing',\n",
       "       'Science and education culture',\n",
       "       'Location Location Identification Points', 'Financial insurance',\n",
       "       'Health social security'], dtype=object)"
      ]
     },
     "execution_count": 18,
     "metadata": {},
     "output_type": "execute_result"
    }
   ],
   "source": [
    "df_POI['category'].unique()"
   ]
  },
  {
   "cell_type": "code",
   "execution_count": 25,
   "metadata": {},
   "outputs": [
    {
     "data": {
      "text/plain": [
       "array(['Warehouse', 'factory and mining enterprises',\n",
       "       'Administrative Place Name Identification Points',\n",
       "       'Agriculture, forestry, animal husbandry and fishery',\n",
       "       'Location Location Identification Points',\n",
       "       'Other companies and enterprises', 'company',\n",
       "       'Other Real Estate Parks and Warehousing', 'Industrial Park'],\n",
       "      dtype=object)"
      ]
     },
     "execution_count": 25,
     "metadata": {},
     "output_type": "execute_result"
    }
   ],
   "source": [
    "df_POI[df_POI['category']==\"Location Location Identification Points\"].subcategory.unique()"
   ]
  },
  {
   "cell_type": "code",
   "execution_count": 32,
   "metadata": {},
   "outputs": [
    {
     "data": {
      "text/html": [
       "<div>\n",
       "<style scoped>\n",
       "    .dataframe tbody tr th:only-of-type {\n",
       "        vertical-align: middle;\n",
       "    }\n",
       "\n",
       "    .dataframe tbody tr th {\n",
       "        vertical-align: top;\n",
       "    }\n",
       "\n",
       "    .dataframe thead th {\n",
       "        text-align: right;\n",
       "    }\n",
       "</style>\n",
       "<table border=\"1\" class=\"dataframe\">\n",
       "  <thead>\n",
       "    <tr style=\"text-align: right;\">\n",
       "      <th></th>\n",
       "      <th>geometry</th>\n",
       "      <th>nb_transportation</th>\n",
       "      <th>nb_shopping</th>\n",
       "      <th>nb_restaurant</th>\n",
       "      <th>nb_scenicSpot</th>\n",
       "      <th>nb_stadiumAndGym</th>\n",
       "    </tr>\n",
       "  </thead>\n",
       "  <tbody>\n",
       "    <tr>\n",
       "      <td>0</td>\n",
       "      <td>POLYGON Z ((121.42168 30.68471 0.00000, 121.42...</td>\n",
       "      <td>0</td>\n",
       "      <td>0</td>\n",
       "      <td>0</td>\n",
       "      <td>0</td>\n",
       "      <td>0</td>\n",
       "    </tr>\n",
       "    <tr>\n",
       "      <td>1</td>\n",
       "      <td>POLYGON Z ((121.41199 30.69374 0.00000, 121.41...</td>\n",
       "      <td>0</td>\n",
       "      <td>0</td>\n",
       "      <td>0</td>\n",
       "      <td>0</td>\n",
       "      <td>0</td>\n",
       "    </tr>\n",
       "    <tr>\n",
       "      <td>2</td>\n",
       "      <td>POLYGON Z ((121.40163 30.70717 0.00000, 121.40...</td>\n",
       "      <td>0</td>\n",
       "      <td>0</td>\n",
       "      <td>0</td>\n",
       "      <td>0</td>\n",
       "      <td>0</td>\n",
       "    </tr>\n",
       "    <tr>\n",
       "      <td>3</td>\n",
       "      <td>POLYGON Z ((121.33687 30.73806 0.00000, 121.33...</td>\n",
       "      <td>1087</td>\n",
       "      <td>1789</td>\n",
       "      <td>748</td>\n",
       "      <td>28</td>\n",
       "      <td>32</td>\n",
       "    </tr>\n",
       "    <tr>\n",
       "      <td>4</td>\n",
       "      <td>POLYGON Z ((121.25143 30.79177 0.00000, 121.25...</td>\n",
       "      <td>1428</td>\n",
       "      <td>1762</td>\n",
       "      <td>616</td>\n",
       "      <td>9</td>\n",
       "      <td>12</td>\n",
       "    </tr>\n",
       "  </tbody>\n",
       "</table>\n",
       "</div>"
      ],
      "text/plain": [
       "                                            geometry  nb_transportation  \\\n",
       "0  POLYGON Z ((121.42168 30.68471 0.00000, 121.42...                  0   \n",
       "1  POLYGON Z ((121.41199 30.69374 0.00000, 121.41...                  0   \n",
       "2  POLYGON Z ((121.40163 30.70717 0.00000, 121.40...                  0   \n",
       "3  POLYGON Z ((121.33687 30.73806 0.00000, 121.33...               1087   \n",
       "4  POLYGON Z ((121.25143 30.79177 0.00000, 121.25...               1428   \n",
       "\n",
       "   nb_shopping  nb_restaurant  nb_scenicSpot  nb_stadiumAndGym  \n",
       "0            0              0              0                 0  \n",
       "1            0              0              0                 0  \n",
       "2            0              0              0                 0  \n",
       "3         1789            748             28                32  \n",
       "4         1762            616              9                12  "
      ]
     },
     "execution_count": 32,
     "metadata": {},
     "output_type": "execute_result"
    }
   ],
   "source": [
    "df = pd.read_pickle(\"./variables/poi_per_district.pkl\")\n",
    "df.head()"
   ]
  },
  {
   "cell_type": "code",
   "execution_count": null,
   "metadata": {},
   "outputs": [],
   "source": []
  }
 ],
 "metadata": {
  "kernelspec": {
   "display_name": "Python 3",
   "language": "python",
   "name": "python3"
  },
  "language_info": {
   "codemirror_mode": {
    "name": "ipython",
    "version": 3
   },
   "file_extension": ".py",
   "mimetype": "text/x-python",
   "name": "python",
   "nbconvert_exporter": "python",
   "pygments_lexer": "ipython3",
   "version": "3.7.4"
  }
 },
 "nbformat": 4,
 "nbformat_minor": 4
}
