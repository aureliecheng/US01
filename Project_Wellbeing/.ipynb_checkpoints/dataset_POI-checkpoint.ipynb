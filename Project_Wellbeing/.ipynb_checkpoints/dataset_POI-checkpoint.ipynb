{
 "cells": [
  {
   "cell_type": "markdown",
   "metadata": {},
   "source": [
    "# Dataset - POI "
   ]
  },
  {
   "cell_type": "code",
   "execution_count": 1,
   "metadata": {},
   "outputs": [],
   "source": [
    "import pandas as pd\n",
    "from shapely.geometry import Point # Shapely for converting latitude/longtitude to geometry\n",
    "import geopandas as gpd # To create GeodataFrame"
   ]
  },
  {
   "cell_type": "code",
   "execution_count": 2,
   "metadata": {},
   "outputs": [
    {
     "data": {
      "text/html": [
       "<div>\n",
       "<style scoped>\n",
       "    .dataframe tbody tr th:only-of-type {\n",
       "        vertical-align: middle;\n",
       "    }\n",
       "\n",
       "    .dataframe tbody tr th {\n",
       "        vertical-align: top;\n",
       "    }\n",
       "\n",
       "    .dataframe thead th {\n",
       "        text-align: right;\n",
       "    }\n",
       "</style>\n",
       "<table border=\"1\" class=\"dataframe\">\n",
       "  <thead>\n",
       "    <tr style=\"text-align: right;\">\n",
       "      <th></th>\n",
       "      <th>NAME</th>\n",
       "      <th>GPSX</th>\n",
       "      <th>GPSY</th>\n",
       "      <th>GBCODE</th>\n",
       "      <th>category</th>\n",
       "      <th>subcategory</th>\n",
       "      <th>subsubcategory</th>\n",
       "    </tr>\n",
       "  </thead>\n",
       "  <tbody>\n",
       "    <tr>\n",
       "      <th>0</th>\n",
       "      <td>2015年中国国际纱线(春夏)展览会</td>\n",
       "      <td>121.296368</td>\n",
       "      <td>31.188324</td>\n",
       "      <td>990000.0</td>\n",
       "      <td>Other points of interest</td>\n",
       "      <td>Natural Place Name Identification Points</td>\n",
       "      <td>Entrance name</td>\n",
       "    </tr>\n",
       "    <tr>\n",
       "      <th>1</th>\n",
       "      <td>勃兰登堡之声-2015家庭音乐会</td>\n",
       "      <td>121.473360</td>\n",
       "      <td>31.228923</td>\n",
       "      <td>990000.0</td>\n",
       "      <td>Other points of interest</td>\n",
       "      <td>Natural Place Name Identification Points</td>\n",
       "      <td>Entrance name</td>\n",
       "    </tr>\n",
       "    <tr>\n",
       "      <th>2</th>\n",
       "      <td>2015第十四届(上海)国际有机食品和绿色食品博览会</td>\n",
       "      <td>121.399378</td>\n",
       "      <td>31.205028</td>\n",
       "      <td>990000.0</td>\n",
       "      <td>Other points of interest</td>\n",
       "      <td>Natural Place Name Identification Points</td>\n",
       "      <td>Entrance name</td>\n",
       "    </tr>\n",
       "    <tr>\n",
       "      <th>3</th>\n",
       "      <td>星星火炬上海组委会</td>\n",
       "      <td>121.529628</td>\n",
       "      <td>31.271063</td>\n",
       "      <td>990000.0</td>\n",
       "      <td>Other points of interest</td>\n",
       "      <td>Natural Place Name Identification Points</td>\n",
       "      <td>Entrance name</td>\n",
       "    </tr>\n",
       "    <tr>\n",
       "      <th>4</th>\n",
       "      <td>2016VGT国际铁人三项赛</td>\n",
       "      <td>121.169185</td>\n",
       "      <td>31.282332</td>\n",
       "      <td>990000.0</td>\n",
       "      <td>Other points of interest</td>\n",
       "      <td>Natural Place Name Identification Points</td>\n",
       "      <td>Entrance name</td>\n",
       "    </tr>\n",
       "  </tbody>\n",
       "</table>\n",
       "</div>"
      ],
      "text/plain": [
       "                         NAME        GPSX       GPSY    GBCODE  \\\n",
       "0          2015年中国国际纱线(春夏)展览会  121.296368  31.188324  990000.0   \n",
       "1            勃兰登堡之声-2015家庭音乐会  121.473360  31.228923  990000.0   \n",
       "2  2015第十四届(上海)国际有机食品和绿色食品博览会  121.399378  31.205028  990000.0   \n",
       "3                   星星火炬上海组委会  121.529628  31.271063  990000.0   \n",
       "4              2016VGT国际铁人三项赛  121.169185  31.282332  990000.0   \n",
       "\n",
       "                   category                               subcategory  \\\n",
       "0  Other points of interest  Natural Place Name Identification Points   \n",
       "1  Other points of interest  Natural Place Name Identification Points   \n",
       "2  Other points of interest  Natural Place Name Identification Points   \n",
       "3  Other points of interest  Natural Place Name Identification Points   \n",
       "4  Other points of interest  Natural Place Name Identification Points   \n",
       "\n",
       "  subsubcategory  \n",
       "0  Entrance name  \n",
       "1  Entrance name  \n",
       "2  Entrance name  \n",
       "3  Entrance name  \n",
       "4  Entrance name  "
      ]
     },
     "execution_count": 2,
     "metadata": {},
     "output_type": "execute_result"
    }
   ],
   "source": [
    "df_POI = pd.read_pickle(\"./dataset/utseus-cendus-poi.pk\")\n",
    "df_POI.head()"
   ]
  },
  {
   "cell_type": "code",
   "execution_count": 9,
   "metadata": {},
   "outputs": [
    {
     "data": {
      "text/plain": [
       "array(['Other points of interest', 'Transportation', 'Organ group',\n",
       "       'Shopping', 'Restaurant', nan, 'Company business', 'Scenic spot',\n",
       "       'Life service', 'Get accommodation', 'Sports and leisure',\n",
       "       'Real Estate Park and Warehousing',\n",
       "       'Science and education culture',\n",
       "       'Location Location Identification Points', 'Financial insurance',\n",
       "       'Health social security'], dtype=object)"
      ]
     },
     "execution_count": 9,
     "metadata": {},
     "output_type": "execute_result"
    }
   ],
   "source": [
    "df_POI.category.unique()"
   ]
  },
  {
   "cell_type": "code",
   "execution_count": 11,
   "metadata": {},
   "outputs": [
    {
     "data": {
      "text/plain": [
       "array(['Natural Place Name Identification Points', 'Energy accounts for',\n",
       "       'Cable car service and facilities',\n",
       "       'Waterway services and facilities',\n",
       "       'Aviation services and facilities', 'Vehicle Sales Shop',\n",
       "       'Chinese Restaurant', 'Leisure Restaurant',\n",
       "       'Intercity Highway Traffic Services and Facilities',\n",
       "       'Urban rail transit services and facilities',\n",
       "       'Railway services and facilities', 'Social groups/associations',\n",
       "       'Foundation', nan, 'Service area', 'Communal facilities',\n",
       "       'Bath Hot Spring Place', 'Other organ groups',\n",
       "       'Resident Services - Home Economics Services',\n",
       "       'Intermediary services', 'Other accommodation', 'Leisure vacation',\n",
       "       'Entertainment place', 'Business services',\n",
       "       'Massage Beauty and Health Care Place', 'Star rated hotel',\n",
       "       'Economy Chain Hotel', 'Hotels/Hostels', 'Ordinary Hotel',\n",
       "       'Stadium and Gymnasium', 'Coal electricity and water vapor',\n",
       "       'Fare service', 'Science and Education Cultural Stadium',\n",
       "       'theme park', 'Other restaurants', 'Supermarket Convenience Store',\n",
       "       'Other shopping places', 'Vehicle Management Agency',\n",
       "       'Insurance company', 'Warehouse', 'factory and mining enterprises',\n",
       "       'Administrative Place Name Identification Points',\n",
       "       'Agriculture, forestry, animal husbandry and fishery',\n",
       "       'Location Location Identification Points',\n",
       "       'Other companies and enterprises',\n",
       "       'Other financial and insurance institutions',\n",
       "       'Grass-roots Autonomous Organizations', 'Government organs',\n",
       "       'Institutions of Public Prosecution Law',\n",
       "       'Government-affiliated institutions',\n",
       "       'Industrial and Commercial Taxation Institutions',\n",
       "       'Foreign institutions', 'Vehicle management agency',\n",
       "       'Cultural media', 'Market', 'company', 'Exclusive shop',\n",
       "       'Park Plaza', 'Parking lot', 'Home Appliance Digital Retail Store',\n",
       "       'Training institutions',\n",
       "       'Other Scientific and Educational Cultures', 'Access facilities',\n",
       "       'Western Restaurant', 'Snack Bar', 'Movie theater',\n",
       "       'Sports and leisure', 'Retail store of sporting goods',\n",
       "       'Places of historic figures and cultural heritage',\n",
       "       'Bridge Tunnel-Overpass', 'Commodity retail stores', 'School',\n",
       "       'Other transport services and facilities', 'Vehicle service',\n",
       "       'Other Life Services', 'Marriage service',\n",
       "       'literature and art organization',\n",
       "       'scientific research institution',\n",
       "       'Home Building Materials Retail Shop',\n",
       "       'Clothing, shoes and leather retail store', 'Credit cooperative',\n",
       "       'Finance company',\n",
       "       'Food-beverage and tobacco products retail stores',\n",
       "       'Clocks and jewelry retail store', 'Integrated market',\n",
       "       'Funeral services', 'Real Estate Park and Warehousing',\n",
       "       'Residential district', 'Specialized hospital', 'general hospital',\n",
       "       'Clinic door Zhen', 'Disease Prevention and Control Agency',\n",
       "       'Health center', 'Animal medical institutions',\n",
       "       'Medical and Health Sales Shop', 'Emergency Center (Station)',\n",
       "       'Characteristic Commercial Street', 'Toll Gate',\n",
       "       'Other Real Estate Parks and Warehousing', 'Industrial Park',\n",
       "       'Post and Telecommunications Express', 'Organ group', 'Sanatorium',\n",
       "       'Urban public transport services and facilities', 'Daily service',\n",
       "       'Flower, Bird, Insect and Fish Market',\n",
       "       'Center for Cultural Exchange', 'Other tourist attractions',\n",
       "       'Financial insurance', 'Natural Landscape-Historic Holy Land'],\n",
       "      dtype=object)"
      ]
     },
     "execution_count": 11,
     "metadata": {},
     "output_type": "execute_result"
    }
   ],
   "source": [
    "df_POI.subcategory.unique()"
   ]
  },
  {
   "cell_type": "markdown",
   "metadata": {},
   "source": [
    "## Create geometry points"
   ]
  },
  {
   "cell_type": "code",
   "execution_count": 5,
   "metadata": {},
   "outputs": [],
   "source": [
    "geometry = [Point(xy) for xy in zip(df_POI['GPSX'], df_POI['GPSY'])]"
   ]
  },
  {
   "cell_type": "code",
   "execution_count": 6,
   "metadata": {},
   "outputs": [],
   "source": [
    "df_POI['geometry'] = geometry"
   ]
  },
  {
   "cell_type": "code",
   "execution_count": 8,
   "metadata": {},
   "outputs": [
    {
     "data": {
      "text/html": [
       "<div>\n",
       "<style scoped>\n",
       "    .dataframe tbody tr th:only-of-type {\n",
       "        vertical-align: middle;\n",
       "    }\n",
       "\n",
       "    .dataframe tbody tr th {\n",
       "        vertical-align: top;\n",
       "    }\n",
       "\n",
       "    .dataframe thead th {\n",
       "        text-align: right;\n",
       "    }\n",
       "</style>\n",
       "<table border=\"1\" class=\"dataframe\">\n",
       "  <thead>\n",
       "    <tr style=\"text-align: right;\">\n",
       "      <th></th>\n",
       "      <th>NAME</th>\n",
       "      <th>GPSX</th>\n",
       "      <th>GPSY</th>\n",
       "      <th>GBCODE</th>\n",
       "      <th>category</th>\n",
       "      <th>subcategory</th>\n",
       "      <th>subsubcategory</th>\n",
       "      <th>geometry</th>\n",
       "    </tr>\n",
       "  </thead>\n",
       "  <tbody>\n",
       "    <tr>\n",
       "      <th>0</th>\n",
       "      <td>2015年中国国际纱线(春夏)展览会</td>\n",
       "      <td>121.296368</td>\n",
       "      <td>31.188324</td>\n",
       "      <td>990000.0</td>\n",
       "      <td>Other points of interest</td>\n",
       "      <td>Natural Place Name Identification Points</td>\n",
       "      <td>Entrance name</td>\n",
       "      <td>POINT (121.296368 31.188324)</td>\n",
       "    </tr>\n",
       "    <tr>\n",
       "      <th>1</th>\n",
       "      <td>勃兰登堡之声-2015家庭音乐会</td>\n",
       "      <td>121.473360</td>\n",
       "      <td>31.228923</td>\n",
       "      <td>990000.0</td>\n",
       "      <td>Other points of interest</td>\n",
       "      <td>Natural Place Name Identification Points</td>\n",
       "      <td>Entrance name</td>\n",
       "      <td>POINT (121.47336 31.228923)</td>\n",
       "    </tr>\n",
       "    <tr>\n",
       "      <th>2</th>\n",
       "      <td>2015第十四届(上海)国际有机食品和绿色食品博览会</td>\n",
       "      <td>121.399378</td>\n",
       "      <td>31.205028</td>\n",
       "      <td>990000.0</td>\n",
       "      <td>Other points of interest</td>\n",
       "      <td>Natural Place Name Identification Points</td>\n",
       "      <td>Entrance name</td>\n",
       "      <td>POINT (121.399378 31.205028)</td>\n",
       "    </tr>\n",
       "    <tr>\n",
       "      <th>3</th>\n",
       "      <td>星星火炬上海组委会</td>\n",
       "      <td>121.529628</td>\n",
       "      <td>31.271063</td>\n",
       "      <td>990000.0</td>\n",
       "      <td>Other points of interest</td>\n",
       "      <td>Natural Place Name Identification Points</td>\n",
       "      <td>Entrance name</td>\n",
       "      <td>POINT (121.529628 31.271063)</td>\n",
       "    </tr>\n",
       "    <tr>\n",
       "      <th>4</th>\n",
       "      <td>2016VGT国际铁人三项赛</td>\n",
       "      <td>121.169185</td>\n",
       "      <td>31.282332</td>\n",
       "      <td>990000.0</td>\n",
       "      <td>Other points of interest</td>\n",
       "      <td>Natural Place Name Identification Points</td>\n",
       "      <td>Entrance name</td>\n",
       "      <td>POINT (121.169185 31.282332)</td>\n",
       "    </tr>\n",
       "  </tbody>\n",
       "</table>\n",
       "</div>"
      ],
      "text/plain": [
       "                         NAME        GPSX       GPSY    GBCODE  \\\n",
       "0          2015年中国国际纱线(春夏)展览会  121.296368  31.188324  990000.0   \n",
       "1            勃兰登堡之声-2015家庭音乐会  121.473360  31.228923  990000.0   \n",
       "2  2015第十四届(上海)国际有机食品和绿色食品博览会  121.399378  31.205028  990000.0   \n",
       "3                   星星火炬上海组委会  121.529628  31.271063  990000.0   \n",
       "4              2016VGT国际铁人三项赛  121.169185  31.282332  990000.0   \n",
       "\n",
       "                   category                               subcategory  \\\n",
       "0  Other points of interest  Natural Place Name Identification Points   \n",
       "1  Other points of interest  Natural Place Name Identification Points   \n",
       "2  Other points of interest  Natural Place Name Identification Points   \n",
       "3  Other points of interest  Natural Place Name Identification Points   \n",
       "4  Other points of interest  Natural Place Name Identification Points   \n",
       "\n",
       "  subsubcategory                      geometry  \n",
       "0  Entrance name  POINT (121.296368 31.188324)  \n",
       "1  Entrance name   POINT (121.47336 31.228923)  \n",
       "2  Entrance name  POINT (121.399378 31.205028)  \n",
       "3  Entrance name  POINT (121.529628 31.271063)  \n",
       "4  Entrance name  POINT (121.169185 31.282332)  "
      ]
     },
     "execution_count": 8,
     "metadata": {},
     "output_type": "execute_result"
    }
   ],
   "source": [
    "df_POI.head()"
   ]
  },
  {
   "cell_type": "code",
   "execution_count": 59,
   "metadata": {},
   "outputs": [],
   "source": [
    "df_POI.to_pickle(\"./dataset/savedDF_POI_geom.pkl\")"
   ]
  },
  {
   "cell_type": "code",
   "execution_count": null,
   "metadata": {},
   "outputs": [],
   "source": []
  }
 ],
 "metadata": {
  "kernelspec": {
   "display_name": "Python 3",
   "language": "python",
   "name": "python3"
  },
  "language_info": {
   "codemirror_mode": {
    "name": "ipython",
    "version": 3
   },
   "file_extension": ".py",
   "mimetype": "text/x-python",
   "name": "python",
   "nbconvert_exporter": "python",
   "pygments_lexer": "ipython3",
   "version": "3.7.3"
  }
 },
 "nbformat": 4,
 "nbformat_minor": 4
}
