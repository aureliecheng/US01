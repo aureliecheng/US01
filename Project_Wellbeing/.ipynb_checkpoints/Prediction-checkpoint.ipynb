{
 "cells": [
  {
   "cell_type": "markdown",
   "metadata": {},
   "source": [
    "# Project - Predict the wellbeing of shanghainese communities"
   ]
  },
  {
   "cell_type": "markdown",
   "metadata": {},
   "source": [
    "# MACHINE LEARNING"
   ]
  },
  {
   "cell_type": "code",
   "execution_count": 11,
   "metadata": {},
   "outputs": [],
   "source": [
    "import pandas as pd\n",
    "import numpy as np"
   ]
  },
  {
   "cell_type": "code",
   "execution_count": 16,
   "metadata": {},
   "outputs": [],
   "source": [
    "df_predict = pd.read_pickle(\"df_prediction.pkl\")"
   ]
  },
  {
   "cell_type": "code",
   "execution_count": 17,
   "metadata": {},
   "outputs": [
    {
     "data": {
      "text/html": [
       "<div>\n",
       "<style scoped>\n",
       "    .dataframe tbody tr th:only-of-type {\n",
       "        vertical-align: middle;\n",
       "    }\n",
       "\n",
       "    .dataframe tbody tr th {\n",
       "        vertical-align: top;\n",
       "    }\n",
       "\n",
       "    .dataframe thead th {\n",
       "        text-align: right;\n",
       "    }\n",
       "</style>\n",
       "<table border=\"1\" class=\"dataframe\">\n",
       "  <thead>\n",
       "    <tr style=\"text-align: right;\">\n",
       "      <th></th>\n",
       "      <th>nb_transportation_scaled</th>\n",
       "      <th>nb_shopping_scaled</th>\n",
       "      <th>nb_restaurant_scaled</th>\n",
       "      <th>nb_scenicSpot_scaled</th>\n",
       "      <th>nb_stadiumAndGym_scaled</th>\n",
       "      <th>nb_mobike_scaled</th>\n",
       "      <th>green_space_scaled</th>\n",
       "      <th>happiness_equalCoff</th>\n",
       "      <th>happiness_clean</th>\n",
       "      <th>happiness_smell</th>\n",
       "      <th>happiness_noise</th>\n",
       "      <th>happiness_perso</th>\n",
       "      <th>happiness_other</th>\n",
       "    </tr>\n",
       "  </thead>\n",
       "  <tbody>\n",
       "    <tr>\n",
       "      <td>0</td>\n",
       "      <td>-0.757151</td>\n",
       "      <td>-0.598362</td>\n",
       "      <td>-0.721806</td>\n",
       "      <td>-0.405934</td>\n",
       "      <td>-0.747588</td>\n",
       "      <td>-0.808407</td>\n",
       "      <td>0.265348</td>\n",
       "      <td>1.666667</td>\n",
       "      <td>2.428571</td>\n",
       "      <td>1.285714</td>\n",
       "      <td>1.285714</td>\n",
       "      <td>1.600000</td>\n",
       "      <td>1.444444</td>\n",
       "    </tr>\n",
       "    <tr>\n",
       "      <td>1</td>\n",
       "      <td>-0.838055</td>\n",
       "      <td>-0.682104</td>\n",
       "      <td>-0.801698</td>\n",
       "      <td>-0.404075</td>\n",
       "      <td>-0.792245</td>\n",
       "      <td>-0.808407</td>\n",
       "      <td>0.265348</td>\n",
       "      <td>1.333333</td>\n",
       "      <td>2.095238</td>\n",
       "      <td>0.952381</td>\n",
       "      <td>0.952381</td>\n",
       "      <td>1.266667</td>\n",
       "      <td>1.111111</td>\n",
       "    </tr>\n",
       "    <tr>\n",
       "      <td>2</td>\n",
       "      <td>-0.905242</td>\n",
       "      <td>-0.692630</td>\n",
       "      <td>-0.810939</td>\n",
       "      <td>-0.427699</td>\n",
       "      <td>-0.807475</td>\n",
       "      <td>-0.808395</td>\n",
       "      <td>0.265348</td>\n",
       "      <td>1.666667</td>\n",
       "      <td>2.428571</td>\n",
       "      <td>1.285714</td>\n",
       "      <td>1.285714</td>\n",
       "      <td>1.600000</td>\n",
       "      <td>1.444444</td>\n",
       "    </tr>\n",
       "    <tr>\n",
       "      <td>3</td>\n",
       "      <td>-0.911484</td>\n",
       "      <td>-0.694507</td>\n",
       "      <td>-0.783498</td>\n",
       "      <td>-0.381704</td>\n",
       "      <td>-0.775861</td>\n",
       "      <td>-0.808336</td>\n",
       "      <td>0.265348</td>\n",
       "      <td>1.333333</td>\n",
       "      <td>1.714286</td>\n",
       "      <td>1.142857</td>\n",
       "      <td>1.142857</td>\n",
       "      <td>1.300000</td>\n",
       "      <td>1.222222</td>\n",
       "    </tr>\n",
       "    <tr>\n",
       "      <td>4</td>\n",
       "      <td>-0.905943</td>\n",
       "      <td>-0.688400</td>\n",
       "      <td>-0.805164</td>\n",
       "      <td>-0.421503</td>\n",
       "      <td>-0.800932</td>\n",
       "      <td>-0.808370</td>\n",
       "      <td>0.265348</td>\n",
       "      <td>1.000000</td>\n",
       "      <td>1.571429</td>\n",
       "      <td>1.000000</td>\n",
       "      <td>0.428571</td>\n",
       "      <td>1.100000</td>\n",
       "      <td>0.666667</td>\n",
       "    </tr>\n",
       "  </tbody>\n",
       "</table>\n",
       "</div>"
      ],
      "text/plain": [
       "   nb_transportation_scaled  nb_shopping_scaled  nb_restaurant_scaled  \\\n",
       "0                 -0.757151           -0.598362             -0.721806   \n",
       "1                 -0.838055           -0.682104             -0.801698   \n",
       "2                 -0.905242           -0.692630             -0.810939   \n",
       "3                 -0.911484           -0.694507             -0.783498   \n",
       "4                 -0.905943           -0.688400             -0.805164   \n",
       "\n",
       "   nb_scenicSpot_scaled  nb_stadiumAndGym_scaled  nb_mobike_scaled  \\\n",
       "0             -0.405934                -0.747588         -0.808407   \n",
       "1             -0.404075                -0.792245         -0.808407   \n",
       "2             -0.427699                -0.807475         -0.808395   \n",
       "3             -0.381704                -0.775861         -0.808336   \n",
       "4             -0.421503                -0.800932         -0.808370   \n",
       "\n",
       "   green_space_scaled  happiness_equalCoff  happiness_clean  happiness_smell  \\\n",
       "0            0.265348             1.666667         2.428571         1.285714   \n",
       "1            0.265348             1.333333         2.095238         0.952381   \n",
       "2            0.265348             1.666667         2.428571         1.285714   \n",
       "3            0.265348             1.333333         1.714286         1.142857   \n",
       "4            0.265348             1.000000         1.571429         1.000000   \n",
       "\n",
       "   happiness_noise  happiness_perso  happiness_other  \n",
       "0         1.285714         1.600000         1.444444  \n",
       "1         0.952381         1.266667         1.111111  \n",
       "2         1.285714         1.600000         1.444444  \n",
       "3         1.142857         1.300000         1.222222  \n",
       "4         0.428571         1.100000         0.666667  "
      ]
     },
     "execution_count": 17,
     "metadata": {},
     "output_type": "execute_result"
    }
   ],
   "source": [
    "df_predict.head()"
   ]
  },
  {
   "cell_type": "markdown",
   "metadata": {},
   "source": [
    "# 1. Classification"
   ]
  },
  {
   "cell_type": "markdown",
   "metadata": {},
   "source": [
    "## a. Happiness when clean, smell, noise have the same coefficient"
   ]
  },
  {
   "cell_type": "code",
   "execution_count": 21,
   "metadata": {},
   "outputs": [],
   "source": [
    "X = df_predict[['nb_transportation_scaled', 'nb_shopping_scaled', 'nb_restaurant_scaled', 'nb_scenicSpot_scaled', 'nb_stadiumAndGym_scaled', 'nb_mobike_scaled', 'green_space_scaled']] #features\n",
    "Y_coeff = df_predict['happiness_equalCoff'] #target"
   ]
  },
  {
   "cell_type": "code",
   "execution_count": 23,
   "metadata": {},
   "outputs": [],
   "source": [
    "Z_coeff = pd.DataFrame.copy(Y_coeff)\n",
    "Z_coeff[Y_coeff <= np.quantile(Y_coeff,0.25)] = \"Very unhappy\" # could also use class 1,2,3,4\n",
    "Z_coeff[(Y_coeff > np.quantile(Y_coeff, 0.25)) & (Y_coeff <= np.quantile(Y_coeff, 0.5))] = \"Unhappy\"\n",
    "Z_coeff[(Y_coeff > np.quantile(Y_coeff, 0.5)) & (Y_coeff <= np.quantile(Y_coeff, 0.75))] = \"Happy\"\n",
    "Z_coeff[Y_coeff> np.quantile(Y_coeff,0.75)] = \"Very happy\""
   ]
  },
  {
   "cell_type": "code",
   "execution_count": 26,
   "metadata": {},
   "outputs": [],
   "source": [
    "df_predict.insert(8, \"class_samecoeff\", Z_coeff)"
   ]
  },
  {
   "cell_type": "code",
   "execution_count": 27,
   "metadata": {},
   "outputs": [
    {
     "data": {
      "text/plain": [
       "class_samecoeff\n",
       "Happy           33\n",
       "Unhappy          6\n",
       "Very happy      31\n",
       "Very unhappy    59\n",
       "dtype: int64"
      ]
     },
     "execution_count": 27,
     "metadata": {},
     "output_type": "execute_result"
    }
   ],
   "source": [
    "df_predict.groupby('class_samecoeff').size()"
   ]
  },
  {
   "cell_type": "markdown",
   "metadata": {},
   "source": [
    "## b. Happiness when CLEAN has more importance than noise, smell"
   ]
  },
  {
   "cell_type": "code",
   "execution_count": 28,
   "metadata": {},
   "outputs": [],
   "source": [
    "Y_clean = df_predict['happiness_clean'] #target"
   ]
  },
  {
   "cell_type": "code",
   "execution_count": 34,
   "metadata": {},
   "outputs": [],
   "source": [
    "Z_clean = pd.DataFrame.copy(Y_clean)\n",
    "Z_clean[Y_clean <= np.quantile(Y_clean,0.25)] = \"Very unhappy\" # could also use class 1,2,3,4\n",
    "Z_clean[(Y_clean > np.quantile(Y_clean, 0.25)) & (Y_clean <= np.quantile(Y_clean, 0.5))] = \"Unhappy\"\n",
    "Z_clean[(Y_clean > np.quantile(Y_clean, 0.5)) & (Y_clean <= np.quantile(Y_clean, 0.75))] = \"Happy\"\n",
    "Z_clean[Y_clean> np.quantile(Y_clean,0.75)] = \"Very happy\""
   ]
  },
  {
   "cell_type": "code",
   "execution_count": 36,
   "metadata": {},
   "outputs": [],
   "source": [
    "df_predict.insert(10, \"class_clean\", Z_clean)"
   ]
  },
  {
   "cell_type": "code",
   "execution_count": 40,
   "metadata": {},
   "outputs": [
    {
     "data": {
      "text/plain": [
       "class_clean\n",
       "Happy           31\n",
       "Unhappy         35\n",
       "Very happy      30\n",
       "Very unhappy    33\n",
       "dtype: int64"
      ]
     },
     "execution_count": 40,
     "metadata": {},
     "output_type": "execute_result"
    }
   ],
   "source": [
    "df_predict.groupby('class_clean').size()"
   ]
  },
  {
   "cell_type": "markdown",
   "metadata": {},
   "source": [
    "## c. Happiness when SMELL has more importance than clean, noise"
   ]
  },
  {
   "cell_type": "code",
   "execution_count": 42,
   "metadata": {},
   "outputs": [],
   "source": [
    "Y_smell = df_predict['happiness_smell'] #target"
   ]
  },
  {
   "cell_type": "code",
   "execution_count": 43,
   "metadata": {},
   "outputs": [],
   "source": [
    "Z_smell = pd.DataFrame.copy(Y_smell)\n",
    "Z_smell[Y_clean <= np.quantile(Y_smell,0.25)] = \"Very unhappy\" # could also use class 1,2,3,4\n",
    "Z_smell[(Y_clean > np.quantile(Y_smell, 0.25)) & (Y_smell <= np.quantile(Y_smell, 0.5))] = \"Unhappy\"\n",
    "Z_smell[(Y_clean > np.quantile(Y_smell, 0.5)) & (Y_smell <= np.quantile(Y_smell, 0.75))] = \"Happy\"\n",
    "Z_smell[Y_clean> np.quantile(Y_smell,0.75)] = \"Very happy\""
   ]
  },
  {
   "cell_type": "code",
   "execution_count": 46,
   "metadata": {},
   "outputs": [],
   "source": [
    "df_predict.insert(12, \"class_smell\", Z_smell)"
   ]
  },
  {
   "cell_type": "code",
   "execution_count": 47,
   "metadata": {},
   "outputs": [
    {
     "data": {
      "text/plain": [
       "class_smell\n",
       "Very happy    129\n",
       "dtype: int64"
      ]
     },
     "execution_count": 47,
     "metadata": {},
     "output_type": "execute_result"
    }
   ],
   "source": [
    "df_predict.groupby('class_smell').size()"
   ]
  },
  {
   "cell_type": "markdown",
   "metadata": {},
   "source": [
    "Just one class so it is better to have only 2 classes for this target (same thing for the next one noise):"
   ]
  },
  {
   "cell_type": "code",
   "execution_count": 69,
   "metadata": {},
   "outputs": [],
   "source": [
    "Z_smell = pd.DataFrame.copy(Y_smell)\n",
    "Z_smell[Y_smell <= np.median(Y_smell)] = \"Unhappy\"\n",
    "Z_smell[Y_smell > np.median(Y_smell)] = \"Happy\""
   ]
  },
  {
   "cell_type": "code",
   "execution_count": 71,
   "metadata": {},
   "outputs": [],
   "source": [
    "df_predict.insert(12, \"class_smell\", Z_smell)"
   ]
  },
  {
   "cell_type": "code",
   "execution_count": 72,
   "metadata": {},
   "outputs": [
    {
     "data": {
      "text/plain": [
       "class_smell\n",
       "Happy      44\n",
       "Unhappy    85\n",
       "dtype: int64"
      ]
     },
     "execution_count": 72,
     "metadata": {},
     "output_type": "execute_result"
    }
   ],
   "source": [
    "df_predict.groupby('class_smell').size()"
   ]
  },
  {
   "cell_type": "markdown",
   "metadata": {},
   "source": [
    "## d. Happiness when NOISE has more importance than clean, smell"
   ]
  },
  {
   "cell_type": "code",
   "execution_count": null,
   "metadata": {},
   "outputs": [],
   "source": [
    "Y_noise = df_predict['happiness_noise'] #target"
   ]
  },
  {
   "cell_type": "code",
   "execution_count": 73,
   "metadata": {},
   "outputs": [],
   "source": [
    "Z_noise = pd.DataFrame.copy(Y_noise)\n",
    "Z_noise[Y_noise <= np.median(Y_noise)] = \"Unhappy\"\n",
    "Z_noise[Y_noise > np.median(Y_noise)] = \"Happy\""
   ]
  },
  {
   "cell_type": "code",
   "execution_count": 75,
   "metadata": {},
   "outputs": [],
   "source": [
    "df_predict.insert(14, \"class_noise\", Z_noise)"
   ]
  },
  {
   "cell_type": "code",
   "execution_count": 77,
   "metadata": {},
   "outputs": [
    {
     "data": {
      "text/plain": [
       "class_noise\n",
       "Happy      64\n",
       "Unhappy    65\n",
       "dtype: int64"
      ]
     },
     "execution_count": 77,
     "metadata": {},
     "output_type": "execute_result"
    }
   ],
   "source": [
    "df_predict.groupby('class_noise').size()"
   ]
  },
  {
   "cell_type": "markdown",
   "metadata": {},
   "source": [
    "## e. Happiness - personnal opinion"
   ]
  },
  {
   "cell_type": "code",
   "execution_count": 53,
   "metadata": {},
   "outputs": [],
   "source": [
    "Y_perso = df_predict['happiness_perso'] #target"
   ]
  },
  {
   "cell_type": "code",
   "execution_count": 57,
   "metadata": {},
   "outputs": [],
   "source": [
    "Z_perso = pd.DataFrame.copy(Y_perso)\n",
    "Z_perso[Y_perso <= np.quantile(Y_perso,0.25)] = \"Very unhappy\" # could also use class 1,2,3,4\n",
    "Z_perso[(Y_perso > np.quantile(Y_perso, 0.25)) & (Y_perso <= np.quantile(Y_perso, 0.5))] = \"Unhappy\"\n",
    "Z_perso[(Y_perso > np.quantile(Y_perso, 0.5)) & (Y_perso <= np.quantile(Y_perso, 0.75))] = \"Happy\"\n",
    "Z_perso[Y_perso> np.quantile(Y_perso,0.75)] = \"Very happy\""
   ]
  },
  {
   "cell_type": "code",
   "execution_count": 60,
   "metadata": {},
   "outputs": [],
   "source": [
    "df_predict.insert(16, \"class_perso\", Z_perso)"
   ]
  },
  {
   "cell_type": "code",
   "execution_count": 63,
   "metadata": {},
   "outputs": [
    {
     "data": {
      "text/plain": [
       "class_perso\n",
       "Happy           31\n",
       "Unhappy         31\n",
       "Very happy      32\n",
       "Very unhappy    35\n",
       "dtype: int64"
      ]
     },
     "execution_count": 63,
     "metadata": {},
     "output_type": "execute_result"
    }
   ],
   "source": [
    "df_predict.groupby('class_perso').size()"
   ]
  },
  {
   "cell_type": "markdown",
   "metadata": {},
   "source": [
    "## f. Happiness - arbitary choice"
   ]
  },
  {
   "cell_type": "code",
   "execution_count": 65,
   "metadata": {},
   "outputs": [],
   "source": [
    "Y_other = df_predict['happiness_other'] #target"
   ]
  },
  {
   "cell_type": "code",
   "execution_count": 66,
   "metadata": {},
   "outputs": [],
   "source": [
    "Z_other = pd.DataFrame.copy(Y_other)\n",
    "Z_other[Y_perso <= np.quantile(Y_other,0.25)] = \"Very unhappy\" # could also use class 1,2,3,4\n",
    "Z_other[(Y_perso > np.quantile(Y_other, 0.25)) & (Y_other <= np.quantile(Y_other, 0.5))] = \"Unhappy\"\n",
    "Z_other[(Y_perso > np.quantile(Y_other, 0.5)) & (Y_other <= np.quantile(Y_other, 0.75))] = \"Happy\"\n",
    "Z_other[Y_perso> np.quantile(Y_other,0.75)] = \"Very happy\""
   ]
  },
  {
   "cell_type": "code",
   "execution_count": 67,
   "metadata": {},
   "outputs": [],
   "source": [
    "df_predict.insert(18, \"class_other\", Z_other)"
   ]
  },
  {
   "cell_type": "code",
   "execution_count": 68,
   "metadata": {},
   "outputs": [
    {
     "data": {
      "text/plain": [
       "class_other\n",
       "1.2592592592592593     1\n",
       "Happy                 32\n",
       "Unhappy               20\n",
       "Very happy            69\n",
       "Very unhappy           7\n",
       "dtype: int64"
      ]
     },
     "execution_count": 68,
     "metadata": {},
     "output_type": "execute_result"
    }
   ],
   "source": [
    "df_predict.groupby('class_other').size()"
   ]
  },
  {
   "cell_type": "code",
   "execution_count": null,
   "metadata": {},
   "outputs": [],
   "source": [
    "## Split data into training and test sets"
   ]
  }
 ],
 "metadata": {
  "kernelspec": {
   "display_name": "Python 3",
   "language": "python",
   "name": "python3"
  },
  "language_info": {
   "codemirror_mode": {
    "name": "ipython",
    "version": 3
   },
   "file_extension": ".py",
   "mimetype": "text/x-python",
   "name": "python",
   "nbconvert_exporter": "python",
   "pygments_lexer": "ipython3",
   "version": "3.7.4"
  }
 },
 "nbformat": 4,
 "nbformat_minor": 4
}
