{
 "cells": [
  {
   "cell_type": "code",
   "execution_count": 72,
   "metadata": {},
   "outputs": [],
   "source": [
    "import pandas as pd\n",
    "from matplotlib import pyplot"
   ]
  },
  {
   "cell_type": "code",
   "execution_count": 79,
   "metadata": {},
   "outputs": [
    {
     "data": {
      "text/html": [
       "<div>\n",
       "<style scoped>\n",
       "    .dataframe tbody tr th:only-of-type {\n",
       "        vertical-align: middle;\n",
       "    }\n",
       "\n",
       "    .dataframe tbody tr th {\n",
       "        vertical-align: top;\n",
       "    }\n",
       "\n",
       "    .dataframe thead th {\n",
       "        text-align: right;\n",
       "    }\n",
       "</style>\n",
       "<table border=\"1\" class=\"dataframe\">\n",
       "  <thead>\n",
       "    <tr style=\"text-align: right;\">\n",
       "      <th></th>\n",
       "      <th></th>\n",
       "      <th>clean</th>\n",
       "      <th>smell</th>\n",
       "      <th>noise</th>\n",
       "      <th>town</th>\n",
       "      <th>district</th>\n",
       "      <th>longitude</th>\n",
       "      <th>latitude</th>\n",
       "    </tr>\n",
       "  </thead>\n",
       "  <tbody>\n",
       "    <tr>\n",
       "      <th>1</th>\n",
       "      <td>万寿社区居委会</td>\n",
       "      <td>3</td>\n",
       "      <td>0.0</td>\n",
       "      <td>0.0</td>\n",
       "      <td>盈浦街道</td>\n",
       "      <td>青浦区</td>\n",
       "      <td>121.104287016932</td>\n",
       "      <td>31.1558823799679</td>\n",
       "    </tr>\n",
       "    <tr>\n",
       "      <th>2</th>\n",
       "      <td>万泰花园第一居委会</td>\n",
       "      <td>3</td>\n",
       "      <td>1.0</td>\n",
       "      <td>0.0</td>\n",
       "      <td>七宝镇</td>\n",
       "      <td>闵行区</td>\n",
       "      <td>121.351529089795</td>\n",
       "      <td>31.144326843509</td>\n",
       "    </tr>\n",
       "    <tr>\n",
       "      <th>3</th>\n",
       "      <td>万科阳光苑居委会</td>\n",
       "      <td>2</td>\n",
       "      <td>0.0</td>\n",
       "      <td>0.0</td>\n",
       "      <td>吴泾镇</td>\n",
       "      <td>闵行区</td>\n",
       "      <td>121.468520387505</td>\n",
       "      <td>31.0422853979528</td>\n",
       "    </tr>\n",
       "    <tr>\n",
       "      <th>4</th>\n",
       "      <td>万豪居委会</td>\n",
       "      <td>3</td>\n",
       "      <td>0.0</td>\n",
       "      <td>0.0</td>\n",
       "      <td>长征镇</td>\n",
       "      <td>普陀区</td>\n",
       "      <td>121.367237458941</td>\n",
       "      <td>31.2407251034807</td>\n",
       "    </tr>\n",
       "    <tr>\n",
       "      <th>5</th>\n",
       "      <td>万里名轩社区居委会</td>\n",
       "      <td>2</td>\n",
       "      <td></td>\n",
       "      <td>0.0</td>\n",
       "      <td>万里街道</td>\n",
       "      <td>普陀区</td>\n",
       "      <td>121.403601417271</td>\n",
       "      <td>31.269155049366</td>\n",
       "    </tr>\n",
       "  </tbody>\n",
       "</table>\n",
       "</div>"
      ],
      "text/plain": [
       "             clean smell noise  town district         longitude  \\\n",
       "1    万寿社区居委会     3   0.0   0.0  盈浦街道      青浦区  121.104287016932   \n",
       "2  万泰花园第一居委会     3   1.0   0.0   七宝镇      闵行区  121.351529089795   \n",
       "3   万科阳光苑居委会     2   0.0   0.0   吴泾镇      闵行区  121.468520387505   \n",
       "4      万豪居委会     3   0.0   0.0   长征镇      普陀区  121.367237458941   \n",
       "5  万里名轩社区居委会     2         0.0  万里街道      普陀区  121.403601417271   \n",
       "\n",
       "           latitude  \n",
       "1  31.1558823799679  \n",
       "2   31.144326843509  \n",
       "3  31.0422853979528  \n",
       "4  31.2407251034807  \n",
       "5   31.269155049366  "
      ]
     },
     "execution_count": 79,
     "metadata": {},
     "output_type": "execute_result"
    }
   ],
   "source": [
    "df_target = pd.read_pickle(\"./dataset/TARGET-communities-extract-wellbeing.pkl\")\n",
    "header = df_target[0]\n",
    "df_target = pd.DataFrame(data=df_target, columns=header)\n",
    "df_target = df_target.drop(df_target.index[0])\n",
    "df_target.head()"
   ]
  },
  {
   "cell_type": "markdown",
   "metadata": {},
   "source": [
    "cleanliness (1-4, 4 best), smell (0-1,1 worst),  noise (0-1, 1 worst)"
   ]
  },
  {
   "cell_type": "code",
   "execution_count": 80,
   "metadata": {},
   "outputs": [
    {
     "data": {
      "text/plain": [
       "(467, 8)"
      ]
     },
     "execution_count": 80,
     "metadata": {},
     "output_type": "execute_result"
    }
   ],
   "source": [
    "df_target.shape"
   ]
  },
  {
   "cell_type": "markdown",
   "metadata": {},
   "source": [
    "467 observations and 8 features"
   ]
  },
  {
   "cell_type": "code",
   "execution_count": 82,
   "metadata": {},
   "outputs": [
    {
     "data": {
      "text/plain": [
       "             object\n",
       "clean        object\n",
       "smell        object\n",
       "noise        object\n",
       "town         object\n",
       "district     object\n",
       "longitude    object\n",
       "latitude     object\n",
       "dtype: object"
      ]
     },
     "execution_count": 82,
     "metadata": {},
     "output_type": "execute_result"
    }
   ],
   "source": [
    "df_target.dtypes"
   ]
  },
  {
   "cell_type": "code",
   "execution_count": 83,
   "metadata": {},
   "outputs": [],
   "source": [
    "df_target['clean'] = pd.to_numeric(df_target['clean'])\n",
    "df_target['smell'] = pd.to_numeric(df_target['smell'])\n",
    "df_target['noise'] = pd.to_numeric(df_target['noise'])"
   ]
  },
  {
   "cell_type": "code",
   "execution_count": 84,
   "metadata": {},
   "outputs": [
    {
     "data": {
      "text/html": [
       "<div>\n",
       "<style scoped>\n",
       "    .dataframe tbody tr th:only-of-type {\n",
       "        vertical-align: middle;\n",
       "    }\n",
       "\n",
       "    .dataframe tbody tr th {\n",
       "        vertical-align: top;\n",
       "    }\n",
       "\n",
       "    .dataframe thead th {\n",
       "        text-align: right;\n",
       "    }\n",
       "</style>\n",
       "<table border=\"1\" class=\"dataframe\">\n",
       "  <thead>\n",
       "    <tr style=\"text-align: right;\">\n",
       "      <th></th>\n",
       "      <th></th>\n",
       "      <th>clean</th>\n",
       "      <th>smell</th>\n",
       "      <th>noise</th>\n",
       "      <th>town</th>\n",
       "      <th>district</th>\n",
       "      <th>longitude</th>\n",
       "      <th>latitude</th>\n",
       "    </tr>\n",
       "  </thead>\n",
       "  <tbody>\n",
       "    <tr>\n",
       "      <th>1</th>\n",
       "      <td>万寿社区居委会</td>\n",
       "      <td>3</td>\n",
       "      <td>0.0</td>\n",
       "      <td>0.0</td>\n",
       "      <td>盈浦街道</td>\n",
       "      <td>青浦区</td>\n",
       "      <td>121.104287016932</td>\n",
       "      <td>31.1558823799679</td>\n",
       "    </tr>\n",
       "    <tr>\n",
       "      <th>2</th>\n",
       "      <td>万泰花园第一居委会</td>\n",
       "      <td>3</td>\n",
       "      <td>1.0</td>\n",
       "      <td>0.0</td>\n",
       "      <td>七宝镇</td>\n",
       "      <td>闵行区</td>\n",
       "      <td>121.351529089795</td>\n",
       "      <td>31.144326843509</td>\n",
       "    </tr>\n",
       "    <tr>\n",
       "      <th>3</th>\n",
       "      <td>万科阳光苑居委会</td>\n",
       "      <td>2</td>\n",
       "      <td>0.0</td>\n",
       "      <td>0.0</td>\n",
       "      <td>吴泾镇</td>\n",
       "      <td>闵行区</td>\n",
       "      <td>121.468520387505</td>\n",
       "      <td>31.0422853979528</td>\n",
       "    </tr>\n",
       "    <tr>\n",
       "      <th>4</th>\n",
       "      <td>万豪居委会</td>\n",
       "      <td>3</td>\n",
       "      <td>0.0</td>\n",
       "      <td>0.0</td>\n",
       "      <td>长征镇</td>\n",
       "      <td>普陀区</td>\n",
       "      <td>121.367237458941</td>\n",
       "      <td>31.2407251034807</td>\n",
       "    </tr>\n",
       "    <tr>\n",
       "      <th>5</th>\n",
       "      <td>万里名轩社区居委会</td>\n",
       "      <td>2</td>\n",
       "      <td>NaN</td>\n",
       "      <td>0.0</td>\n",
       "      <td>万里街道</td>\n",
       "      <td>普陀区</td>\n",
       "      <td>121.403601417271</td>\n",
       "      <td>31.269155049366</td>\n",
       "    </tr>\n",
       "  </tbody>\n",
       "</table>\n",
       "</div>"
      ],
      "text/plain": [
       "              clean  smell  noise  town district         longitude  \\\n",
       "1    万寿社区居委会      3    0.0    0.0  盈浦街道      青浦区  121.104287016932   \n",
       "2  万泰花园第一居委会      3    1.0    0.0   七宝镇      闵行区  121.351529089795   \n",
       "3   万科阳光苑居委会      2    0.0    0.0   吴泾镇      闵行区  121.468520387505   \n",
       "4      万豪居委会      3    0.0    0.0   长征镇      普陀区  121.367237458941   \n",
       "5  万里名轩社区居委会      2    NaN    0.0  万里街道      普陀区  121.403601417271   \n",
       "\n",
       "           latitude  \n",
       "1  31.1558823799679  \n",
       "2   31.144326843509  \n",
       "3  31.0422853979528  \n",
       "4  31.2407251034807  \n",
       "5   31.269155049366  "
      ]
     },
     "execution_count": 84,
     "metadata": {},
     "output_type": "execute_result"
    }
   ],
   "source": [
    "df_target.head()"
   ]
  },
  {
   "cell_type": "code",
   "execution_count": 88,
   "metadata": {},
   "outputs": [
    {
     "data": {
      "text/html": [
       "<div>\n",
       "<style scoped>\n",
       "    .dataframe tbody tr th:only-of-type {\n",
       "        vertical-align: middle;\n",
       "    }\n",
       "\n",
       "    .dataframe tbody tr th {\n",
       "        vertical-align: top;\n",
       "    }\n",
       "\n",
       "    .dataframe thead th {\n",
       "        text-align: right;\n",
       "    }\n",
       "</style>\n",
       "<table border=\"1\" class=\"dataframe\">\n",
       "  <thead>\n",
       "    <tr style=\"text-align: right;\">\n",
       "      <th></th>\n",
       "      <th>clean</th>\n",
       "      <th>smell</th>\n",
       "      <th>noise</th>\n",
       "    </tr>\n",
       "  </thead>\n",
       "  <tbody>\n",
       "    <tr>\n",
       "      <th>count</th>\n",
       "      <td>467.000000</td>\n",
       "      <td>400.000000</td>\n",
       "      <td>458.000000</td>\n",
       "    </tr>\n",
       "    <tr>\n",
       "      <th>mean</th>\n",
       "      <td>2.556745</td>\n",
       "      <td>0.047500</td>\n",
       "      <td>0.203057</td>\n",
       "    </tr>\n",
       "    <tr>\n",
       "      <th>std</th>\n",
       "      <td>0.633890</td>\n",
       "      <td>0.212972</td>\n",
       "      <td>0.402714</td>\n",
       "    </tr>\n",
       "    <tr>\n",
       "      <th>min</th>\n",
       "      <td>1.000000</td>\n",
       "      <td>0.000000</td>\n",
       "      <td>0.000000</td>\n",
       "    </tr>\n",
       "    <tr>\n",
       "      <th>25%</th>\n",
       "      <td>2.000000</td>\n",
       "      <td>0.000000</td>\n",
       "      <td>0.000000</td>\n",
       "    </tr>\n",
       "    <tr>\n",
       "      <th>50%</th>\n",
       "      <td>3.000000</td>\n",
       "      <td>0.000000</td>\n",
       "      <td>0.000000</td>\n",
       "    </tr>\n",
       "    <tr>\n",
       "      <th>75%</th>\n",
       "      <td>3.000000</td>\n",
       "      <td>0.000000</td>\n",
       "      <td>0.000000</td>\n",
       "    </tr>\n",
       "    <tr>\n",
       "      <th>max</th>\n",
       "      <td>4.000000</td>\n",
       "      <td>1.000000</td>\n",
       "      <td>1.000000</td>\n",
       "    </tr>\n",
       "  </tbody>\n",
       "</table>\n",
       "</div>"
      ],
      "text/plain": [
       "            clean       smell       noise\n",
       "count  467.000000  400.000000  458.000000\n",
       "mean     2.556745    0.047500    0.203057\n",
       "std      0.633890    0.212972    0.402714\n",
       "min      1.000000    0.000000    0.000000\n",
       "25%      2.000000    0.000000    0.000000\n",
       "50%      3.000000    0.000000    0.000000\n",
       "75%      3.000000    0.000000    0.000000\n",
       "max      4.000000    1.000000    1.000000"
      ]
     },
     "execution_count": 88,
     "metadata": {},
     "output_type": "execute_result"
    }
   ],
   "source": [
    "df_target.describe()"
   ]
  },
  {
   "cell_type": "markdown",
   "metadata": {},
   "source": [
    "# Data viz - See the distribution "
   ]
  },
  {
   "cell_type": "code",
   "execution_count": 90,
   "metadata": {},
   "outputs": [
    {
     "name": "stdout",
     "output_type": "stream",
     "text": [
      "clean\n",
      "1     15\n",
      "2    198\n",
      "3    233\n",
      "4     21\n",
      "dtype: int64\n",
      "smell\n",
      "0.0    381\n",
      "1.0     19\n",
      "dtype: int64\n",
      "noise\n",
      "0.0    365\n",
      "1.0     93\n",
      "dtype: int64\n"
     ]
    }
   ],
   "source": [
    "print(df_target.groupby('clean').size())\n",
    "print(df_target.groupby('smell').size())\n",
    "print(df_target.groupby('noise').size())"
   ]
  },
  {
   "cell_type": "code",
   "execution_count": 92,
   "metadata": {},
   "outputs": [
    {
     "data": {
      "image/png": "[encoded data removed]",
      "text/plain": [
       "<Figure size 432x288 with 4 Axes>"
      ]
     },
     "metadata": {
      "needs_background": "light"
     },
     "output_type": "display_data"
    }
   ],
   "source": [
    "df_target.hist()\n",
    "pyplot.show()"
   ]
  },
  {
   "cell_type": "code",
   "execution_count": null,
   "metadata": {},
   "outputs": [],
   "source": []
  }
 ],
 "metadata": {
  "kernelspec": {
   "display_name": "Python 3",
   "language": "python",
   "name": "python3"
  },
  "language_info": {
   "codemirror_mode": {
    "name": "ipython",
    "version": 3
   },
   "file_extension": ".py",
   "mimetype": "text/x-python",
   "name": "python",
   "nbconvert_exporter": "python",
   "pygments_lexer": "ipython3",
   "version": "3.7.3"
  }
 },
 "nbformat": 4,
 "nbformat_minor": 4
}
