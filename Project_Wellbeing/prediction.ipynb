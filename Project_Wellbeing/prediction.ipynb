{
 "cells": [
  {
   "cell_type": "markdown",
   "metadata": {},
   "source": [
    "# Project - Predict the wellbeing of shanghainese communities"
   ]
  },
  {
   "cell_type": "code",
   "execution_count": 105,
   "metadata": {},
   "outputs": [],
   "source": [
    "import pandas as pd\n",
    "from matplotlib import pyplot\n",
    "from shapely.geometry import Point, Polygon\n",
    "from pandas.plotting import scatter_matrix\n",
    "import numpy as np\n",
    "import geopandas as gpd"
   ]
  },
  {
   "cell_type": "code",
   "execution_count": 106,
   "metadata": {},
   "outputs": [
    {
     "data": {
      "text/html": [
       "<div>\n",
       "<style scoped>\n",
       "    .dataframe tbody tr th:only-of-type {\n",
       "        vertical-align: middle;\n",
       "    }\n",
       "\n",
       "    .dataframe tbody tr th {\n",
       "        vertical-align: top;\n",
       "    }\n",
       "\n",
       "    .dataframe thead th {\n",
       "        text-align: right;\n",
       "    }\n",
       "</style>\n",
       "<table border=\"1\" class=\"dataframe\">\n",
       "  <thead>\n",
       "    <tr style=\"text-align: right;\">\n",
       "      <th></th>\n",
       "      <th></th>\n",
       "      <th>clean</th>\n",
       "      <th>smell</th>\n",
       "      <th>noise</th>\n",
       "      <th>town</th>\n",
       "      <th>district</th>\n",
       "      <th>longitude</th>\n",
       "      <th>latitude</th>\n",
       "    </tr>\n",
       "  </thead>\n",
       "  <tbody>\n",
       "    <tr>\n",
       "      <td>1</td>\n",
       "      <td>万寿社区居委会</td>\n",
       "      <td>3</td>\n",
       "      <td>0.0</td>\n",
       "      <td>0.0</td>\n",
       "      <td>盈浦街道</td>\n",
       "      <td>青浦区</td>\n",
       "      <td>121.104287016932</td>\n",
       "      <td>31.1558823799679</td>\n",
       "    </tr>\n",
       "    <tr>\n",
       "      <td>2</td>\n",
       "      <td>万泰花园第一居委会</td>\n",
       "      <td>3</td>\n",
       "      <td>1.0</td>\n",
       "      <td>0.0</td>\n",
       "      <td>七宝镇</td>\n",
       "      <td>闵行区</td>\n",
       "      <td>121.351529089795</td>\n",
       "      <td>31.144326843509</td>\n",
       "    </tr>\n",
       "    <tr>\n",
       "      <td>3</td>\n",
       "      <td>万科阳光苑居委会</td>\n",
       "      <td>2</td>\n",
       "      <td>0.0</td>\n",
       "      <td>0.0</td>\n",
       "      <td>吴泾镇</td>\n",
       "      <td>闵行区</td>\n",
       "      <td>121.468520387505</td>\n",
       "      <td>31.0422853979528</td>\n",
       "    </tr>\n",
       "    <tr>\n",
       "      <td>4</td>\n",
       "      <td>万豪居委会</td>\n",
       "      <td>3</td>\n",
       "      <td>0.0</td>\n",
       "      <td>0.0</td>\n",
       "      <td>长征镇</td>\n",
       "      <td>普陀区</td>\n",
       "      <td>121.367237458941</td>\n",
       "      <td>31.2407251034807</td>\n",
       "    </tr>\n",
       "    <tr>\n",
       "      <td>5</td>\n",
       "      <td>万里名轩社区居委会</td>\n",
       "      <td>2</td>\n",
       "      <td></td>\n",
       "      <td>0.0</td>\n",
       "      <td>万里街道</td>\n",
       "      <td>普陀区</td>\n",
       "      <td>121.403601417271</td>\n",
       "      <td>31.269155049366</td>\n",
       "    </tr>\n",
       "  </tbody>\n",
       "</table>\n",
       "</div>"
      ],
      "text/plain": [
       "             clean smell noise  town district         longitude  \\\n",
       "1    万寿社区居委会     3   0.0   0.0  盈浦街道      青浦区  121.104287016932   \n",
       "2  万泰花园第一居委会     3   1.0   0.0   七宝镇      闵行区  121.351529089795   \n",
       "3   万科阳光苑居委会     2   0.0   0.0   吴泾镇      闵行区  121.468520387505   \n",
       "4      万豪居委会     3   0.0   0.0   长征镇      普陀区  121.367237458941   \n",
       "5  万里名轩社区居委会     2         0.0  万里街道      普陀区  121.403601417271   \n",
       "\n",
       "           latitude  \n",
       "1  31.1558823799679  \n",
       "2   31.144326843509  \n",
       "3  31.0422853979528  \n",
       "4  31.2407251034807  \n",
       "5   31.269155049366  "
      ]
     },
     "execution_count": 106,
     "metadata": {},
     "output_type": "execute_result"
    }
   ],
   "source": [
    "df_target = pd.read_pickle(\"./dataset/TARGET-communities-extract-wellbeing.pkl\")\n",
    "header = df_target[0]\n",
    "df_target = pd.DataFrame(data=df_target, columns=header)\n",
    "df_target = df_target.drop(df_target.index[0])\n",
    "df_target.head()"
   ]
  },
  {
   "cell_type": "markdown",
   "metadata": {},
   "source": [
    "cleanliness (1-4, 4 best), smell (0-1,1 worst),  noise (0-1, 1 worst)"
   ]
  },
  {
   "cell_type": "code",
   "execution_count": 107,
   "metadata": {},
   "outputs": [
    {
     "data": {
      "text/plain": [
       "467"
      ]
     },
     "execution_count": 107,
     "metadata": {},
     "output_type": "execute_result"
    }
   ],
   "source": [
    "len(df_target)"
   ]
  },
  {
   "cell_type": "code",
   "execution_count": 108,
   "metadata": {},
   "outputs": [
    {
     "data": {
      "text/html": [
       "<div>\n",
       "<style scoped>\n",
       "    .dataframe tbody tr th:only-of-type {\n",
       "        vertical-align: middle;\n",
       "    }\n",
       "\n",
       "    .dataframe tbody tr th {\n",
       "        vertical-align: top;\n",
       "    }\n",
       "\n",
       "    .dataframe thead th {\n",
       "        text-align: right;\n",
       "    }\n",
       "</style>\n",
       "<table border=\"1\" class=\"dataframe\">\n",
       "  <thead>\n",
       "    <tr style=\"text-align: right;\">\n",
       "      <th></th>\n",
       "      <th></th>\n",
       "      <th>clean</th>\n",
       "      <th>smell</th>\n",
       "      <th>noise</th>\n",
       "      <th>town</th>\n",
       "      <th>district</th>\n",
       "      <th>longitude</th>\n",
       "      <th>latitude</th>\n",
       "    </tr>\n",
       "  </thead>\n",
       "  <tbody>\n",
       "    <tr>\n",
       "      <td>1</td>\n",
       "      <td>万寿社区居委会</td>\n",
       "      <td>3</td>\n",
       "      <td>0.0</td>\n",
       "      <td>0.0</td>\n",
       "      <td>盈浦街道</td>\n",
       "      <td>青浦区</td>\n",
       "      <td>121.104287016932</td>\n",
       "      <td>31.1558823799679</td>\n",
       "    </tr>\n",
       "    <tr>\n",
       "      <td>2</td>\n",
       "      <td>万泰花园第一居委会</td>\n",
       "      <td>3</td>\n",
       "      <td>1.0</td>\n",
       "      <td>0.0</td>\n",
       "      <td>七宝镇</td>\n",
       "      <td>闵行区</td>\n",
       "      <td>121.351529089795</td>\n",
       "      <td>31.144326843509</td>\n",
       "    </tr>\n",
       "    <tr>\n",
       "      <td>3</td>\n",
       "      <td>万科阳光苑居委会</td>\n",
       "      <td>2</td>\n",
       "      <td>0.0</td>\n",
       "      <td>0.0</td>\n",
       "      <td>吴泾镇</td>\n",
       "      <td>闵行区</td>\n",
       "      <td>121.468520387505</td>\n",
       "      <td>31.0422853979528</td>\n",
       "    </tr>\n",
       "    <tr>\n",
       "      <td>4</td>\n",
       "      <td>万豪居委会</td>\n",
       "      <td>3</td>\n",
       "      <td>0.0</td>\n",
       "      <td>0.0</td>\n",
       "      <td>长征镇</td>\n",
       "      <td>普陀区</td>\n",
       "      <td>121.367237458941</td>\n",
       "      <td>31.2407251034807</td>\n",
       "    </tr>\n",
       "    <tr>\n",
       "      <td>5</td>\n",
       "      <td>万里名轩社区居委会</td>\n",
       "      <td>2</td>\n",
       "      <td></td>\n",
       "      <td>0.0</td>\n",
       "      <td>万里街道</td>\n",
       "      <td>普陀区</td>\n",
       "      <td>121.403601417271</td>\n",
       "      <td>31.269155049366</td>\n",
       "    </tr>\n",
       "  </tbody>\n",
       "</table>\n",
       "</div>"
      ],
      "text/plain": [
       "             clean smell noise  town district         longitude  \\\n",
       "1    万寿社区居委会     3   0.0   0.0  盈浦街道      青浦区  121.104287016932   \n",
       "2  万泰花园第一居委会     3   1.0   0.0   七宝镇      闵行区  121.351529089795   \n",
       "3   万科阳光苑居委会     2   0.0   0.0   吴泾镇      闵行区  121.468520387505   \n",
       "4      万豪居委会     3   0.0   0.0   长征镇      普陀区  121.367237458941   \n",
       "5  万里名轩社区居委会     2         0.0  万里街道      普陀区  121.403601417271   \n",
       "\n",
       "           latitude  \n",
       "1  31.1558823799679  \n",
       "2   31.144326843509  \n",
       "3  31.0422853979528  \n",
       "4  31.2407251034807  \n",
       "5   31.269155049366  "
      ]
     },
     "execution_count": 108,
     "metadata": {},
     "output_type": "execute_result"
    }
   ],
   "source": [
    "# Delete rows which don't have coordinates\n",
    "df_target = df_target[(df_target['longitude'] != '') & (df_target['latitude'] != '')]\n",
    "\n",
    "df_target.head()"
   ]
  },
  {
   "cell_type": "code",
   "execution_count": 109,
   "metadata": {},
   "outputs": [
    {
     "data": {
      "text/plain": [
       "461"
      ]
     },
     "execution_count": 109,
     "metadata": {},
     "output_type": "execute_result"
    }
   ],
   "source": [
    "len(df_target)"
   ]
  },
  {
   "cell_type": "markdown",
   "metadata": {},
   "source": [
    "## Data types"
   ]
  },
  {
   "cell_type": "markdown",
   "metadata": {},
   "source": [
    "### Clean, smell, noise, longitude, latitude are consider as object: convert them into number type"
   ]
  },
  {
   "cell_type": "code",
   "execution_count": 110,
   "metadata": {},
   "outputs": [],
   "source": [
    "df_target['clean'] = pd.to_numeric(df_target['clean'])\n",
    "df_target['smell'] = pd.to_numeric(df_target['smell'])\n",
    "df_target['noise'] = pd.to_numeric(df_target['noise'])\n",
    "df_target['longitude'] = pd.to_numeric(df_target['longitude'])\n",
    "df_target['latitude'] = pd.to_numeric(df_target['latitude'])"
   ]
  },
  {
   "cell_type": "code",
   "execution_count": 111,
   "metadata": {},
   "outputs": [
    {
     "data": {
      "text/plain": [
       "              object\n",
       "clean          int64\n",
       "smell        float64\n",
       "noise        float64\n",
       "town          object\n",
       "district      object\n",
       "longitude    float64\n",
       "latitude     float64\n",
       "dtype: object"
      ]
     },
     "execution_count": 111,
     "metadata": {},
     "output_type": "execute_result"
    }
   ],
   "source": [
    "df_target.dtypes"
   ]
  },
  {
   "cell_type": "code",
   "execution_count": 112,
   "metadata": {},
   "outputs": [
    {
     "data": {
      "text/html": [
       "<div>\n",
       "<style scoped>\n",
       "    .dataframe tbody tr th:only-of-type {\n",
       "        vertical-align: middle;\n",
       "    }\n",
       "\n",
       "    .dataframe tbody tr th {\n",
       "        vertical-align: top;\n",
       "    }\n",
       "\n",
       "    .dataframe thead th {\n",
       "        text-align: right;\n",
       "    }\n",
       "</style>\n",
       "<table border=\"1\" class=\"dataframe\">\n",
       "  <thead>\n",
       "    <tr style=\"text-align: right;\">\n",
       "      <th></th>\n",
       "      <th></th>\n",
       "      <th>clean</th>\n",
       "      <th>smell</th>\n",
       "      <th>noise</th>\n",
       "      <th>town</th>\n",
       "      <th>district</th>\n",
       "      <th>longitude</th>\n",
       "      <th>latitude</th>\n",
       "    </tr>\n",
       "  </thead>\n",
       "  <tbody>\n",
       "    <tr>\n",
       "      <td>1</td>\n",
       "      <td>万寿社区居委会</td>\n",
       "      <td>3</td>\n",
       "      <td>1</td>\n",
       "      <td>1</td>\n",
       "      <td>盈浦街道</td>\n",
       "      <td>青浦区</td>\n",
       "      <td>121.104287</td>\n",
       "      <td>31.155882</td>\n",
       "    </tr>\n",
       "    <tr>\n",
       "      <td>2</td>\n",
       "      <td>万泰花园第一居委会</td>\n",
       "      <td>3</td>\n",
       "      <td>0</td>\n",
       "      <td>1</td>\n",
       "      <td>七宝镇</td>\n",
       "      <td>闵行区</td>\n",
       "      <td>121.351529</td>\n",
       "      <td>31.144327</td>\n",
       "    </tr>\n",
       "    <tr>\n",
       "      <td>3</td>\n",
       "      <td>万科阳光苑居委会</td>\n",
       "      <td>2</td>\n",
       "      <td>1</td>\n",
       "      <td>1</td>\n",
       "      <td>吴泾镇</td>\n",
       "      <td>闵行区</td>\n",
       "      <td>121.468520</td>\n",
       "      <td>31.042285</td>\n",
       "    </tr>\n",
       "    <tr>\n",
       "      <td>4</td>\n",
       "      <td>万豪居委会</td>\n",
       "      <td>3</td>\n",
       "      <td>1</td>\n",
       "      <td>1</td>\n",
       "      <td>长征镇</td>\n",
       "      <td>普陀区</td>\n",
       "      <td>121.367237</td>\n",
       "      <td>31.240725</td>\n",
       "    </tr>\n",
       "    <tr>\n",
       "      <td>5</td>\n",
       "      <td>万里名轩社区居委会</td>\n",
       "      <td>2</td>\n",
       "      <td>0</td>\n",
       "      <td>1</td>\n",
       "      <td>万里街道</td>\n",
       "      <td>普陀区</td>\n",
       "      <td>121.403601</td>\n",
       "      <td>31.269155</td>\n",
       "    </tr>\n",
       "  </tbody>\n",
       "</table>\n",
       "</div>"
      ],
      "text/plain": [
       "              clean  smell  noise  town district   longitude   latitude\n",
       "1    万寿社区居委会      3      1      1  盈浦街道      青浦区  121.104287  31.155882\n",
       "2  万泰花园第一居委会      3      0      1   七宝镇      闵行区  121.351529  31.144327\n",
       "3   万科阳光苑居委会      2      1      1   吴泾镇      闵行区  121.468520  31.042285\n",
       "4      万豪居委会      3      1      1   长征镇      普陀区  121.367237  31.240725\n",
       "5  万里名轩社区居委会      2      0      1  万里街道      普陀区  121.403601  31.269155"
      ]
     },
     "execution_count": 112,
     "metadata": {},
     "output_type": "execute_result"
    }
   ],
   "source": [
    "df_target['smell'] = df_target['smell'].apply(lambda x: 1 if x==0  else 0)\n",
    "df_target['noise'] = df_target['noise'].apply(lambda x: 1 if x==0  else 0)\n",
    "df_target.head()"
   ]
  },
  {
   "cell_type": "markdown",
   "metadata": {},
   "source": [
    "cleanliness (1-4, 4 best), smell (0-1,0 worst),  noise (0-1, 0 worst)"
   ]
  },
  {
   "cell_type": "code",
   "execution_count": 113,
   "metadata": {},
   "outputs": [
    {
     "data": {
      "text/html": [
       "<div>\n",
       "<style scoped>\n",
       "    .dataframe tbody tr th:only-of-type {\n",
       "        vertical-align: middle;\n",
       "    }\n",
       "\n",
       "    .dataframe tbody tr th {\n",
       "        vertical-align: top;\n",
       "    }\n",
       "\n",
       "    .dataframe thead th {\n",
       "        text-align: right;\n",
       "    }\n",
       "</style>\n",
       "<table border=\"1\" class=\"dataframe\">\n",
       "  <thead>\n",
       "    <tr style=\"text-align: right;\">\n",
       "      <th></th>\n",
       "      <th>clean</th>\n",
       "      <th>smell</th>\n",
       "      <th>noise</th>\n",
       "      <th>longitude</th>\n",
       "      <th>latitude</th>\n",
       "    </tr>\n",
       "  </thead>\n",
       "  <tbody>\n",
       "    <tr>\n",
       "      <td>count</td>\n",
       "      <td>461.000000</td>\n",
       "      <td>461.000000</td>\n",
       "      <td>461.000000</td>\n",
       "      <td>461.000000</td>\n",
       "      <td>461.000000</td>\n",
       "    </tr>\n",
       "    <tr>\n",
       "      <td>mean</td>\n",
       "      <td>2.557484</td>\n",
       "      <td>0.819957</td>\n",
       "      <td>0.785249</td>\n",
       "      <td>121.443524</td>\n",
       "      <td>31.213527</td>\n",
       "    </tr>\n",
       "    <tr>\n",
       "      <td>std</td>\n",
       "      <td>0.631986</td>\n",
       "      <td>0.384641</td>\n",
       "      <td>0.411095</td>\n",
       "      <td>0.113162</td>\n",
       "      <td>0.129333</td>\n",
       "    </tr>\n",
       "    <tr>\n",
       "      <td>min</td>\n",
       "      <td>1.000000</td>\n",
       "      <td>0.000000</td>\n",
       "      <td>0.000000</td>\n",
       "      <td>121.089976</td>\n",
       "      <td>30.736401</td>\n",
       "    </tr>\n",
       "    <tr>\n",
       "      <td>25%</td>\n",
       "      <td>2.000000</td>\n",
       "      <td>1.000000</td>\n",
       "      <td>1.000000</td>\n",
       "      <td>121.388639</td>\n",
       "      <td>31.163585</td>\n",
       "    </tr>\n",
       "    <tr>\n",
       "      <td>50%</td>\n",
       "      <td>3.000000</td>\n",
       "      <td>1.000000</td>\n",
       "      <td>1.000000</td>\n",
       "      <td>121.448259</td>\n",
       "      <td>31.228257</td>\n",
       "    </tr>\n",
       "    <tr>\n",
       "      <td>75%</td>\n",
       "      <td>3.000000</td>\n",
       "      <td>1.000000</td>\n",
       "      <td>1.000000</td>\n",
       "      <td>121.504818</td>\n",
       "      <td>31.281153</td>\n",
       "    </tr>\n",
       "    <tr>\n",
       "      <td>max</td>\n",
       "      <td>4.000000</td>\n",
       "      <td>1.000000</td>\n",
       "      <td>1.000000</td>\n",
       "      <td>121.892089</td>\n",
       "      <td>31.629071</td>\n",
       "    </tr>\n",
       "  </tbody>\n",
       "</table>\n",
       "</div>"
      ],
      "text/plain": [
       "            clean       smell       noise   longitude    latitude\n",
       "count  461.000000  461.000000  461.000000  461.000000  461.000000\n",
       "mean     2.557484    0.819957    0.785249  121.443524   31.213527\n",
       "std      0.631986    0.384641    0.411095    0.113162    0.129333\n",
       "min      1.000000    0.000000    0.000000  121.089976   30.736401\n",
       "25%      2.000000    1.000000    1.000000  121.388639   31.163585\n",
       "50%      3.000000    1.000000    1.000000  121.448259   31.228257\n",
       "75%      3.000000    1.000000    1.000000  121.504818   31.281153\n",
       "max      4.000000    1.000000    1.000000  121.892089   31.629071"
      ]
     },
     "execution_count": 113,
     "metadata": {},
     "output_type": "execute_result"
    }
   ],
   "source": [
    "df_target.describe()"
   ]
  },
  {
   "cell_type": "markdown",
   "metadata": {},
   "source": [
    "## Target happiness"
   ]
  },
  {
   "cell_type": "code",
   "execution_count": 114,
   "metadata": {},
   "outputs": [
    {
     "data": {
      "text/html": [
       "<div>\n",
       "<style scoped>\n",
       "    .dataframe tbody tr th:only-of-type {\n",
       "        vertical-align: middle;\n",
       "    }\n",
       "\n",
       "    .dataframe tbody tr th {\n",
       "        vertical-align: top;\n",
       "    }\n",
       "\n",
       "    .dataframe thead th {\n",
       "        text-align: right;\n",
       "    }\n",
       "</style>\n",
       "<table border=\"1\" class=\"dataframe\">\n",
       "  <thead>\n",
       "    <tr style=\"text-align: right;\">\n",
       "      <th></th>\n",
       "      <th></th>\n",
       "      <th>clean</th>\n",
       "      <th>smell</th>\n",
       "      <th>noise</th>\n",
       "      <th>town</th>\n",
       "      <th>district</th>\n",
       "      <th>longitude</th>\n",
       "      <th>latitude</th>\n",
       "      <th>clean_coef</th>\n",
       "      <th>noise_coef</th>\n",
       "      <th>smell_coef</th>\n",
       "      <th>happiness</th>\n",
       "    </tr>\n",
       "  </thead>\n",
       "  <tbody>\n",
       "    <tr>\n",
       "      <td>1</td>\n",
       "      <td>万寿社区居委会</td>\n",
       "      <td>3</td>\n",
       "      <td>1</td>\n",
       "      <td>1</td>\n",
       "      <td>盈浦街道</td>\n",
       "      <td>青浦区</td>\n",
       "      <td>121.104287</td>\n",
       "      <td>31.155882</td>\n",
       "      <td>0.216667</td>\n",
       "      <td>0.325</td>\n",
       "      <td>0.35</td>\n",
       "      <td>8.916667</td>\n",
       "    </tr>\n",
       "    <tr>\n",
       "      <td>2</td>\n",
       "      <td>万泰花园第一居委会</td>\n",
       "      <td>3</td>\n",
       "      <td>0</td>\n",
       "      <td>1</td>\n",
       "      <td>七宝镇</td>\n",
       "      <td>闵行区</td>\n",
       "      <td>121.351529</td>\n",
       "      <td>31.144327</td>\n",
       "      <td>0.216667</td>\n",
       "      <td>0.325</td>\n",
       "      <td>0.00</td>\n",
       "      <td>5.416667</td>\n",
       "    </tr>\n",
       "    <tr>\n",
       "      <td>3</td>\n",
       "      <td>万科阳光苑居委会</td>\n",
       "      <td>2</td>\n",
       "      <td>1</td>\n",
       "      <td>1</td>\n",
       "      <td>吴泾镇</td>\n",
       "      <td>闵行区</td>\n",
       "      <td>121.468520</td>\n",
       "      <td>31.042285</td>\n",
       "      <td>0.108333</td>\n",
       "      <td>0.325</td>\n",
       "      <td>0.35</td>\n",
       "      <td>7.833333</td>\n",
       "    </tr>\n",
       "    <tr>\n",
       "      <td>4</td>\n",
       "      <td>万豪居委会</td>\n",
       "      <td>3</td>\n",
       "      <td>1</td>\n",
       "      <td>1</td>\n",
       "      <td>长征镇</td>\n",
       "      <td>普陀区</td>\n",
       "      <td>121.367237</td>\n",
       "      <td>31.240725</td>\n",
       "      <td>0.216667</td>\n",
       "      <td>0.325</td>\n",
       "      <td>0.35</td>\n",
       "      <td>8.916667</td>\n",
       "    </tr>\n",
       "    <tr>\n",
       "      <td>5</td>\n",
       "      <td>万里名轩社区居委会</td>\n",
       "      <td>2</td>\n",
       "      <td>0</td>\n",
       "      <td>1</td>\n",
       "      <td>万里街道</td>\n",
       "      <td>普陀区</td>\n",
       "      <td>121.403601</td>\n",
       "      <td>31.269155</td>\n",
       "      <td>0.108333</td>\n",
       "      <td>0.325</td>\n",
       "      <td>0.00</td>\n",
       "      <td>4.333333</td>\n",
       "    </tr>\n",
       "  </tbody>\n",
       "</table>\n",
       "</div>"
      ],
      "text/plain": [
       "              clean  smell  noise  town district   longitude   latitude  \\\n",
       "1    万寿社区居委会      3      1      1  盈浦街道      青浦区  121.104287  31.155882   \n",
       "2  万泰花园第一居委会      3      0      1   七宝镇      闵行区  121.351529  31.144327   \n",
       "3   万科阳光苑居委会      2      1      1   吴泾镇      闵行区  121.468520  31.042285   \n",
       "4      万豪居委会      3      1      1   长征镇      普陀区  121.367237  31.240725   \n",
       "5  万里名轩社区居委会      2      0      1  万里街道      普陀区  121.403601  31.269155   \n",
       "\n",
       "   clean_coef  noise_coef  smell_coef  happiness  \n",
       "1    0.216667       0.325        0.35   8.916667  \n",
       "2    0.216667       0.325        0.00   5.416667  \n",
       "3    0.108333       0.325        0.35   7.833333  \n",
       "4    0.216667       0.325        0.35   8.916667  \n",
       "5    0.108333       0.325        0.00   4.333333  "
      ]
     },
     "execution_count": 114,
     "metadata": {},
     "output_type": "execute_result"
    }
   ],
   "source": [
    "df_target['clean_coef'] = (df_target['clean']-1)/3*0.325\n",
    "df_target['noise_coef'] = (df_target['noise']*0.325)\n",
    "df_target['smell_coef'] = (df_target['smell']*0.35)\n",
    "df_target['happiness'] = (df_target['smell_coef'] + df_target['noise_coef'] + df_target['clean_coef']) * 10\n",
    "df_target.head()"
   ]
  },
  {
   "cell_type": "code",
   "execution_count": 115,
   "metadata": {},
   "outputs": [],
   "source": [
    "geometry = [Point(xy) for xy in zip(df_target['longitude'], df_target['latitude'])]"
   ]
  },
  {
   "cell_type": "code",
   "execution_count": 116,
   "metadata": {},
   "outputs": [],
   "source": [
    "df_target['geometry'] = geometry"
   ]
  },
  {
   "cell_type": "code",
   "execution_count": 117,
   "metadata": {},
   "outputs": [
    {
     "data": {
      "text/html": [
       "<div>\n",
       "<style scoped>\n",
       "    .dataframe tbody tr th:only-of-type {\n",
       "        vertical-align: middle;\n",
       "    }\n",
       "\n",
       "    .dataframe tbody tr th {\n",
       "        vertical-align: top;\n",
       "    }\n",
       "\n",
       "    .dataframe thead th {\n",
       "        text-align: right;\n",
       "    }\n",
       "</style>\n",
       "<table border=\"1\" class=\"dataframe\">\n",
       "  <thead>\n",
       "    <tr style=\"text-align: right;\">\n",
       "      <th></th>\n",
       "      <th></th>\n",
       "      <th>clean</th>\n",
       "      <th>smell</th>\n",
       "      <th>noise</th>\n",
       "      <th>town</th>\n",
       "      <th>district</th>\n",
       "      <th>longitude</th>\n",
       "      <th>latitude</th>\n",
       "      <th>clean_coef</th>\n",
       "      <th>noise_coef</th>\n",
       "      <th>smell_coef</th>\n",
       "      <th>happiness</th>\n",
       "      <th>geometry</th>\n",
       "    </tr>\n",
       "  </thead>\n",
       "  <tbody>\n",
       "    <tr>\n",
       "      <td>1</td>\n",
       "      <td>万寿社区居委会</td>\n",
       "      <td>3</td>\n",
       "      <td>1</td>\n",
       "      <td>1</td>\n",
       "      <td>盈浦街道</td>\n",
       "      <td>青浦区</td>\n",
       "      <td>121.104287</td>\n",
       "      <td>31.155882</td>\n",
       "      <td>0.216667</td>\n",
       "      <td>0.325</td>\n",
       "      <td>0.35</td>\n",
       "      <td>8.916667</td>\n",
       "      <td>POINT (121.104287016932 31.1558823799679)</td>\n",
       "    </tr>\n",
       "    <tr>\n",
       "      <td>2</td>\n",
       "      <td>万泰花园第一居委会</td>\n",
       "      <td>3</td>\n",
       "      <td>0</td>\n",
       "      <td>1</td>\n",
       "      <td>七宝镇</td>\n",
       "      <td>闵行区</td>\n",
       "      <td>121.351529</td>\n",
       "      <td>31.144327</td>\n",
       "      <td>0.216667</td>\n",
       "      <td>0.325</td>\n",
       "      <td>0.00</td>\n",
       "      <td>5.416667</td>\n",
       "      <td>POINT (121.351529089795 31.144326843509)</td>\n",
       "    </tr>\n",
       "    <tr>\n",
       "      <td>3</td>\n",
       "      <td>万科阳光苑居委会</td>\n",
       "      <td>2</td>\n",
       "      <td>1</td>\n",
       "      <td>1</td>\n",
       "      <td>吴泾镇</td>\n",
       "      <td>闵行区</td>\n",
       "      <td>121.468520</td>\n",
       "      <td>31.042285</td>\n",
       "      <td>0.108333</td>\n",
       "      <td>0.325</td>\n",
       "      <td>0.35</td>\n",
       "      <td>7.833333</td>\n",
       "      <td>POINT (121.468520387505 31.0422853979528)</td>\n",
       "    </tr>\n",
       "    <tr>\n",
       "      <td>4</td>\n",
       "      <td>万豪居委会</td>\n",
       "      <td>3</td>\n",
       "      <td>1</td>\n",
       "      <td>1</td>\n",
       "      <td>长征镇</td>\n",
       "      <td>普陀区</td>\n",
       "      <td>121.367237</td>\n",
       "      <td>31.240725</td>\n",
       "      <td>0.216667</td>\n",
       "      <td>0.325</td>\n",
       "      <td>0.35</td>\n",
       "      <td>8.916667</td>\n",
       "      <td>POINT (121.367237458941 31.2407251034807)</td>\n",
       "    </tr>\n",
       "    <tr>\n",
       "      <td>5</td>\n",
       "      <td>万里名轩社区居委会</td>\n",
       "      <td>2</td>\n",
       "      <td>0</td>\n",
       "      <td>1</td>\n",
       "      <td>万里街道</td>\n",
       "      <td>普陀区</td>\n",
       "      <td>121.403601</td>\n",
       "      <td>31.269155</td>\n",
       "      <td>0.108333</td>\n",
       "      <td>0.325</td>\n",
       "      <td>0.00</td>\n",
       "      <td>4.333333</td>\n",
       "      <td>POINT (121.403601417271 31.269155049366)</td>\n",
       "    </tr>\n",
       "  </tbody>\n",
       "</table>\n",
       "</div>"
      ],
      "text/plain": [
       "              clean  smell  noise  town district   longitude   latitude  \\\n",
       "1    万寿社区居委会      3      1      1  盈浦街道      青浦区  121.104287  31.155882   \n",
       "2  万泰花园第一居委会      3      0      1   七宝镇      闵行区  121.351529  31.144327   \n",
       "3   万科阳光苑居委会      2      1      1   吴泾镇      闵行区  121.468520  31.042285   \n",
       "4      万豪居委会      3      1      1   长征镇      普陀区  121.367237  31.240725   \n",
       "5  万里名轩社区居委会      2      0      1  万里街道      普陀区  121.403601  31.269155   \n",
       "\n",
       "   clean_coef  noise_coef  smell_coef  happiness  \\\n",
       "1    0.216667       0.325        0.35   8.916667   \n",
       "2    0.216667       0.325        0.00   5.416667   \n",
       "3    0.108333       0.325        0.35   7.833333   \n",
       "4    0.216667       0.325        0.35   8.916667   \n",
       "5    0.108333       0.325        0.00   4.333333   \n",
       "\n",
       "                                    geometry  \n",
       "1  POINT (121.104287016932 31.1558823799679)  \n",
       "2   POINT (121.351529089795 31.144326843509)  \n",
       "3  POINT (121.468520387505 31.0422853979528)  \n",
       "4  POINT (121.367237458941 31.2407251034807)  \n",
       "5   POINT (121.403601417271 31.269155049366)  "
      ]
     },
     "execution_count": 117,
     "metadata": {},
     "output_type": "execute_result"
    }
   ],
   "source": [
    "df_target.head()"
   ]
  },
  {
   "cell_type": "markdown",
   "metadata": {},
   "source": [
    "## Check if the point of target is in the discrict"
   ]
  },
  {
   "cell_type": "code",
   "execution_count": 118,
   "metadata": {},
   "outputs": [],
   "source": [
    "df_district = pd.read_pickle(\"./dataset/df_district.pkl\")"
   ]
  },
  {
   "cell_type": "code",
   "execution_count": 119,
   "metadata": {},
   "outputs": [],
   "source": [
    "df_model = pd.DataFrame.copy(df_district[['geometry', 'surface']])"
   ]
  },
  {
   "cell_type": "code",
   "execution_count": 120,
   "metadata": {},
   "outputs": [],
   "source": [
    "df_model['happiness'] = 0\n",
    "df_model['nb_target'] = 0"
   ]
  },
  {
   "cell_type": "code",
   "execution_count": 121,
   "metadata": {},
   "outputs": [],
   "source": [
    "sum_happiness = 0\n",
    "for index, polygon in df_district['geometry'].items():\n",
    "    for happy, point in zip(df_target['happiness'], df_target['geometry']):\n",
    "        if point.within(polygon) == True:\n",
    "            sum_happiness += happy\n",
    "            df_model.loc[index, 'nb_target'] += 1\n",
    "    if df_model.loc[index, 'nb_target'] > 0 : \n",
    "        df_model.loc[index, 'happiness'] = sum_happiness/df_model.loc[index, 'nb_target'] \n",
    "    else:\n",
    "        df_model.loc[index, 'happiness'] = 0"
   ]
  },
  {
   "cell_type": "code",
   "execution_count": 122,
   "metadata": {},
   "outputs": [
    {
     "data": {
      "text/html": [
       "<div>\n",
       "<style scoped>\n",
       "    .dataframe tbody tr th:only-of-type {\n",
       "        vertical-align: middle;\n",
       "    }\n",
       "\n",
       "    .dataframe tbody tr th {\n",
       "        vertical-align: top;\n",
       "    }\n",
       "\n",
       "    .dataframe thead th {\n",
       "        text-align: right;\n",
       "    }\n",
       "</style>\n",
       "<table border=\"1\" class=\"dataframe\">\n",
       "  <thead>\n",
       "    <tr style=\"text-align: right;\">\n",
       "      <th></th>\n",
       "      <th>geometry</th>\n",
       "      <th>surface</th>\n",
       "      <th>happiness</th>\n",
       "      <th>nb_target</th>\n",
       "    </tr>\n",
       "  </thead>\n",
       "  <tbody>\n",
       "    <tr>\n",
       "      <td>0</td>\n",
       "      <td>POLYGON Z ((121.42168 30.68471 0.00000, 121.42...</td>\n",
       "      <td>0.080387</td>\n",
       "      <td>0.000000</td>\n",
       "      <td>0</td>\n",
       "    </tr>\n",
       "    <tr>\n",
       "      <td>1</td>\n",
       "      <td>POLYGON Z ((121.41199 30.69374 0.00000, 121.41...</td>\n",
       "      <td>0.374191</td>\n",
       "      <td>0.000000</td>\n",
       "      <td>0</td>\n",
       "    </tr>\n",
       "    <tr>\n",
       "      <td>2</td>\n",
       "      <td>POLYGON Z ((121.40163 30.70717 0.00000, 121.40...</td>\n",
       "      <td>0.082390</td>\n",
       "      <td>0.000000</td>\n",
       "      <td>0</td>\n",
       "    </tr>\n",
       "    <tr>\n",
       "      <td>3</td>\n",
       "      <td>POLYGON Z ((121.33687 30.73806 0.00000, 121.33...</td>\n",
       "      <td>19.301126</td>\n",
       "      <td>0.000000</td>\n",
       "      <td>0</td>\n",
       "    </tr>\n",
       "    <tr>\n",
       "      <td>4</td>\n",
       "      <td>POLYGON Z ((121.25143 30.79177 0.00000, 121.25...</td>\n",
       "      <td>55.066247</td>\n",
       "      <td>0.000000</td>\n",
       "      <td>0</td>\n",
       "    </tr>\n",
       "    <tr>\n",
       "      <td>5</td>\n",
       "      <td>POLYGON Z ((121.36179 30.80039 0.00000, 121.36...</td>\n",
       "      <td>43.863191</td>\n",
       "      <td>8.916667</td>\n",
       "      <td>1</td>\n",
       "    </tr>\n",
       "    <tr>\n",
       "      <td>6</td>\n",
       "      <td>POLYGON Z ((121.19465 30.81453 0.00000, 121.19...</td>\n",
       "      <td>46.804458</td>\n",
       "      <td>0.000000</td>\n",
       "      <td>0</td>\n",
       "    </tr>\n",
       "  </tbody>\n",
       "</table>\n",
       "</div>"
      ],
      "text/plain": [
       "                                            geometry    surface  happiness  \\\n",
       "0  POLYGON Z ((121.42168 30.68471 0.00000, 121.42...   0.080387   0.000000   \n",
       "1  POLYGON Z ((121.41199 30.69374 0.00000, 121.41...   0.374191   0.000000   \n",
       "2  POLYGON Z ((121.40163 30.70717 0.00000, 121.40...   0.082390   0.000000   \n",
       "3  POLYGON Z ((121.33687 30.73806 0.00000, 121.33...  19.301126   0.000000   \n",
       "4  POLYGON Z ((121.25143 30.79177 0.00000, 121.25...  55.066247   0.000000   \n",
       "5  POLYGON Z ((121.36179 30.80039 0.00000, 121.36...  43.863191   8.916667   \n",
       "6  POLYGON Z ((121.19465 30.81453 0.00000, 121.19...  46.804458   0.000000   \n",
       "\n",
       "   nb_target  \n",
       "0          0  \n",
       "1          0  \n",
       "2          0  \n",
       "3          0  \n",
       "4          0  \n",
       "5          1  \n",
       "6          0  "
      ]
     },
     "execution_count": 122,
     "metadata": {},
     "output_type": "execute_result"
    }
   ],
   "source": [
    "df_model.head(7)"
   ]
  },
  {
   "cell_type": "code",
   "execution_count": 123,
   "metadata": {},
   "outputs": [
    {
     "data": {
      "text/plain": [
       "266"
      ]
     },
     "execution_count": 123,
     "metadata": {},
     "output_type": "execute_result"
    }
   ],
   "source": [
    "len(df_model)"
   ]
  },
  {
   "cell_type": "code",
   "execution_count": 124,
   "metadata": {},
   "outputs": [],
   "source": [
    "df_modelb = df_model[df_model['nb_target']>0]\n",
    "df_modela = df_model[df_model['nb_target']<=0]"
   ]
  },
  {
   "cell_type": "code",
   "execution_count": 125,
   "metadata": {},
   "outputs": [
    {
     "data": {
      "text/plain": [
       "266"
      ]
     },
     "execution_count": 125,
     "metadata": {},
     "output_type": "execute_result"
    }
   ],
   "source": [
    "len(df_modela)+len(df_modelb)"
   ]
  },
  {
   "cell_type": "code",
   "execution_count": 126,
   "metadata": {},
   "outputs": [],
   "source": [
    "df_model = df_modelb"
   ]
  },
  {
   "cell_type": "code",
   "execution_count": 127,
   "metadata": {},
   "outputs": [
    {
     "data": {
      "text/html": [
       "<div>\n",
       "<style scoped>\n",
       "    .dataframe tbody tr th:only-of-type {\n",
       "        vertical-align: middle;\n",
       "    }\n",
       "\n",
       "    .dataframe tbody tr th {\n",
       "        vertical-align: top;\n",
       "    }\n",
       "\n",
       "    .dataframe thead th {\n",
       "        text-align: right;\n",
       "    }\n",
       "</style>\n",
       "<table border=\"1\" class=\"dataframe\">\n",
       "  <thead>\n",
       "    <tr style=\"text-align: right;\">\n",
       "      <th></th>\n",
       "      <th>index</th>\n",
       "      <th>geometry</th>\n",
       "      <th>surface</th>\n",
       "      <th>happiness</th>\n",
       "      <th>nb_target</th>\n",
       "    </tr>\n",
       "  </thead>\n",
       "  <tbody>\n",
       "    <tr>\n",
       "      <td>0</td>\n",
       "      <td>5</td>\n",
       "      <td>POLYGON Z ((121.36179 30.80039 0.00000, 121.36...</td>\n",
       "      <td>43.863191</td>\n",
       "      <td>8.916667</td>\n",
       "      <td>1</td>\n",
       "    </tr>\n",
       "    <tr>\n",
       "      <td>1</td>\n",
       "      <td>7</td>\n",
       "      <td>POLYGON Z ((121.29682 30.81891 0.00000, 121.29...</td>\n",
       "      <td>34.930480</td>\n",
       "      <td>9.277778</td>\n",
       "      <td>3</td>\n",
       "    </tr>\n",
       "    <tr>\n",
       "      <td>2</td>\n",
       "      <td>8</td>\n",
       "      <td>POLYGON Z ((121.36713 30.84311 0.00000, 121.36...</td>\n",
       "      <td>58.785377</td>\n",
       "      <td>22.833333</td>\n",
       "      <td>2</td>\n",
       "    </tr>\n",
       "    <tr>\n",
       "      <td>3</td>\n",
       "      <td>10</td>\n",
       "      <td>POLYGON Z ((121.76851 30.88156 0.00000, 121.76...</td>\n",
       "      <td>105.243132</td>\n",
       "      <td>53.500000</td>\n",
       "      <td>1</td>\n",
       "    </tr>\n",
       "    <tr>\n",
       "      <td>4</td>\n",
       "      <td>11</td>\n",
       "      <td>POLYGON Z ((121.50531 30.88954 0.00000, 121.50...</td>\n",
       "      <td>95.484156</td>\n",
       "      <td>58.083333</td>\n",
       "      <td>1</td>\n",
       "    </tr>\n",
       "    <tr>\n",
       "      <td>...</td>\n",
       "      <td>...</td>\n",
       "      <td>...</td>\n",
       "      <td>...</td>\n",
       "      <td>...</td>\n",
       "      <td>...</td>\n",
       "    </tr>\n",
       "    <tr>\n",
       "      <td>124</td>\n",
       "      <td>200</td>\n",
       "      <td>POLYGON Z ((121.38541 31.40271 0.00000, 121.38...</td>\n",
       "      <td>40.414199</td>\n",
       "      <td>804.687500</td>\n",
       "      <td>4</td>\n",
       "    </tr>\n",
       "    <tr>\n",
       "      <td>125</td>\n",
       "      <td>203</td>\n",
       "      <td>POLYGON Z ((121.21409 31.47733 0.00000, 121.21...</td>\n",
       "      <td>104.731772</td>\n",
       "      <td>1078.222222</td>\n",
       "      <td>3</td>\n",
       "    </tr>\n",
       "    <tr>\n",
       "      <td>126</td>\n",
       "      <td>212</td>\n",
       "      <td>POLYGON Z ((121.70336 31.53607 0.00000, 121.70...</td>\n",
       "      <td>56.459488</td>\n",
       "      <td>1622.458333</td>\n",
       "      <td>2</td>\n",
       "    </tr>\n",
       "    <tr>\n",
       "      <td>127</td>\n",
       "      <td>230</td>\n",
       "      <td>POLYGON Z ((121.63335 31.63086 0.00000, 121.63...</td>\n",
       "      <td>55.313580</td>\n",
       "      <td>1628.125000</td>\n",
       "      <td>2</td>\n",
       "    </tr>\n",
       "    <tr>\n",
       "      <td>128</td>\n",
       "      <td>234</td>\n",
       "      <td>POLYGON Z ((121.37007 31.67297 0.00000, 121.37...</td>\n",
       "      <td>52.707852</td>\n",
       "      <td>655.466667</td>\n",
       "      <td>5</td>\n",
       "    </tr>\n",
       "  </tbody>\n",
       "</table>\n",
       "<p>129 rows × 5 columns</p>\n",
       "</div>"
      ],
      "text/plain": [
       "     index                                           geometry     surface  \\\n",
       "0        5  POLYGON Z ((121.36179 30.80039 0.00000, 121.36...   43.863191   \n",
       "1        7  POLYGON Z ((121.29682 30.81891 0.00000, 121.29...   34.930480   \n",
       "2        8  POLYGON Z ((121.36713 30.84311 0.00000, 121.36...   58.785377   \n",
       "3       10  POLYGON Z ((121.76851 30.88156 0.00000, 121.76...  105.243132   \n",
       "4       11  POLYGON Z ((121.50531 30.88954 0.00000, 121.50...   95.484156   \n",
       "..     ...                                                ...         ...   \n",
       "124    200  POLYGON Z ((121.38541 31.40271 0.00000, 121.38...   40.414199   \n",
       "125    203  POLYGON Z ((121.21409 31.47733 0.00000, 121.21...  104.731772   \n",
       "126    212  POLYGON Z ((121.70336 31.53607 0.00000, 121.70...   56.459488   \n",
       "127    230  POLYGON Z ((121.63335 31.63086 0.00000, 121.63...   55.313580   \n",
       "128    234  POLYGON Z ((121.37007 31.67297 0.00000, 121.37...   52.707852   \n",
       "\n",
       "       happiness  nb_target  \n",
       "0       8.916667          1  \n",
       "1       9.277778          3  \n",
       "2      22.833333          2  \n",
       "3      53.500000          1  \n",
       "4      58.083333          1  \n",
       "..           ...        ...  \n",
       "124   804.687500          4  \n",
       "125  1078.222222          3  \n",
       "126  1622.458333          2  \n",
       "127  1628.125000          2  \n",
       "128   655.466667          5  \n",
       "\n",
       "[129 rows x 5 columns]"
      ]
     },
     "execution_count": 127,
     "metadata": {},
     "output_type": "execute_result"
    }
   ],
   "source": [
    "df_model.reset_index()"
   ]
  },
  {
   "cell_type": "markdown",
   "metadata": {},
   "source": [
    "### Save the model"
   ]
  },
  {
   "cell_type": "code",
   "execution_count": 128,
   "metadata": {},
   "outputs": [],
   "source": [
    "df_model.to_pickle(\"./df_model.pickle\")"
   ]
  },
  {
   "cell_type": "markdown",
   "metadata": {},
   "source": [
    "### Load the model"
   ]
  },
  {
   "cell_type": "code",
   "execution_count": 98,
   "metadata": {},
   "outputs": [],
   "source": [
    "df_model = pd.read_pickle(\"df_model.pickle\")"
   ]
  },
  {
   "cell_type": "markdown",
   "metadata": {},
   "source": [
    "# Features"
   ]
  },
  {
   "cell_type": "markdown",
   "metadata": {},
   "source": [
    "## POI"
   ]
  },
  {
   "cell_type": "code",
   "execution_count": 82,
   "metadata": {},
   "outputs": [
    {
     "data": {
      "text/html": [
       "<div>\n",
       "<style scoped>\n",
       "    .dataframe tbody tr th:only-of-type {\n",
       "        vertical-align: middle;\n",
       "    }\n",
       "\n",
       "    .dataframe tbody tr th {\n",
       "        vertical-align: top;\n",
       "    }\n",
       "\n",
       "    .dataframe thead th {\n",
       "        text-align: right;\n",
       "    }\n",
       "</style>\n",
       "<table border=\"1\" class=\"dataframe\">\n",
       "  <thead>\n",
       "    <tr style=\"text-align: right;\">\n",
       "      <th></th>\n",
       "      <th>geometry</th>\n",
       "      <th>nb_transportation</th>\n",
       "      <th>nb_shopping</th>\n",
       "      <th>nb_restaurant</th>\n",
       "      <th>nb_scenicSpot</th>\n",
       "      <th>nb_stadiumAndGym</th>\n",
       "    </tr>\n",
       "  </thead>\n",
       "  <tbody>\n",
       "    <tr>\n",
       "      <td>0</td>\n",
       "      <td>POLYGON Z ((121.42168 30.68471 0.00000, 121.42...</td>\n",
       "      <td>0</td>\n",
       "      <td>0</td>\n",
       "      <td>0</td>\n",
       "      <td>0</td>\n",
       "      <td>0</td>\n",
       "    </tr>\n",
       "    <tr>\n",
       "      <td>1</td>\n",
       "      <td>POLYGON Z ((121.41199 30.69374 0.00000, 121.41...</td>\n",
       "      <td>0</td>\n",
       "      <td>0</td>\n",
       "      <td>0</td>\n",
       "      <td>0</td>\n",
       "      <td>0</td>\n",
       "    </tr>\n",
       "    <tr>\n",
       "      <td>2</td>\n",
       "      <td>POLYGON Z ((121.40163 30.70717 0.00000, 121.40...</td>\n",
       "      <td>0</td>\n",
       "      <td>0</td>\n",
       "      <td>0</td>\n",
       "      <td>0</td>\n",
       "      <td>0</td>\n",
       "    </tr>\n",
       "    <tr>\n",
       "      <td>3</td>\n",
       "      <td>POLYGON Z ((121.33687 30.73806 0.00000, 121.33...</td>\n",
       "      <td>1087</td>\n",
       "      <td>1789</td>\n",
       "      <td>748</td>\n",
       "      <td>28</td>\n",
       "      <td>32</td>\n",
       "    </tr>\n",
       "    <tr>\n",
       "      <td>4</td>\n",
       "      <td>POLYGON Z ((121.25143 30.79177 0.00000, 121.25...</td>\n",
       "      <td>1428</td>\n",
       "      <td>1762</td>\n",
       "      <td>616</td>\n",
       "      <td>9</td>\n",
       "      <td>12</td>\n",
       "    </tr>\n",
       "  </tbody>\n",
       "</table>\n",
       "</div>"
      ],
      "text/plain": [
       "                                            geometry  nb_transportation  \\\n",
       "0  POLYGON Z ((121.42168 30.68471 0.00000, 121.42...                  0   \n",
       "1  POLYGON Z ((121.41199 30.69374 0.00000, 121.41...                  0   \n",
       "2  POLYGON Z ((121.40163 30.70717 0.00000, 121.40...                  0   \n",
       "3  POLYGON Z ((121.33687 30.73806 0.00000, 121.33...               1087   \n",
       "4  POLYGON Z ((121.25143 30.79177 0.00000, 121.25...               1428   \n",
       "\n",
       "   nb_shopping  nb_restaurant  nb_scenicSpot  nb_stadiumAndGym  \n",
       "0            0              0              0                 0  \n",
       "1            0              0              0                 0  \n",
       "2            0              0              0                 0  \n",
       "3         1789            748             28                32  \n",
       "4         1762            616              9                12  "
      ]
     },
     "execution_count": 82,
     "metadata": {},
     "output_type": "execute_result"
    }
   ],
   "source": [
    "df_poi = pd.read_pickle(\"./variables/poi_per_district.pkl\")\n",
    "df_poi.head()"
   ]
  },
  {
   "cell_type": "code",
   "execution_count": 200,
   "metadata": {},
   "outputs": [],
   "source": [
    "df_features = pd.DataFrame.copy(df_poi)"
   ]
  },
  {
   "cell_type": "markdown",
   "metadata": {},
   "source": [
    "## Green Space"
   ]
  },
  {
   "cell_type": "code",
   "execution_count": 84,
   "metadata": {},
   "outputs": [
    {
     "data": {
      "text/html": [
       "<div>\n",
       "<style scoped>\n",
       "    .dataframe tbody tr th:only-of-type {\n",
       "        vertical-align: middle;\n",
       "    }\n",
       "\n",
       "    .dataframe tbody tr th {\n",
       "        vertical-align: top;\n",
       "    }\n",
       "\n",
       "    .dataframe thead th {\n",
       "        text-align: right;\n",
       "    }\n",
       "</style>\n",
       "<table border=\"1\" class=\"dataframe\">\n",
       "  <thead>\n",
       "    <tr style=\"text-align: right;\">\n",
       "      <th></th>\n",
       "      <th>new_geometry</th>\n",
       "      <th>green_area</th>\n",
       "      <th>green_area_proportion</th>\n",
       "    </tr>\n",
       "  </thead>\n",
       "  <tbody>\n",
       "    <tr>\n",
       "      <td>35</td>\n",
       "      <td>POLYGON ((121.44356 31.00937, 121.44338 31.009...</td>\n",
       "      <td>0.000076</td>\n",
       "      <td>0.026719</td>\n",
       "    </tr>\n",
       "    <tr>\n",
       "      <td>47</td>\n",
       "      <td>POLYGON ((121.38734 31.03991, 121.38699 31.040...</td>\n",
       "      <td>0.000001</td>\n",
       "      <td>0.000759</td>\n",
       "    </tr>\n",
       "    <tr>\n",
       "      <td>48</td>\n",
       "      <td>POLYGON ((121.42360 31.07339, 121.42303 31.073...</td>\n",
       "      <td>0.000004</td>\n",
       "      <td>0.001591</td>\n",
       "    </tr>\n",
       "    <tr>\n",
       "      <td>50</td>\n",
       "      <td>POLYGON ((121.45789 31.10380, 121.45879 31.101...</td>\n",
       "      <td>0.000072</td>\n",
       "      <td>0.020270</td>\n",
       "    </tr>\n",
       "    <tr>\n",
       "      <td>53</td>\n",
       "      <td>POLYGON ((121.46062 31.11422, 121.46045 31.113...</td>\n",
       "      <td>0.000058</td>\n",
       "      <td>0.083765</td>\n",
       "    </tr>\n",
       "  </tbody>\n",
       "</table>\n",
       "</div>"
      ],
      "text/plain": [
       "                                         new_geometry  green_area  \\\n",
       "35  POLYGON ((121.44356 31.00937, 121.44338 31.009...    0.000076   \n",
       "47  POLYGON ((121.38734 31.03991, 121.38699 31.040...    0.000001   \n",
       "48  POLYGON ((121.42360 31.07339, 121.42303 31.073...    0.000004   \n",
       "50  POLYGON ((121.45789 31.10380, 121.45879 31.101...    0.000072   \n",
       "53  POLYGON ((121.46062 31.11422, 121.46045 31.113...    0.000058   \n",
       "\n",
       "    green_area_proportion  \n",
       "35               0.026719  \n",
       "47               0.000759  \n",
       "48               0.001591  \n",
       "50               0.020270  \n",
       "53               0.083765  "
      ]
     },
     "execution_count": 84,
     "metadata": {},
     "output_type": "execute_result"
    }
   ],
   "source": [
    "df_greenspace = pd.read_pickle(\"./variables/greenspaces_per_district.pickle\")\n",
    "df_greenspace.head()"
   ]
  },
  {
   "cell_type": "code",
   "execution_count": 201,
   "metadata": {},
   "outputs": [],
   "source": [
    "df_features.insert(6,'green_area_proportion', df_greenspace.green_area_proportion)"
   ]
  },
  {
   "cell_type": "markdown",
   "metadata": {},
   "source": [
    "## Mobike "
   ]
  },
  {
   "cell_type": "code",
   "execution_count": 104,
   "metadata": {},
   "outputs": [
    {
     "data": {
      "text/html": [
       "<div>\n",
       "<style scoped>\n",
       "    .dataframe tbody tr th:only-of-type {\n",
       "        vertical-align: middle;\n",
       "    }\n",
       "\n",
       "    .dataframe tbody tr th {\n",
       "        vertical-align: top;\n",
       "    }\n",
       "\n",
       "    .dataframe thead th {\n",
       "        text-align: right;\n",
       "    }\n",
       "</style>\n",
       "<table border=\"1\" class=\"dataframe\">\n",
       "  <thead>\n",
       "    <tr style=\"text-align: right;\">\n",
       "      <th></th>\n",
       "      <th>geometry</th>\n",
       "      <th>nb_mobike</th>\n",
       "      <th>nb_mobike_proportion</th>\n",
       "    </tr>\n",
       "  </thead>\n",
       "  <tbody>\n",
       "    <tr>\n",
       "      <td>0</td>\n",
       "      <td>POLYGON Z ((121.42168 30.68471 0.00000, 121.42...</td>\n",
       "      <td>0</td>\n",
       "      <td>0.000000</td>\n",
       "    </tr>\n",
       "    <tr>\n",
       "      <td>1</td>\n",
       "      <td>POLYGON Z ((121.41199 30.69374 0.00000, 121.41...</td>\n",
       "      <td>0</td>\n",
       "      <td>0.000000</td>\n",
       "    </tr>\n",
       "    <tr>\n",
       "      <td>2</td>\n",
       "      <td>POLYGON Z ((121.40163 30.70717 0.00000, 121.40...</td>\n",
       "      <td>0</td>\n",
       "      <td>0.000000</td>\n",
       "    </tr>\n",
       "    <tr>\n",
       "      <td>3</td>\n",
       "      <td>POLYGON Z ((121.33687 30.73806 0.00000, 121.33...</td>\n",
       "      <td>0</td>\n",
       "      <td>0.000000</td>\n",
       "    </tr>\n",
       "    <tr>\n",
       "      <td>4</td>\n",
       "      <td>POLYGON Z ((121.25143 30.79177 0.00000, 121.25...</td>\n",
       "      <td>0</td>\n",
       "      <td>0.000000</td>\n",
       "    </tr>\n",
       "    <tr>\n",
       "      <td>5</td>\n",
       "      <td>POLYGON Z ((121.36179 30.80039 0.00000, 121.36...</td>\n",
       "      <td>0</td>\n",
       "      <td>0.000000</td>\n",
       "    </tr>\n",
       "    <tr>\n",
       "      <td>6</td>\n",
       "      <td>POLYGON Z ((121.19465 30.81453 0.00000, 121.19...</td>\n",
       "      <td>0</td>\n",
       "      <td>0.000000</td>\n",
       "    </tr>\n",
       "    <tr>\n",
       "      <td>7</td>\n",
       "      <td>POLYGON Z ((121.29682 30.81891 0.00000, 121.29...</td>\n",
       "      <td>0</td>\n",
       "      <td>0.000000</td>\n",
       "    </tr>\n",
       "    <tr>\n",
       "      <td>8</td>\n",
       "      <td>POLYGON Z ((121.36713 30.84311 0.00000, 121.36...</td>\n",
       "      <td>2</td>\n",
       "      <td>360.981556</td>\n",
       "    </tr>\n",
       "    <tr>\n",
       "      <td>9</td>\n",
       "      <td>POLYGON Z ((121.17453 30.87610 0.00000, 121.17...</td>\n",
       "      <td>0</td>\n",
       "      <td>0.000000</td>\n",
       "    </tr>\n",
       "    <tr>\n",
       "      <td>10</td>\n",
       "      <td>POLYGON Z ((121.76851 30.88156 0.00000, 121.76...</td>\n",
       "      <td>21</td>\n",
       "      <td>2115.978670</td>\n",
       "    </tr>\n",
       "    <tr>\n",
       "      <td>11</td>\n",
       "      <td>POLYGON Z ((121.50531 30.88954 0.00000, 121.50...</td>\n",
       "      <td>10</td>\n",
       "      <td>1110.713311</td>\n",
       "    </tr>\n",
       "    <tr>\n",
       "      <td>12</td>\n",
       "      <td>POLYGON Z ((121.87943 30.89782 0.00000, 121.87...</td>\n",
       "      <td>0</td>\n",
       "      <td>0.000000</td>\n",
       "    </tr>\n",
       "    <tr>\n",
       "      <td>13</td>\n",
       "      <td>POLYGON Z ((121.23587 30.92756 0.00000, 121.23...</td>\n",
       "      <td>0</td>\n",
       "      <td>0.000000</td>\n",
       "    </tr>\n",
       "    <tr>\n",
       "      <td>14</td>\n",
       "      <td>POLYGON Z ((121.22271 30.92908 0.00000, 121.22...</td>\n",
       "      <td>0</td>\n",
       "      <td>0.000000</td>\n",
       "    </tr>\n",
       "    <tr>\n",
       "      <td>15</td>\n",
       "      <td>POLYGON Z ((121.97401 30.92072 0.00000, 121.97...</td>\n",
       "      <td>11</td>\n",
       "      <td>2091.752686</td>\n",
       "    </tr>\n",
       "    <tr>\n",
       "      <td>16</td>\n",
       "      <td>POLYGON Z ((121.01026 30.94997 0.00000, 121.01...</td>\n",
       "      <td>0</td>\n",
       "      <td>0.000000</td>\n",
       "    </tr>\n",
       "    <tr>\n",
       "      <td>17</td>\n",
       "      <td>POLYGON Z ((121.02382 30.94576 0.00000, 121.02...</td>\n",
       "      <td>0</td>\n",
       "      <td>0.000000</td>\n",
       "    </tr>\n",
       "    <tr>\n",
       "      <td>18</td>\n",
       "      <td>POLYGON Z ((121.83252 30.93485 0.00000, 121.83...</td>\n",
       "      <td>0</td>\n",
       "      <td>0.000000</td>\n",
       "    </tr>\n",
       "    <tr>\n",
       "      <td>19</td>\n",
       "      <td>POLYGON Z ((121.59523 30.94994 0.00000, 121.59...</td>\n",
       "      <td>0</td>\n",
       "      <td>0.000000</td>\n",
       "    </tr>\n",
       "    <tr>\n",
       "      <td>20</td>\n",
       "      <td>POLYGON Z ((121.21718 30.96160 0.00000, 121.21...</td>\n",
       "      <td>0</td>\n",
       "      <td>0.000000</td>\n",
       "    </tr>\n",
       "    <tr>\n",
       "      <td>21</td>\n",
       "      <td>POLYGON Z ((121.09337 30.96773 0.00000, 121.09...</td>\n",
       "      <td>0</td>\n",
       "      <td>0.000000</td>\n",
       "    </tr>\n",
       "    <tr>\n",
       "      <td>22</td>\n",
       "      <td>POLYGON Z ((121.34660 30.97809 0.00000, 121.34...</td>\n",
       "      <td>0</td>\n",
       "      <td>0.000000</td>\n",
       "    </tr>\n",
       "    <tr>\n",
       "      <td>23</td>\n",
       "      <td>POLYGON Z ((121.70372 30.98574 0.00000, 121.70...</td>\n",
       "      <td>0</td>\n",
       "      <td>0.000000</td>\n",
       "    </tr>\n",
       "    <tr>\n",
       "      <td>24</td>\n",
       "      <td>POLYGON Z ((121.41631 30.96361 0.00000, 121.41...</td>\n",
       "      <td>0</td>\n",
       "      <td>0.000000</td>\n",
       "    </tr>\n",
       "    <tr>\n",
       "      <td>25</td>\n",
       "      <td>POLYGON Z ((121.67575 30.99304 0.00000, 121.67...</td>\n",
       "      <td>0</td>\n",
       "      <td>0.000000</td>\n",
       "    </tr>\n",
       "    <tr>\n",
       "      <td>26</td>\n",
       "      <td>POLYGON Z ((121.82919 30.98983 0.00000, 121.82...</td>\n",
       "      <td>0</td>\n",
       "      <td>0.000000</td>\n",
       "    </tr>\n",
       "    <tr>\n",
       "      <td>27</td>\n",
       "      <td>POLYGON Z ((121.88711 30.97558 0.00000, 121.88...</td>\n",
       "      <td>0</td>\n",
       "      <td>0.000000</td>\n",
       "    </tr>\n",
       "    <tr>\n",
       "      <td>28</td>\n",
       "      <td>POLYGON Z ((121.17125 30.99866 0.00000, 121.17...</td>\n",
       "      <td>0</td>\n",
       "      <td>0.000000</td>\n",
       "    </tr>\n",
       "    <tr>\n",
       "      <td>29</td>\n",
       "      <td>POLYGON Z ((121.56613 31.00055 0.00000, 121.56...</td>\n",
       "      <td>9</td>\n",
       "      <td>1328.548355</td>\n",
       "    </tr>\n",
       "  </tbody>\n",
       "</table>\n",
       "</div>"
      ],
      "text/plain": [
       "                                             geometry  nb_mobike  \\\n",
       "0   POLYGON Z ((121.42168 30.68471 0.00000, 121.42...          0   \n",
       "1   POLYGON Z ((121.41199 30.69374 0.00000, 121.41...          0   \n",
       "2   POLYGON Z ((121.40163 30.70717 0.00000, 121.40...          0   \n",
       "3   POLYGON Z ((121.33687 30.73806 0.00000, 121.33...          0   \n",
       "4   POLYGON Z ((121.25143 30.79177 0.00000, 121.25...          0   \n",
       "5   POLYGON Z ((121.36179 30.80039 0.00000, 121.36...          0   \n",
       "6   POLYGON Z ((121.19465 30.81453 0.00000, 121.19...          0   \n",
       "7   POLYGON Z ((121.29682 30.81891 0.00000, 121.29...          0   \n",
       "8   POLYGON Z ((121.36713 30.84311 0.00000, 121.36...          2   \n",
       "9   POLYGON Z ((121.17453 30.87610 0.00000, 121.17...          0   \n",
       "10  POLYGON Z ((121.76851 30.88156 0.00000, 121.76...         21   \n",
       "11  POLYGON Z ((121.50531 30.88954 0.00000, 121.50...         10   \n",
       "12  POLYGON Z ((121.87943 30.89782 0.00000, 121.87...          0   \n",
       "13  POLYGON Z ((121.23587 30.92756 0.00000, 121.23...          0   \n",
       "14  POLYGON Z ((121.22271 30.92908 0.00000, 121.22...          0   \n",
       "15  POLYGON Z ((121.97401 30.92072 0.00000, 121.97...         11   \n",
       "16  POLYGON Z ((121.01026 30.94997 0.00000, 121.01...          0   \n",
       "17  POLYGON Z ((121.02382 30.94576 0.00000, 121.02...          0   \n",
       "18  POLYGON Z ((121.83252 30.93485 0.00000, 121.83...          0   \n",
       "19  POLYGON Z ((121.59523 30.94994 0.00000, 121.59...          0   \n",
       "20  POLYGON Z ((121.21718 30.96160 0.00000, 121.21...          0   \n",
       "21  POLYGON Z ((121.09337 30.96773 0.00000, 121.09...          0   \n",
       "22  POLYGON Z ((121.34660 30.97809 0.00000, 121.34...          0   \n",
       "23  POLYGON Z ((121.70372 30.98574 0.00000, 121.70...          0   \n",
       "24  POLYGON Z ((121.41631 30.96361 0.00000, 121.41...          0   \n",
       "25  POLYGON Z ((121.67575 30.99304 0.00000, 121.67...          0   \n",
       "26  POLYGON Z ((121.82919 30.98983 0.00000, 121.82...          0   \n",
       "27  POLYGON Z ((121.88711 30.97558 0.00000, 121.88...          0   \n",
       "28  POLYGON Z ((121.17125 30.99866 0.00000, 121.17...          0   \n",
       "29  POLYGON Z ((121.56613 31.00055 0.00000, 121.56...          9   \n",
       "\n",
       "    nb_mobike_proportion  \n",
       "0               0.000000  \n",
       "1               0.000000  \n",
       "2               0.000000  \n",
       "3               0.000000  \n",
       "4               0.000000  \n",
       "5               0.000000  \n",
       "6               0.000000  \n",
       "7               0.000000  \n",
       "8             360.981556  \n",
       "9               0.000000  \n",
       "10           2115.978670  \n",
       "11           1110.713311  \n",
       "12              0.000000  \n",
       "13              0.000000  \n",
       "14              0.000000  \n",
       "15           2091.752686  \n",
       "16              0.000000  \n",
       "17              0.000000  \n",
       "18              0.000000  \n",
       "19              0.000000  \n",
       "20              0.000000  \n",
       "21              0.000000  \n",
       "22              0.000000  \n",
       "23              0.000000  \n",
       "24              0.000000  \n",
       "25              0.000000  \n",
       "26              0.000000  \n",
       "27              0.000000  \n",
       "28              0.000000  \n",
       "29           1328.548355  "
      ]
     },
     "execution_count": 104,
     "metadata": {},
     "output_type": "execute_result"
    }
   ],
   "source": [
    "df_mobike = pd.read_pickle(\"./variables/mobike_per_district.pickle\")\n",
    "df_mobike.head(30)"
   ]
  },
  {
   "cell_type": "code",
   "execution_count": null,
   "metadata": {},
   "outputs": [],
   "source": [
    "df_features.insert(7,'nb_mobike', df_mobike.nb_mobike)"
   ]
  },
  {
   "cell_type": "markdown",
   "metadata": {},
   "source": [
    "# Clean features"
   ]
  },
  {
   "cell_type": "code",
   "execution_count": 202,
   "metadata": {},
   "outputs": [],
   "source": [
    "# Drop row where all the features are null\n",
    "columns = ['nb_transportation', 'nb_shopping', 'nb_restaurant', 'nb_scenicSpot', 'nb_stadiumAndGym', 'green_area_proportion']\n",
    "df_features = df_features.replace(0, pd.np.nan).dropna(axis=0, how='all', subset=columns)"
   ]
  },
  {
   "cell_type": "code",
   "execution_count": 203,
   "metadata": {},
   "outputs": [],
   "source": [
    "df_features[columns] = df_features[columns].fillna(0).astype(float)"
   ]
  },
  {
   "cell_type": "code",
   "execution_count": 204,
   "metadata": {},
   "outputs": [
    {
     "data": {
      "text/html": [
       "<div>\n",
       "<style scoped>\n",
       "    .dataframe tbody tr th:only-of-type {\n",
       "        vertical-align: middle;\n",
       "    }\n",
       "\n",
       "    .dataframe tbody tr th {\n",
       "        vertical-align: top;\n",
       "    }\n",
       "\n",
       "    .dataframe thead th {\n",
       "        text-align: right;\n",
       "    }\n",
       "</style>\n",
       "<table border=\"1\" class=\"dataframe\">\n",
       "  <thead>\n",
       "    <tr style=\"text-align: right;\">\n",
       "      <th></th>\n",
       "      <th>index</th>\n",
       "      <th>geometry</th>\n",
       "      <th>nb_transportation</th>\n",
       "      <th>nb_shopping</th>\n",
       "      <th>nb_restaurant</th>\n",
       "      <th>nb_scenicSpot</th>\n",
       "      <th>nb_stadiumAndGym</th>\n",
       "      <th>green_area_proportion</th>\n",
       "    </tr>\n",
       "  </thead>\n",
       "  <tbody>\n",
       "    <tr>\n",
       "      <td>0</td>\n",
       "      <td>3</td>\n",
       "      <td>POLYGON Z ((121.33687 30.73806 0.00000, 121.33...</td>\n",
       "      <td>1087.0</td>\n",
       "      <td>1789.0</td>\n",
       "      <td>748.0</td>\n",
       "      <td>28.0</td>\n",
       "      <td>32.0</td>\n",
       "      <td>0.0</td>\n",
       "    </tr>\n",
       "    <tr>\n",
       "      <td>1</td>\n",
       "      <td>4</td>\n",
       "      <td>POLYGON Z ((121.25143 30.79177 0.00000, 121.25...</td>\n",
       "      <td>1428.0</td>\n",
       "      <td>1762.0</td>\n",
       "      <td>616.0</td>\n",
       "      <td>9.0</td>\n",
       "      <td>12.0</td>\n",
       "      <td>0.0</td>\n",
       "    </tr>\n",
       "    <tr>\n",
       "      <td>2</td>\n",
       "      <td>5</td>\n",
       "      <td>POLYGON Z ((121.36179 30.80039 0.00000, 121.36...</td>\n",
       "      <td>1622.0</td>\n",
       "      <td>2152.0</td>\n",
       "      <td>1131.0</td>\n",
       "      <td>14.0</td>\n",
       "      <td>28.0</td>\n",
       "      <td>0.0</td>\n",
       "    </tr>\n",
       "    <tr>\n",
       "      <td>3</td>\n",
       "      <td>6</td>\n",
       "      <td>POLYGON Z ((121.19465 30.81453 0.00000, 121.19...</td>\n",
       "      <td>492.0</td>\n",
       "      <td>197.0</td>\n",
       "      <td>86.0</td>\n",
       "      <td>9.0</td>\n",
       "      <td>4.0</td>\n",
       "      <td>0.0</td>\n",
       "    </tr>\n",
       "    <tr>\n",
       "      <td>4</td>\n",
       "      <td>7</td>\n",
       "      <td>POLYGON Z ((121.29682 30.81891 0.00000, 121.29...</td>\n",
       "      <td>835.0</td>\n",
       "      <td>374.0</td>\n",
       "      <td>177.0</td>\n",
       "      <td>12.0</td>\n",
       "      <td>7.0</td>\n",
       "      <td>0.0</td>\n",
       "    </tr>\n",
       "    <tr>\n",
       "      <td>...</td>\n",
       "      <td>...</td>\n",
       "      <td>...</td>\n",
       "      <td>...</td>\n",
       "      <td>...</td>\n",
       "      <td>...</td>\n",
       "      <td>...</td>\n",
       "      <td>...</td>\n",
       "      <td>...</td>\n",
       "    </tr>\n",
       "    <tr>\n",
       "      <td>243</td>\n",
       "      <td>261</td>\n",
       "      <td>POLYGON Z ((121.18624 31.80997 0.00000, 121.18...</td>\n",
       "      <td>302.0</td>\n",
       "      <td>18.0</td>\n",
       "      <td>15.0</td>\n",
       "      <td>4.0</td>\n",
       "      <td>0.0</td>\n",
       "      <td>0.0</td>\n",
       "    </tr>\n",
       "    <tr>\n",
       "      <td>244</td>\n",
       "      <td>262</td>\n",
       "      <td>POLYGON Z ((121.40581 31.79716 0.00000, 121.40...</td>\n",
       "      <td>7.0</td>\n",
       "      <td>0.0</td>\n",
       "      <td>0.0</td>\n",
       "      <td>0.0</td>\n",
       "      <td>0.0</td>\n",
       "      <td>0.0</td>\n",
       "    </tr>\n",
       "    <tr>\n",
       "      <td>245</td>\n",
       "      <td>263</td>\n",
       "      <td>POLYGON Z ((121.24444 31.84448 0.00000, 121.24...</td>\n",
       "      <td>230.0</td>\n",
       "      <td>28.0</td>\n",
       "      <td>17.0</td>\n",
       "      <td>1.0</td>\n",
       "      <td>0.0</td>\n",
       "      <td>0.0</td>\n",
       "    </tr>\n",
       "    <tr>\n",
       "      <td>246</td>\n",
       "      <td>264</td>\n",
       "      <td>POLYGON Z ((121.26771 31.84871 0.00000, 121.26...</td>\n",
       "      <td>1.0</td>\n",
       "      <td>0.0</td>\n",
       "      <td>0.0</td>\n",
       "      <td>0.0</td>\n",
       "      <td>0.0</td>\n",
       "      <td>0.0</td>\n",
       "    </tr>\n",
       "    <tr>\n",
       "      <td>247</td>\n",
       "      <td>265</td>\n",
       "      <td>POLYGON Z ((121.39055 31.82290 0.00000, 121.39...</td>\n",
       "      <td>114.0</td>\n",
       "      <td>11.0</td>\n",
       "      <td>0.0</td>\n",
       "      <td>0.0</td>\n",
       "      <td>0.0</td>\n",
       "      <td>0.0</td>\n",
       "    </tr>\n",
       "  </tbody>\n",
       "</table>\n",
       "<p>248 rows × 8 columns</p>\n",
       "</div>"
      ],
      "text/plain": [
       "     index                                           geometry  \\\n",
       "0        3  POLYGON Z ((121.33687 30.73806 0.00000, 121.33...   \n",
       "1        4  POLYGON Z ((121.25143 30.79177 0.00000, 121.25...   \n",
       "2        5  POLYGON Z ((121.36179 30.80039 0.00000, 121.36...   \n",
       "3        6  POLYGON Z ((121.19465 30.81453 0.00000, 121.19...   \n",
       "4        7  POLYGON Z ((121.29682 30.81891 0.00000, 121.29...   \n",
       "..     ...                                                ...   \n",
       "243    261  POLYGON Z ((121.18624 31.80997 0.00000, 121.18...   \n",
       "244    262  POLYGON Z ((121.40581 31.79716 0.00000, 121.40...   \n",
       "245    263  POLYGON Z ((121.24444 31.84448 0.00000, 121.24...   \n",
       "246    264  POLYGON Z ((121.26771 31.84871 0.00000, 121.26...   \n",
       "247    265  POLYGON Z ((121.39055 31.82290 0.00000, 121.39...   \n",
       "\n",
       "     nb_transportation  nb_shopping  nb_restaurant  nb_scenicSpot  \\\n",
       "0               1087.0       1789.0          748.0           28.0   \n",
       "1               1428.0       1762.0          616.0            9.0   \n",
       "2               1622.0       2152.0         1131.0           14.0   \n",
       "3                492.0        197.0           86.0            9.0   \n",
       "4                835.0        374.0          177.0           12.0   \n",
       "..                 ...          ...            ...            ...   \n",
       "243              302.0         18.0           15.0            4.0   \n",
       "244                7.0          0.0            0.0            0.0   \n",
       "245              230.0         28.0           17.0            1.0   \n",
       "246                1.0          0.0            0.0            0.0   \n",
       "247              114.0         11.0            0.0            0.0   \n",
       "\n",
       "     nb_stadiumAndGym  green_area_proportion  \n",
       "0                32.0                    0.0  \n",
       "1                12.0                    0.0  \n",
       "2                28.0                    0.0  \n",
       "3                 4.0                    0.0  \n",
       "4                 7.0                    0.0  \n",
       "..                ...                    ...  \n",
       "243               0.0                    0.0  \n",
       "244               0.0                    0.0  \n",
       "245               0.0                    0.0  \n",
       "246               0.0                    0.0  \n",
       "247               0.0                    0.0  \n",
       "\n",
       "[248 rows x 8 columns]"
      ]
     },
     "execution_count": 204,
     "metadata": {},
     "output_type": "execute_result"
    }
   ],
   "source": [
    "df_features.reset_index()"
   ]
  },
  {
   "cell_type": "markdown",
   "metadata": {},
   "source": [
    "# Modeling"
   ]
  },
  {
   "cell_type": "code",
   "execution_count": 219,
   "metadata": {},
   "outputs": [],
   "source": [
    "df_model = pd.merge(df_model, df_features, left_on='geometry', right_on='geometry')"
   ]
  },
  {
   "cell_type": "code",
   "execution_count": 220,
   "metadata": {},
   "outputs": [
    {
     "data": {
      "text/html": [
       "<div>\n",
       "<style scoped>\n",
       "    .dataframe tbody tr th:only-of-type {\n",
       "        vertical-align: middle;\n",
       "    }\n",
       "\n",
       "    .dataframe tbody tr th {\n",
       "        vertical-align: top;\n",
       "    }\n",
       "\n",
       "    .dataframe thead th {\n",
       "        text-align: right;\n",
       "    }\n",
       "</style>\n",
       "<table border=\"1\" class=\"dataframe\">\n",
       "  <thead>\n",
       "    <tr style=\"text-align: right;\">\n",
       "      <th></th>\n",
       "      <th>geometry</th>\n",
       "      <th>happiness</th>\n",
       "      <th>nb_transportation</th>\n",
       "      <th>nb_shopping</th>\n",
       "      <th>nb_restaurant</th>\n",
       "      <th>nb_scenicSpot</th>\n",
       "      <th>nb_stadiumAndGym</th>\n",
       "      <th>green_area_proportion</th>\n",
       "    </tr>\n",
       "  </thead>\n",
       "  <tbody>\n",
       "    <tr>\n",
       "      <td>0</td>\n",
       "      <td>POLYGON Z ((121.33687 30.73806 0.00000, 121.33...</td>\n",
       "      <td>0.000000</td>\n",
       "      <td>1087.0</td>\n",
       "      <td>1789.0</td>\n",
       "      <td>748.0</td>\n",
       "      <td>28.0</td>\n",
       "      <td>32.0</td>\n",
       "      <td>0.0</td>\n",
       "    </tr>\n",
       "    <tr>\n",
       "      <td>1</td>\n",
       "      <td>POLYGON Z ((121.25143 30.79177 0.00000, 121.25...</td>\n",
       "      <td>0.000000</td>\n",
       "      <td>1428.0</td>\n",
       "      <td>1762.0</td>\n",
       "      <td>616.0</td>\n",
       "      <td>9.0</td>\n",
       "      <td>12.0</td>\n",
       "      <td>0.0</td>\n",
       "    </tr>\n",
       "    <tr>\n",
       "      <td>2</td>\n",
       "      <td>POLYGON Z ((121.36179 30.80039 0.00000, 121.36...</td>\n",
       "      <td>8.916667</td>\n",
       "      <td>1622.0</td>\n",
       "      <td>2152.0</td>\n",
       "      <td>1131.0</td>\n",
       "      <td>14.0</td>\n",
       "      <td>28.0</td>\n",
       "      <td>0.0</td>\n",
       "    </tr>\n",
       "    <tr>\n",
       "      <td>3</td>\n",
       "      <td>POLYGON Z ((121.19465 30.81453 0.00000, 121.19...</td>\n",
       "      <td>0.000000</td>\n",
       "      <td>492.0</td>\n",
       "      <td>197.0</td>\n",
       "      <td>86.0</td>\n",
       "      <td>9.0</td>\n",
       "      <td>4.0</td>\n",
       "      <td>0.0</td>\n",
       "    </tr>\n",
       "    <tr>\n",
       "      <td>4</td>\n",
       "      <td>POLYGON Z ((121.29682 30.81891 0.00000, 121.29...</td>\n",
       "      <td>9.277778</td>\n",
       "      <td>835.0</td>\n",
       "      <td>374.0</td>\n",
       "      <td>177.0</td>\n",
       "      <td>12.0</td>\n",
       "      <td>7.0</td>\n",
       "      <td>0.0</td>\n",
       "    </tr>\n",
       "  </tbody>\n",
       "</table>\n",
       "</div>"
      ],
      "text/plain": [
       "                                            geometry  happiness  \\\n",
       "0  POLYGON Z ((121.33687 30.73806 0.00000, 121.33...   0.000000   \n",
       "1  POLYGON Z ((121.25143 30.79177 0.00000, 121.25...   0.000000   \n",
       "2  POLYGON Z ((121.36179 30.80039 0.00000, 121.36...   8.916667   \n",
       "3  POLYGON Z ((121.19465 30.81453 0.00000, 121.19...   0.000000   \n",
       "4  POLYGON Z ((121.29682 30.81891 0.00000, 121.29...   9.277778   \n",
       "\n",
       "   nb_transportation  nb_shopping  nb_restaurant  nb_scenicSpot  \\\n",
       "0             1087.0       1789.0          748.0           28.0   \n",
       "1             1428.0       1762.0          616.0            9.0   \n",
       "2             1622.0       2152.0         1131.0           14.0   \n",
       "3              492.0        197.0           86.0            9.0   \n",
       "4              835.0        374.0          177.0           12.0   \n",
       "\n",
       "   nb_stadiumAndGym  green_area_proportion  \n",
       "0              32.0                    0.0  \n",
       "1              12.0                    0.0  \n",
       "2              28.0                    0.0  \n",
       "3               4.0                    0.0  \n",
       "4               7.0                    0.0  "
      ]
     },
     "execution_count": 220,
     "metadata": {},
     "output_type": "execute_result"
    }
   ],
   "source": [
    "df_model.head()"
   ]
  },
  {
   "cell_type": "code",
   "execution_count": 221,
   "metadata": {},
   "outputs": [
    {
     "data": {
      "text/plain": [
       "(248, 8)"
      ]
     },
     "execution_count": 221,
     "metadata": {},
     "output_type": "execute_result"
    }
   ],
   "source": [
    "df_model.shape"
   ]
  },
  {
   "cell_type": "markdown",
   "metadata": {},
   "source": [
    "248 observations and 6 features"
   ]
  },
  {
   "cell_type": "markdown",
   "metadata": {},
   "source": [
    "### Save model pickle"
   ]
  },
  {
   "cell_type": "code",
   "execution_count": 222,
   "metadata": {},
   "outputs": [],
   "source": [
    "df_model.to_pickle(\"./df_model.pickle\")"
   ]
  },
  {
   "cell_type": "markdown",
   "metadata": {},
   "source": [
    "### Load model pickle"
   ]
  },
  {
   "cell_type": "code",
   "execution_count": 209,
   "metadata": {},
   "outputs": [],
   "source": [
    "df_model = pd.read_pickle(\"df_model.pickle\")"
   ]
  },
  {
   "cell_type": "markdown",
   "metadata": {},
   "source": [
    "## Scale features"
   ]
  },
  {
   "cell_type": "code",
   "execution_count": 223,
   "metadata": {},
   "outputs": [
    {
     "data": {
      "text/plain": [
       "Index(['geometry', 'happiness', 'nb_transportation', 'nb_shopping',\n",
       "       'nb_restaurant', 'nb_scenicSpot', 'nb_stadiumAndGym',\n",
       "       'green_area_proportion'],\n",
       "      dtype='object')"
      ]
     },
     "execution_count": 223,
     "metadata": {},
     "output_type": "execute_result"
    }
   ],
   "source": [
    "df_model.columns"
   ]
  },
  {
   "cell_type": "code",
   "execution_count": 224,
   "metadata": {},
   "outputs": [],
   "source": [
    "from sklearn.preprocessing import StandardScaler\n",
    "scaler = StandardScaler() #scaler like 'centré réduit'\n",
    "# Fit: select some columns, it's expecting more than one column so u need to write like this [[]]\n",
    "df_model['nb_transportation_scaled'] = scaler.fit_transform(df_model[['nb_transportation']])\n",
    "df_model['nb_shopping_scaled'] = scaler.fit_transform(df_model[['nb_shopping']])\n",
    "df_model['nb_restaurant_scaled'] = scaler.fit_transform(df_model[['nb_restaurant']])\n",
    "df_model['nb_scenicSpot_scaled'] = scaler.fit_transform(df_model[['nb_scenicSpot']])\n",
    "df_model['nb_stadiumAndGym_scaled'] = scaler.fit_transform(df_model[['nb_stadiumAndGym']])\n",
    "df_model['green_area_proportion_scaled'] = scaler.fit_transform(df_model[['green_area_proportion']])"
   ]
  },
  {
   "cell_type": "code",
   "execution_count": 225,
   "metadata": {},
   "outputs": [
    {
     "name": "stdout",
     "output_type": "stream",
     "text": [
      "[0.02211763]\n"
     ]
    }
   ],
   "source": [
    "print(scaler.mean_)"
   ]
  },
  {
   "cell_type": "code",
   "execution_count": 226,
   "metadata": {},
   "outputs": [
    {
     "data": {
      "text/html": [
       "<div>\n",
       "<style scoped>\n",
       "    .dataframe tbody tr th:only-of-type {\n",
       "        vertical-align: middle;\n",
       "    }\n",
       "\n",
       "    .dataframe tbody tr th {\n",
       "        vertical-align: top;\n",
       "    }\n",
       "\n",
       "    .dataframe thead th {\n",
       "        text-align: right;\n",
       "    }\n",
       "</style>\n",
       "<table border=\"1\" class=\"dataframe\">\n",
       "  <thead>\n",
       "    <tr style=\"text-align: right;\">\n",
       "      <th></th>\n",
       "      <th>geometry</th>\n",
       "      <th>happiness</th>\n",
       "      <th>nb_transportation</th>\n",
       "      <th>nb_shopping</th>\n",
       "      <th>nb_restaurant</th>\n",
       "      <th>nb_scenicSpot</th>\n",
       "      <th>nb_stadiumAndGym</th>\n",
       "      <th>green_area_proportion</th>\n",
       "      <th>nb_transportation_scaled</th>\n",
       "      <th>nb_shopping_scaled</th>\n",
       "      <th>nb_restaurant_scaled</th>\n",
       "      <th>nb_scenicSpot_scaled</th>\n",
       "      <th>nb_stadiumAndGym_scaled</th>\n",
       "      <th>green_area_proportion_scaled</th>\n",
       "    </tr>\n",
       "  </thead>\n",
       "  <tbody>\n",
       "    <tr>\n",
       "      <td>0</td>\n",
       "      <td>POLYGON Z ((121.33687 30.73806 0.00000, 121.33...</td>\n",
       "      <td>0.000000</td>\n",
       "      <td>1087.0</td>\n",
       "      <td>1789.0</td>\n",
       "      <td>748.0</td>\n",
       "      <td>28.0</td>\n",
       "      <td>32.0</td>\n",
       "      <td>0.0</td>\n",
       "      <td>0.142085</td>\n",
       "      <td>0.213356</td>\n",
       "      <td>-0.195755</td>\n",
       "      <td>0.142784</td>\n",
       "      <td>0.016965</td>\n",
       "      <td>-0.50485</td>\n",
       "    </tr>\n",
       "    <tr>\n",
       "      <td>1</td>\n",
       "      <td>POLYGON Z ((121.25143 30.79177 0.00000, 121.25...</td>\n",
       "      <td>0.000000</td>\n",
       "      <td>1428.0</td>\n",
       "      <td>1762.0</td>\n",
       "      <td>616.0</td>\n",
       "      <td>9.0</td>\n",
       "      <td>12.0</td>\n",
       "      <td>0.0</td>\n",
       "      <td>0.586952</td>\n",
       "      <td>0.195711</td>\n",
       "      <td>-0.347412</td>\n",
       "      <td>-0.395885</td>\n",
       "      <td>-0.592775</td>\n",
       "      <td>-0.50485</td>\n",
       "    </tr>\n",
       "    <tr>\n",
       "      <td>2</td>\n",
       "      <td>POLYGON Z ((121.36179 30.80039 0.00000, 121.36...</td>\n",
       "      <td>8.916667</td>\n",
       "      <td>1622.0</td>\n",
       "      <td>2152.0</td>\n",
       "      <td>1131.0</td>\n",
       "      <td>14.0</td>\n",
       "      <td>28.0</td>\n",
       "      <td>0.0</td>\n",
       "      <td>0.840043</td>\n",
       "      <td>0.450578</td>\n",
       "      <td>0.244278</td>\n",
       "      <td>-0.254130</td>\n",
       "      <td>-0.104983</td>\n",
       "      <td>-0.50485</td>\n",
       "    </tr>\n",
       "    <tr>\n",
       "      <td>3</td>\n",
       "      <td>POLYGON Z ((121.19465 30.81453 0.00000, 121.19...</td>\n",
       "      <td>0.000000</td>\n",
       "      <td>492.0</td>\n",
       "      <td>197.0</td>\n",
       "      <td>86.0</td>\n",
       "      <td>9.0</td>\n",
       "      <td>4.0</td>\n",
       "      <td>0.0</td>\n",
       "      <td>-0.634149</td>\n",
       "      <td>-0.827023</td>\n",
       "      <td>-0.956335</td>\n",
       "      <td>-0.395885</td>\n",
       "      <td>-0.836670</td>\n",
       "      <td>-0.50485</td>\n",
       "    </tr>\n",
       "    <tr>\n",
       "      <td>4</td>\n",
       "      <td>POLYGON Z ((121.29682 30.81891 0.00000, 121.29...</td>\n",
       "      <td>9.277778</td>\n",
       "      <td>835.0</td>\n",
       "      <td>374.0</td>\n",
       "      <td>177.0</td>\n",
       "      <td>12.0</td>\n",
       "      <td>7.0</td>\n",
       "      <td>0.0</td>\n",
       "      <td>-0.186673</td>\n",
       "      <td>-0.711353</td>\n",
       "      <td>-0.851784</td>\n",
       "      <td>-0.310832</td>\n",
       "      <td>-0.745209</td>\n",
       "      <td>-0.50485</td>\n",
       "    </tr>\n",
       "  </tbody>\n",
       "</table>\n",
       "</div>"
      ],
      "text/plain": [
       "                                            geometry  happiness  \\\n",
       "0  POLYGON Z ((121.33687 30.73806 0.00000, 121.33...   0.000000   \n",
       "1  POLYGON Z ((121.25143 30.79177 0.00000, 121.25...   0.000000   \n",
       "2  POLYGON Z ((121.36179 30.80039 0.00000, 121.36...   8.916667   \n",
       "3  POLYGON Z ((121.19465 30.81453 0.00000, 121.19...   0.000000   \n",
       "4  POLYGON Z ((121.29682 30.81891 0.00000, 121.29...   9.277778   \n",
       "\n",
       "   nb_transportation  nb_shopping  nb_restaurant  nb_scenicSpot  \\\n",
       "0             1087.0       1789.0          748.0           28.0   \n",
       "1             1428.0       1762.0          616.0            9.0   \n",
       "2             1622.0       2152.0         1131.0           14.0   \n",
       "3              492.0        197.0           86.0            9.0   \n",
       "4              835.0        374.0          177.0           12.0   \n",
       "\n",
       "   nb_stadiumAndGym  green_area_proportion  nb_transportation_scaled  \\\n",
       "0              32.0                    0.0                  0.142085   \n",
       "1              12.0                    0.0                  0.586952   \n",
       "2              28.0                    0.0                  0.840043   \n",
       "3               4.0                    0.0                 -0.634149   \n",
       "4               7.0                    0.0                 -0.186673   \n",
       "\n",
       "   nb_shopping_scaled  nb_restaurant_scaled  nb_scenicSpot_scaled  \\\n",
       "0            0.213356             -0.195755              0.142784   \n",
       "1            0.195711             -0.347412             -0.395885   \n",
       "2            0.450578              0.244278             -0.254130   \n",
       "3           -0.827023             -0.956335             -0.395885   \n",
       "4           -0.711353             -0.851784             -0.310832   \n",
       "\n",
       "   nb_stadiumAndGym_scaled  green_area_proportion_scaled  \n",
       "0                 0.016965                      -0.50485  \n",
       "1                -0.592775                      -0.50485  \n",
       "2                -0.104983                      -0.50485  \n",
       "3                -0.836670                      -0.50485  \n",
       "4                -0.745209                      -0.50485  "
      ]
     },
     "execution_count": 226,
     "metadata": {},
     "output_type": "execute_result"
    }
   ],
   "source": [
    "df_model.head()"
   ]
  },
  {
   "cell_type": "markdown",
   "metadata": {},
   "source": [
    "## Split data into training and test sets"
   ]
  },
  {
   "cell_type": "code",
   "execution_count": 227,
   "metadata": {},
   "outputs": [],
   "source": [
    "df_predict = df_model[['nb_transportation_scaled', 'nb_shopping_scaled', 'nb_restaurant_scaled', 'nb_scenicSpot_scaled', 'nb_stadiumAndGym_scaled', 'green_area_proportion_scaled', 'happiness']]"
   ]
  },
  {
   "cell_type": "code",
   "execution_count": 228,
   "metadata": {},
   "outputs": [],
   "source": [
    "df_predict.to_pickle(\"df_predict.pkl\")"
   ]
  },
  {
   "cell_type": "code",
   "execution_count": 229,
   "metadata": {},
   "outputs": [],
   "source": [
    "X = df_predict[['nb_transportation_scaled', 'nb_shopping_scaled', 'nb_restaurant_scaled', 'nb_scenicSpot_scaled', 'nb_stadiumAndGym_scaled', 'green_area_proportion_scaled']] #features\n",
    "Y = df_predict['happiness'] #target"
   ]
  },
  {
   "cell_type": "markdown",
   "metadata": {},
   "source": [
    "## Classification"
   ]
  },
  {
   "cell_type": "code",
   "execution_count": 231,
   "metadata": {},
   "outputs": [],
   "source": [
    "Z = pd.DataFrame.copy(Y)\n",
    "Z[Y <= np.median(Y)] = \"Unhappy\"\n",
    "Z[Y > np.median(Y)] = \"Happy\""
   ]
  },
  {
   "cell_type": "code",
   "execution_count": 235,
   "metadata": {},
   "outputs": [
    {
     "name": "stderr",
     "output_type": "stream",
     "text": [
      "C:\\Users\\Aurelie\\Anaconda\\lib\\site-packages\\ipykernel_launcher.py:1: SettingWithCopyWarning: \n",
      "A value is trying to be set on a copy of a slice from a DataFrame.\n",
      "Try using .loc[row_indexer,col_indexer] = value instead\n",
      "\n",
      "See the caveats in the documentation: http://pandas.pydata.org/pandas-docs/stable/user_guide/indexing.html#returning-a-view-versus-a-copy\n",
      "  \"\"\"Entry point for launching an IPython kernel.\n"
     ]
    }
   ],
   "source": [
    "df_predict['class'] = Z"
   ]
  },
  {
   "cell_type": "code",
   "execution_count": 237,
   "metadata": {},
   "outputs": [
    {
     "data": {
      "text/plain": [
       "class\n",
       "Happy      124\n",
       "Unhappy    124\n",
       "dtype: int64"
      ]
     },
     "execution_count": 237,
     "metadata": {},
     "output_type": "execute_result"
    }
   ],
   "source": [
    "df_predict.groupby('class').size()"
   ]
  },
  {
   "cell_type": "markdown",
   "metadata": {},
   "source": [
    "## Explore the data"
   ]
  },
  {
   "cell_type": "markdown",
   "metadata": {},
   "source": [
    "### Hist"
   ]
  },
  {
   "cell_type": "code",
   "execution_count": 238,
   "metadata": {},
   "outputs": [
    {
     "data": {
      "image/png": "[encoded data removed]",
      "text/plain": [
       "<Figure size 720x1080 with 6 Axes>"
      ]
     },
     "metadata": {
      "needs_background": "light"
     },
     "output_type": "display_data"
    }
   ],
   "source": [
    "features.hist(figsize=(10,15))\n",
    "pyplot.show()"
   ]
  },
  {
   "cell_type": "markdown",
   "metadata": {},
   "source": [
    "## Scatter Matrix Plot for each input variables: show how much one variable is affected by another"
   ]
  },
  {
   "cell_type": "code",
   "execution_count": 239,
   "metadata": {},
   "outputs": [
    {
     "data": {
      "image/png": "[encoded data removed]",
      "text/plain": [
       "<Figure size 720x1080 with 36 Axes>"
      ]
     },
     "metadata": {
      "needs_background": "light"
     },
     "output_type": "display_data"
    }
   ],
   "source": [
    "# scatter plot matrix\n",
    "scatter_matrix(features, figsize=(10,15))\n",
    "pyplot.show()"
   ]
  },
  {
   "cell_type": "markdown",
   "metadata": {},
   "source": [
    "## Split data into training and test sets"
   ]
  },
  {
   "cell_type": "code",
   "execution_count": 240,
   "metadata": {},
   "outputs": [],
   "source": [
    "from sklearn.model_selection import train_test_split\n",
    "X_train, X_test, Z_train, Z_test = train_test_split(X, Z, test_size=0.3, random_state=123, stratify=Z)"
   ]
  },
  {
   "cell_type": "markdown",
   "metadata": {},
   "source": [
    "## Grid Search: find the best parameters for the model"
   ]
  },
  {
   "cell_type": "code",
   "execution_count": 42,
   "metadata": {},
   "outputs": [],
   "source": [
    "from sklearn.model_selection import GridSearchCV"
   ]
  },
  {
   "cell_type": "markdown",
   "metadata": {},
   "source": [
    "## 1. K-Nearest Neighbors - KNN"
   ]
  },
  {
   "cell_type": "code",
   "execution_count": null,
   "metadata": {},
   "outputs": [],
   "source": [
    "from sklearn import neighbors, datasets\n",
    "n_neighbors = 2000\n",
    "clf = neighbors.KNeighborsClassifier(n_neighbors, weights='distance')\n",
    "scores = cross_val_score(clf, X, Z, cv=5)\n",
    "clf.fit(X, Z)\n",
    "np.mean(scores)"
   ]
  },
  {
   "cell_type": "markdown",
   "metadata": {},
   "source": [
    "## 2. Support Vector Machines - SVM"
   ]
  },
  {
   "cell_type": "markdown",
   "metadata": {},
   "source": [
    "## Evaluate each model"
   ]
  },
  {
   "cell_type": "code",
   "execution_count": 253,
   "metadata": {},
   "outputs": [],
   "source": [
    "from sklearn.model_selection import cross_val_score\n",
    "from sklearn.tree import DecisionTreeClassifier\n",
    "from sklearn.neighbors import KNeighborsClassifier\n",
    "from sklearn.svm import SVC\n",
    "from sklearn.model_selection import StratifiedKFold\n",
    "from sklearn.metrics import classification_report\n",
    "from sklearn.metrics import confusion_matrix\n",
    "from sklearn.metrics import accuracy_score"
   ]
  },
  {
   "cell_type": "code",
   "execution_count": 246,
   "metadata": {},
   "outputs": [],
   "source": [
    "models = []"
   ]
  },
  {
   "cell_type": "code",
   "execution_count": 247,
   "metadata": {},
   "outputs": [],
   "source": [
    "models.append(('KNN', KNeighborsClassifier()))\n",
    "models.append(('SVM', SVC(gamma='auto')))"
   ]
  },
  {
   "cell_type": "code",
   "execution_count": 249,
   "metadata": {},
   "outputs": [
    {
     "name": "stdout",
     "output_type": "stream",
     "text": [
      "KNN: 0.623325 (0.105357)\n",
      "SVM: 0.652165 (0.079746)\n"
     ]
    }
   ],
   "source": [
    "results = []\n",
    "names = []\n",
    "for name, model in models:\n",
    "    kfold = StratifiedKFold(n_splits=10, random_state=1, shuffle=True)\n",
    "    cv_results = cross_val_score(model, X_train, Z_train, cv=kfold, scoring='accuracy')\n",
    "    results.append(cv_results)\n",
    "    names.append(name)\n",
    "    print('%s: %f (%f)' % (name, cv_results.mean(), cv_results.std()))"
   ]
  },
  {
   "cell_type": "code",
   "execution_count": 250,
   "metadata": {},
   "outputs": [
    {
     "data": {
      "image/png": "[encoded data removed]",
      "text/plain": [
       "<Figure size 432x288 with 1 Axes>"
      ]
     },
     "metadata": {
      "needs_background": "light"
     },
     "output_type": "display_data"
    }
   ],
   "source": [
    "pyplot.boxplot(results, labels=names)\n",
    "pyplot.title('Algorithm Comparison')\n",
    "pyplot.show()"
   ]
  },
  {
   "cell_type": "markdown",
   "metadata": {},
   "source": [
    "# Best model"
   ]
  },
  {
   "cell_type": "code",
   "execution_count": 254,
   "metadata": {},
   "outputs": [],
   "source": [
    "model = SVC(gamma='auto')\n",
    "model.fit(X_train, Z_train)\n",
    "predictions = model.predict(X_test)"
   ]
  },
  {
   "cell_type": "code",
   "execution_count": 258,
   "metadata": {},
   "outputs": [
    {
     "name": "stdout",
     "output_type": "stream",
     "text": [
      "Accuracy score:  0.76\n",
      "Confusion Matrix: \n",
      "[[31  7]\n",
      " [11 26]]\n",
      "Classification report: \n",
      "              precision    recall  f1-score   support\n",
      "\n",
      "       Happy       0.74      0.82      0.78        38\n",
      "     Unhappy       0.79      0.70      0.74        37\n",
      "\n",
      "    accuracy                           0.76        75\n",
      "   macro avg       0.76      0.76      0.76        75\n",
      "weighted avg       0.76      0.76      0.76        75\n",
      "\n"
     ]
    }
   ],
   "source": [
    "print('Accuracy score: ', accuracy_score(Z_test, predictions))\n",
    "print('Confusion Matrix: ')\n",
    "print(confusion_matrix(Z_test, predictions))\n",
    "print('Classification report: ')\n",
    "print(classification_report(Z_test, predictions))"
   ]
  },
  {
   "cell_type": "code",
   "execution_count": null,
   "metadata": {},
   "outputs": [],
   "source": []
  }
 ],
 "metadata": {
  "kernelspec": {
   "display_name": "Python 3",
   "language": "python",
   "name": "python3"
  },
  "language_info": {
   "codemirror_mode": {
    "name": "ipython",
    "version": 3
   },
   "file_extension": ".py",
   "mimetype": "text/x-python",
   "name": "python",
   "nbconvert_exporter": "python",
   "pygments_lexer": "ipython3",
   "version": "3.7.4"
  }
 },
 "nbformat": 4,
 "nbformat_minor": 4
}
