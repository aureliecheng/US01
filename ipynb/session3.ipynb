{
 "cells": [
  {
   "cell_type": "code",
   "execution_count": 9,
   "metadata": {},
   "outputs": [],
   "source": [
    "import pandas as pd"
   ]
  },
  {
   "cell_type": "code",
   "execution_count": 10,
   "metadata": {},
   "outputs": [],
   "source": [
    "import requests"
   ]
  },
  {
   "cell_type": "markdown",
   "metadata": {},
   "source": [
    "load the df from session 2"
   ]
  },
  {
   "cell_type": "code",
   "execution_count": 11,
   "metadata": {},
   "outputs": [],
   "source": [
    "df = pd.read_pickle(\"savedDF.pickle\")"
   ]
  },
  {
   "cell_type": "code",
   "execution_count": 12,
   "metadata": {},
   "outputs": [],
   "source": [
    "import json"
   ]
  },
  {
   "cell_type": "code",
   "execution_count": 13,
   "metadata": {},
   "outputs": [],
   "source": [
    "with open(\"data-query-20170525.effix\", \"r\") as fp:\n",
    "    data = json.load(fp)"
   ]
  },
  {
   "cell_type": "code",
   "execution_count": 14,
   "metadata": {},
   "outputs": [
    {
     "data": {
      "text/plain": [
       "dict_keys(['country_macro', 'china_macro', 'invest_trade', 'state_economy'])"
      ]
     },
     "execution_count": 14,
     "metadata": {},
     "output_type": "execute_result"
    }
   ],
   "source": [
    "data\n",
    "# 2015\n",
    "year = \"65d2ea03425887a717c435081cfc5dbb\"\n",
    "# BRI GDP\n",
    "indicator = \"9b688b5fbb441714ba73f4379e7b135d\"\n",
    "# Vietnam\n",
    "country = \"fdef6daa799e80dbce1b561577b21181\"\n",
    "data.keys()"
   ]
  },
  {
   "cell_type": "markdown",
   "metadata": {},
   "source": [
    "right path to get data"
   ]
  },
  {
   "cell_type": "code",
   "execution_count": 15,
   "metadata": {},
   "outputs": [
    {
     "data": {
      "text/plain": [
       "193599379094.859"
      ]
     },
     "execution_count": 15,
     "metadata": {},
     "output_type": "execute_result"
    }
   ],
   "source": [
    "float(data['country_macro']['data'][year][country][indicator])"
   ]
  },
  {
   "cell_type": "markdown",
   "metadata": {},
   "source": [
    "1. Get indicator dataframe <-> indicator key from website"
   ]
  },
  {
   "cell_type": "code",
   "execution_count": 16,
   "metadata": {},
   "outputs": [],
   "source": [
    "indicators = {\n",
    "    \"9b688b5fbb441714ba73f4379e7b135d\": \"BRI GDP\", \n",
    "    \"5c4591fe4746333f6e7b66b13ad980a2\": \"BRI GDP growth rate\",\n",
    "    \"6d602224213550f3ee07477f1654f326\": \"BRI GDP p.c.\",\n",
    "    \"07f451a8c9b2006fb937d1eb268ac60b\": \"BRI Y.o.Y. GDP growth rate p.c.\",\n",
    "    \"c1329b4c01d4c08a68b8a280fb5a90ec\": \"BRI Agriculture value added per sector \",\n",
    "    \"f00273fa66d45147b2dd4dadd6275d32\": \"BRI Industry value added per sector \",\n",
    "    \"41fedd97a26d4782e531b5b4c67622b7\": \"BRI Services value added per sector \",\n",
    "    \"7b8d0a597b57bab793f428193eb899fe\": \"BRI Internet penetration rate (%)\",\n",
    "    \"2a048dbe6ff2ee51d07a6314752c87d7\": \"BRI Population density (/km2)\",\n",
    "    \"85bf6dab128029be54a3b1e643f0aa71\": \"BRI Percentage of Urban Population in Total Population\"  \n",
    "}\n",
    "#'Exp./Imp. volume USD': '', this one is not in the json"
   ]
  },
  {
   "cell_type": "code",
   "execution_count": 31,
   "metadata": {},
   "outputs": [],
   "source": [
    "years = {\n",
    "    '2015': '65d2ea03425887a717c435081cfc5dbb', \n",
    "    '2014': 'cee8d6b7ce52554fd70354e37bbf44a2', \n",
    "    '2013': '8038da89e49ac5eabb489cfc6cea9fc1'\n",
    "}"
   ]
  },
  {
   "cell_type": "markdown",
   "metadata": {},
   "source": [
    "2. Make a function to check the country name"
   ]
  },
  {
   "cell_type": "code",
   "execution_count": 17,
   "metadata": {},
   "outputs": [],
   "source": [
    "# From the country name we get the code\n",
    "def get_country_code(country_name):\n",
    "    for k,v in data['country_macro']['term']['area'].items():\n",
    "        code = k\n",
    "        if v['full'] == country_name or v['short'] == country_name:\n",
    "            return(code)\n",
    "    return None"
   ]
  },
  {
   "cell_type": "code",
   "execution_count": 18,
   "metadata": {},
   "outputs": [
    {
     "name": "stdout",
     "output_type": "stream",
     "text": [
      "6e9767f4f15357401b148b9a8ced14ef\n"
     ]
    }
   ],
   "source": [
    "# Exemple with Afghanistan\n",
    "code = get_country_code('Afghanistan')\n",
    "print(code)"
   ]
  },
  {
   "cell_type": "code",
   "execution_count": 19,
   "metadata": {},
   "outputs": [],
   "source": [
    "countries = pd.read_pickle(\"../session1/savedCountries.pkl\")"
   ]
  },
  {
   "cell_type": "code",
   "execution_count": 32,
   "metadata": {},
   "outputs": [
    {
     "name": "stdout",
     "output_type": "stream",
     "text": [
      "Value error with 2015 Iran BRI GDP\n",
      "Value error with 2015 Syria BRI GDP\n",
      "Value error with 2015 Yemen BRI GDP\n",
      "Value error with 2015 Iran BRI GDP growth rate\n",
      "Value error with 2015 Syria BRI GDP growth rate\n",
      "Value error with 2015 Turkey BRI GDP growth rate\n",
      "Value error with 2015 Yemen BRI GDP growth rate\n",
      "Value error with 2015 Iran BRI GDP p.c.\n",
      "Value error with 2015 Syria BRI GDP p.c.\n",
      "Value error with 2015 Yemen BRI GDP p.c.\n",
      "Value error with 2015 Iran BRI Y.o.Y. GDP growth rate p.c.\n",
      "Value error with 2015 Syria BRI Y.o.Y. GDP growth rate p.c.\n",
      "Value error with 2015 Yemen BRI Y.o.Y. GDP growth rate p.c.\n",
      "Value error with 2015 Brunei BRI Agriculture value added per sector \n",
      "Value error with 2015 Croatia BRI Agriculture value added per sector \n",
      "Value error with 2015 Estonia BRI Agriculture value added per sector \n",
      "Value error with 2015 Hungary BRI Agriculture value added per sector \n",
      "Value error with 2015 India BRI Agriculture value added per sector \n",
      "Value error with 2015 Iran BRI Agriculture value added per sector \n",
      "Value error with 2015 Iraq BRI Agriculture value added per sector \n",
      "Value error with 2015 Israel BRI Agriculture value added per sector \n",
      "Value error with 2015 Laos BRI Agriculture value added per sector \n",
      "Value error with 2015 Malaysia BRI Agriculture value added per sector \n",
      "Value error with 2015 Moldova BRI Agriculture value added per sector \n",
      "Value error with 2015 Oman BRI Agriculture value added per sector \n",
      "Value error with 2015 Romania BRI Agriculture value added per sector \n",
      "Value error with 2015 Russia BRI Agriculture value added per sector \n",
      "Value error with 2015 Syria BRI Agriculture value added per sector \n",
      "Value error with 2015 The United Arab Emirates BRI Agriculture value added per sector \n",
      "Value error with 2015 Turkey BRI Agriculture value added per sector \n",
      "Value error with 2015 Ukraine BRI Agriculture value added per sector \n",
      "Value error with 2015 Yemen BRI Agriculture value added per sector \n",
      "Value error with 2015 Brunei BRI Industry value added per sector \n",
      "Value error with 2015 East Timor BRI Industry value added per sector \n",
      "Value error with 2015 Hungary BRI Industry value added per sector \n",
      "Value error with 2015 India BRI Industry value added per sector \n",
      "Value error with 2015 Iran BRI Industry value added per sector \n",
      "Value error with 2015 Iraq BRI Industry value added per sector \n",
      "Value error with 2015 Israel BRI Industry value added per sector \n",
      "Value error with 2015 Kuwait BRI Industry value added per sector \n",
      "Value error with 2015 Latvia BRI Industry value added per sector \n",
      "Value error with 2015 Lithuania BRI Industry value added per sector \n",
      "Value error with 2015 Maldives BRI Industry value added per sector \n",
      "Value error with 2015 Myanmar BRI Industry value added per sector \n",
      "Value error with 2015 Oman BRI Industry value added per sector \n",
      "Value error with 2015 Singapore BRI Industry value added per sector \n",
      "Value error with 2015 Syria BRI Industry value added per sector \n",
      "Value error with 2015 Tajikistan BRI Industry value added per sector \n",
      "Value error with 2015 The United Arab Emirates BRI Industry value added per sector \n",
      "Value error with 2015 Turkmenistan BRI Industry value added per sector \n",
      "Value error with 2015 Yemen BRI Industry value added per sector \n",
      "Value error with 2015 Brunei BRI Services value added per sector \n",
      "Value error with 2015 East Timor BRI Services value added per sector \n",
      "Value error with 2015 Hungary BRI Services value added per sector \n",
      "Value error with 2015 India BRI Services value added per sector \n",
      "Value error with 2015 Iran BRI Services value added per sector \n",
      "Value error with 2015 Iraq BRI Services value added per sector \n",
      "Value error with 2015 Israel BRI Services value added per sector \n",
      "Value error with 2015 Kuwait BRI Services value added per sector \n",
      "Value error with 2015 Latvia BRI Services value added per sector \n",
      "Value error with 2015 Lithuania BRI Services value added per sector \n",
      "Value error with 2015 Maldives BRI Services value added per sector \n",
      "Value error with 2015 Myanmar BRI Services value added per sector \n",
      "Value error with 2015 Oman BRI Services value added per sector \n",
      "Value error with 2015 Singapore BRI Services value added per sector \n",
      "Value error with 2015 Syria BRI Services value added per sector \n",
      "Value error with 2015 Tajikistan BRI Services value added per sector \n",
      "Value error with 2015 The United Arab Emirates BRI Services value added per sector \n",
      "Value error with 2015 Turkmenistan BRI Services value added per sector \n",
      "Value error with 2015 Yemen BRI Services value added per sector \n",
      "Key error with BRI Internet penetration rate (%)\n",
      "Key error with BRI Internet penetration rate (%)\n",
      "Key error with BRI Internet penetration rate (%)\n",
      "Key error with BRI Internet penetration rate (%)\n",
      "Key error with BRI Internet penetration rate (%)\n",
      "Key error with BRI Internet penetration rate (%)\n",
      "Key error with BRI Internet penetration rate (%)\n",
      "Key error with BRI Internet penetration rate (%)\n",
      "Key error with BRI Internet penetration rate (%)\n",
      "Key error with BRI Internet penetration rate (%)\n",
      "Key error with BRI Internet penetration rate (%)\n",
      "Key error with BRI Internet penetration rate (%)\n",
      "Key error with BRI Internet penetration rate (%)\n",
      "Key error with BRI Internet penetration rate (%)\n",
      "Key error with BRI Internet penetration rate (%)\n",
      "Key error with BRI Internet penetration rate (%)\n",
      "Key error with BRI Internet penetration rate (%)\n",
      "Key error with BRI Internet penetration rate (%)\n",
      "Key error with BRI Internet penetration rate (%)\n",
      "Key error with BRI Internet penetration rate (%)\n",
      "Key error with BRI Internet penetration rate (%)\n",
      "Key error with BRI Internet penetration rate (%)\n",
      "Key error with BRI Internet penetration rate (%)\n",
      "Key error with BRI Internet penetration rate (%)\n",
      "Key error with BRI Internet penetration rate (%)\n",
      "Key error with BRI Internet penetration rate (%)\n",
      "Key error with BRI Internet penetration rate (%)\n",
      "Key error with BRI Internet penetration rate (%)\n",
      "Key error with BRI Internet penetration rate (%)\n",
      "Key error with BRI Internet penetration rate (%)\n",
      "Key error with BRI Internet penetration rate (%)\n",
      "Key error with BRI Internet penetration rate (%)\n",
      "Key error with BRI Internet penetration rate (%)\n",
      "Key error with BRI Internet penetration rate (%)\n",
      "Key error with BRI Internet penetration rate (%)\n",
      "Key error with BRI Internet penetration rate (%)\n",
      "Key error with BRI Internet penetration rate (%)\n",
      "Key error with BRI Internet penetration rate (%)\n",
      "Key error with BRI Internet penetration rate (%)\n",
      "Key error with BRI Internet penetration rate (%)\n",
      "Key error with BRI Internet penetration rate (%)\n",
      "Key error with BRI Internet penetration rate (%)\n",
      "Key error with BRI Internet penetration rate (%)\n",
      "Key error with BRI Internet penetration rate (%)\n",
      "Key error with BRI Internet penetration rate (%)\n",
      "Key error with BRI Internet penetration rate (%)\n",
      "Key error with BRI Internet penetration rate (%)\n",
      "Key error with BRI Internet penetration rate (%)\n",
      "Key error with BRI Internet penetration rate (%)\n",
      "Key error with BRI Internet penetration rate (%)\n",
      "Key error with BRI Internet penetration rate (%)\n",
      "Key error with BRI Internet penetration rate (%)\n",
      "Key error with BRI Internet penetration rate (%)\n",
      "Key error with BRI Internet penetration rate (%)\n",
      "Key error with BRI Internet penetration rate (%)\n",
      "Key error with BRI Internet penetration rate (%)\n",
      "Key error with BRI Internet penetration rate (%)\n",
      "Key error with BRI Internet penetration rate (%)\n",
      "Key error with BRI Internet penetration rate (%)\n",
      "Key error with BRI Internet penetration rate (%)\n",
      "Key error with BRI Internet penetration rate (%)\n",
      "Key error with BRI Internet penetration rate (%)\n",
      "Value error with 2014 Syria BRI GDP\n",
      "Value error with 2014 Yemen BRI GDP\n",
      "Value error with 2014 Syria BRI GDP growth rate\n",
      "Value error with 2014 Yemen BRI GDP growth rate\n",
      "Value error with 2014 Syria BRI GDP p.c.\n",
      "Value error with 2014 Yemen BRI GDP p.c.\n",
      "Value error with 2014 Syria BRI Y.o.Y. GDP growth rate p.c.\n",
      "Value error with 2014 Yemen BRI Y.o.Y. GDP growth rate p.c.\n",
      "Value error with 2014 Brunei BRI Agriculture value added per sector \n",
      "Value error with 2014 Estonia BRI Agriculture value added per sector \n",
      "Value error with 2014 Iraq BRI Agriculture value added per sector \n",
      "Value error with 2014 Israel BRI Agriculture value added per sector \n",
      "Value error with 2014 Moldova BRI Agriculture value added per sector \n",
      "Value error with 2014 Russia BRI Agriculture value added per sector \n",
      "Value error with 2014 The United Arab Emirates BRI Agriculture value added per sector \n",
      "Value error with 2014 Ukraine BRI Agriculture value added per sector \n",
      "Value error with 2014 Yemen BRI Agriculture value added per sector \n",
      "Value error with 2014 Brunei BRI Industry value added per sector \n",
      "Value error with 2014 East Timor BRI Industry value added per sector \n",
      "Value error with 2014 Iraq BRI Industry value added per sector \n",
      "Value error with 2014 Israel BRI Industry value added per sector \n",
      "Value error with 2014 Myanmar BRI Industry value added per sector \n",
      "Value error with 2014 Syria BRI Industry value added per sector \n",
      "Value error with 2014 Tajikistan BRI Industry value added per sector \n",
      "Value error with 2014 The United Arab Emirates BRI Industry value added per sector \n",
      "Value error with 2014 Turkmenistan BRI Industry value added per sector \n",
      "Value error with 2014 Yemen BRI Industry value added per sector \n",
      "Value error with 2014 Brunei BRI Services value added per sector \n",
      "Value error with 2014 East Timor BRI Services value added per sector \n",
      "Value error with 2014 Iraq BRI Services value added per sector \n",
      "Value error with 2014 Israel BRI Services value added per sector \n",
      "Value error with 2014 Myanmar BRI Services value added per sector \n",
      "Value error with 2014 Syria BRI Services value added per sector \n",
      "Value error with 2014 Tajikistan BRI Services value added per sector \n",
      "Value error with 2014 The United Arab Emirates BRI Services value added per sector \n",
      "Value error with 2014 Turkmenistan BRI Services value added per sector \n",
      "Value error with 2014 Yemen BRI Services value added per sector \n",
      "Value error with 2014 Iraq BRI Internet penetration rate (%)\n",
      "Value error with 2013 Syria BRI GDP\n",
      "Value error with 2013 Syria BRI GDP growth rate\n",
      "Value error with 2013 Syria BRI GDP p.c.\n",
      "Value error with 2013 Syria BRI Y.o.Y. GDP growth rate p.c.\n",
      "Value error with 2013 Brunei BRI Agriculture value added per sector \n",
      "Value error with 2013 Estonia BRI Agriculture value added per sector \n",
      "Value error with 2013 Iraq BRI Agriculture value added per sector \n",
      "Value error with 2013 Israel BRI Agriculture value added per sector \n",
      "Value error with 2013 Moldova BRI Agriculture value added per sector \n",
      "Value error with 2013 The United Arab Emirates BRI Agriculture value added per sector \n",
      "Value error with 2013 Yemen BRI Agriculture value added per sector \n",
      "Value error with 2013 Iraq BRI Industry value added per sector \n",
      "Value error with 2013 Israel BRI Industry value added per sector \n",
      "Value error with 2013 Myanmar BRI Industry value added per sector \n",
      "Value error with 2013 Syria BRI Industry value added per sector \n",
      "Value error with 2013 The United Arab Emirates BRI Industry value added per sector \n",
      "Value error with 2013 Turkmenistan BRI Industry value added per sector \n",
      "Value error with 2013 Yemen BRI Industry value added per sector \n",
      "Value error with 2013 Iraq BRI Services value added per sector \n",
      "Value error with 2013 Israel BRI Services value added per sector \n",
      "Value error with 2013 Myanmar BRI Services value added per sector \n",
      "Value error with 2013 Syria BRI Services value added per sector \n",
      "Value error with 2013 The United Arab Emirates BRI Services value added per sector \n",
      "Value error with 2013 Turkmenistan BRI Services value added per sector \n",
      "Value error with 2013 Yemen BRI Services value added per sector \n",
      "Value error with 2013 Iraq BRI Internet penetration rate (%)\n"
     ]
    }
   ],
   "source": [
    "for year_name, year_code in years.items():\n",
    "    for indicator_code, indicator_name in indicators.items():\n",
    "        for index, name in countries.items():\n",
    "            country_code = get_country_code(name)\n",
    "            if country_code is not None:\n",
    "                try:\n",
    "                    value = float(data['country_macro']['data'][year_code][country_code][indicator_code])\n",
    "                    df[indicator_name].loc[index] = value\n",
    "                except ValueError:\n",
    "                    print('Value error with', year_name, name, indicator_name)\n",
    "                    pass\n",
    "                except KeyError:\n",
    "                    print('Key error with', indicator_name)\n",
    "                    pass\n",
    "                #print(name, indicator_name, value)"
   ]
  },
  {
   "cell_type": "markdown",
   "metadata": {},
   "source": [
    "save the df"
   ]
  },
  {
   "cell_type": "code",
   "execution_count": 34,
   "metadata": {},
   "outputs": [],
   "source": [
    "df.to_pickle(\"savedDF.pickle\")"
   ]
  },
  {
   "cell_type": "code",
   "execution_count": 33,
   "metadata": {},
   "outputs": [
    {
     "data": {
      "text/plain": [
       "1      0.004910\n",
       "2      5.752928\n",
       "3      8.165718\n",
       "4     18.188682\n",
       "5     22.523835\n",
       "6      0.974058\n",
       "7     29.773836\n",
       "8      2.716504\n",
       "9     13.477739\n",
       "10     6.595992\n",
       "11    19.681064\n",
       "12     0.215710\n",
       "13          NaN\n",
       "14    22.256029\n",
       "15    26.687679\n",
       "16     0.061789\n",
       "17     3.261493\n",
       "18    28.040219\n",
       "19          NaN\n",
       "20    11.908397\n",
       "21          NaN\n",
       "22    26.089145\n",
       "23     1.192173\n",
       "24     1.301419\n",
       "25     6.664099\n",
       "26          NaN\n",
       "27    25.901496\n",
       "28     4.514587\n",
       "29    11.914557\n",
       "30     1.395250\n",
       "        ...    \n",
       "39    13.459694\n",
       "40     4.921642\n",
       "41    15.404509\n",
       "42     0.178991\n",
       "43     1.120451\n",
       "44     4.247553\n",
       "45     0.893863\n",
       "46    18.170158\n",
       "47    18.397891\n",
       "48     9.936353\n",
       "49    17.467821\n",
       "50    16.624472\n",
       "51    10.179806\n",
       "52    15.232808\n",
       "53    27.595576\n",
       "54    20.348892\n",
       "55    25.319583\n",
       "56     1.994794\n",
       "57     1.580715\n",
       "58     0.070664\n",
       "59          NaN\n",
       "60    11.148295\n",
       "61    11.868514\n",
       "62     0.034351\n",
       "63          NaN\n",
       "64          NaN\n",
       "65     8.834340\n",
       "66     1.058612\n",
       "67     5.620191\n",
       "68     1.052141\n",
       "Name: BRI Internet penetration rate (%), Length: 68, dtype: float64"
      ]
     },
     "execution_count": 33,
     "metadata": {},
     "output_type": "execute_result"
    }
   ],
   "source": [
    "df[\"BRI Internet penetration rate (%)\"]"
   ]
  },
  {
   "cell_type": "code",
   "execution_count": null,
   "metadata": {},
   "outputs": [],
   "source": []
  }
 ],
 "metadata": {
  "kernelspec": {
   "display_name": "Python 3",
   "language": "python",
   "name": "python3"
  },
  "language_info": {
   "codemirror_mode": {
    "name": "ipython",
    "version": 3
   },
   "file_extension": ".py",
   "mimetype": "text/x-python",
   "name": "python",
   "nbconvert_exporter": "python",
   "pygments_lexer": "ipython3",
   "version": "3.7.3"
  }
 },
 "nbformat": 4,
 "nbformat_minor": 4
}
