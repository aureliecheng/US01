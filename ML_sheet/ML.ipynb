{
 "cells": [
  {
   "cell_type": "markdown",
   "metadata": {},
   "source": [
    "# Memo - Machine Learning "
   ]
  },
  {
   "cell_type": "code",
   "execution_count": 1,
   "metadata": {},
   "outputs": [],
   "source": [
    "import pandas as pd\n",
    "import numpy as np"
   ]
  },
  {
   "cell_type": "markdown",
   "metadata": {},
   "source": [
    "## Import and read data"
   ]
  },
  {
   "cell_type": "code",
   "execution_count": 2,
   "metadata": {},
   "outputs": [
    {
     "data": {
      "text/html": [
       "<div>\n",
       "<style scoped>\n",
       "    .dataframe tbody tr th:only-of-type {\n",
       "        vertical-align: middle;\n",
       "    }\n",
       "\n",
       "    .dataframe tbody tr th {\n",
       "        vertical-align: top;\n",
       "    }\n",
       "\n",
       "    .dataframe thead th {\n",
       "        text-align: right;\n",
       "    }\n",
       "</style>\n",
       "<table border=\"1\" class=\"dataframe\">\n",
       "  <thead>\n",
       "    <tr style=\"text-align: right;\">\n",
       "      <th></th>\n",
       "      <th>id</th>\n",
       "      <th>address</th>\n",
       "      <th>longitude</th>\n",
       "      <th>latitude</th>\n",
       "      <th>bedroom</th>\n",
       "      <th>room</th>\n",
       "      <th>surface</th>\n",
       "      <th>price</th>\n",
       "      <th>onesquaremeter</th>\n",
       "      <th>tags</th>\n",
       "      <th>district</th>\n",
       "      <th>neighborhood</th>\n",
       "      <th>done</th>\n",
       "    </tr>\n",
       "  </thead>\n",
       "  <tbody>\n",
       "    <tr>\n",
       "      <th>0</th>\n",
       "      <td>A888553302</td>\n",
       "      <td>宝山-大场  金地艺境(宝山)(555弄)</td>\n",
       "      <td>121.343927</td>\n",
       "      <td>31.319356</td>\n",
       "      <td>2</td>\n",
       "      <td>2</td>\n",
       "      <td>30.0</td>\n",
       "      <td>1160000.0</td>\n",
       "      <td>38666.666667</td>\n",
       "      <td>金地开发 **首推 地铁首通 价格首降 配套就是你能想到的</td>\n",
       "      <td>baoshan</td>\n",
       "      <td>dachang</td>\n",
       "      <td>1</td>\n",
       "    </tr>\n",
       "    <tr>\n",
       "      <th>1</th>\n",
       "      <td>A888376847</td>\n",
       "      <td>宝山-大场  骏华苑</td>\n",
       "      <td>121.407325</td>\n",
       "      <td>31.302368</td>\n",
       "      <td>1</td>\n",
       "      <td>1</td>\n",
       "      <td>38.0</td>\n",
       "      <td>1950000.0</td>\n",
       "      <td>51315.789474</td>\n",
       "      <td>龙璟公馆嘉兴市近万达广场，北大附属实验校区，地铁沿线高铁站旁</td>\n",
       "      <td>baoshan</td>\n",
       "      <td>dachang</td>\n",
       "      <td>1</td>\n",
       "    </tr>\n",
       "    <tr>\n",
       "      <th>2</th>\n",
       "      <td>A885088482</td>\n",
       "      <td>宝山-大场  琉樽尚品(255弄)</td>\n",
       "      <td>121.397487</td>\n",
       "      <td>31.290871</td>\n",
       "      <td>3</td>\n",
       "      <td>2</td>\n",
       "      <td>92.0</td>\n",
       "      <td>5350000.0</td>\n",
       "      <td>58152.173913</td>\n",
       "      <td>92+7平书房，婚房装修30万！满2年税少11万！再降20万</td>\n",
       "      <td>baoshan</td>\n",
       "      <td>dachang</td>\n",
       "      <td>1</td>\n",
       "    </tr>\n",
       "    <tr>\n",
       "      <th>3</th>\n",
       "      <td>A885392981</td>\n",
       "      <td>宝山-大场  琉樽尚品（255弄）</td>\n",
       "      <td>121.397487</td>\n",
       "      <td>31.290871</td>\n",
       "      <td>2</td>\n",
       "      <td>2</td>\n",
       "      <td>68.0</td>\n",
       "      <td>4350000.0</td>\n",
       "      <td>63970.588235</td>\n",
       "      <td>中环景观，电梯复式，豪装45万全送，拎包入住，小格局大设计，</td>\n",
       "      <td>baoshan</td>\n",
       "      <td>dachang</td>\n",
       "      <td>1</td>\n",
       "    </tr>\n",
       "    <tr>\n",
       "      <th>4</th>\n",
       "      <td>A885831305</td>\n",
       "      <td>宝山-大场  美好家小区</td>\n",
       "      <td>121.421397</td>\n",
       "      <td>31.302658</td>\n",
       "      <td>2</td>\n",
       "      <td>2</td>\n",
       "      <td>80.0</td>\n",
       "      <td>4000000.0</td>\n",
       "      <td>50000.000000</td>\n",
       "      <td>美好家南北通精装2房板式房型采光好随时好看带天井</td>\n",
       "      <td>baoshan</td>\n",
       "      <td>dachang</td>\n",
       "      <td>1</td>\n",
       "    </tr>\n",
       "  </tbody>\n",
       "</table>\n",
       "</div>"
      ],
      "text/plain": [
       "           id                address   longitude   latitude  bedroom  room  \\\n",
       "0  A888553302  宝山-大场  金地艺境(宝山)(555弄)  121.343927  31.319356        2     2   \n",
       "1  A888376847             宝山-大场  骏华苑  121.407325  31.302368        1     1   \n",
       "2  A885088482      宝山-大场  琉樽尚品(255弄)  121.397487  31.290871        3     2   \n",
       "3  A885392981      宝山-大场  琉樽尚品（255弄）  121.397487  31.290871        2     2   \n",
       "4  A885831305           宝山-大场  美好家小区  121.421397  31.302658        2     2   \n",
       "\n",
       "   surface      price  onesquaremeter                            tags  \\\n",
       "0     30.0  1160000.0    38666.666667   金地开发 **首推 地铁首通 价格首降 配套就是你能想到的   \n",
       "1     38.0  1950000.0    51315.789474  龙璟公馆嘉兴市近万达广场，北大附属实验校区，地铁沿线高铁站旁   \n",
       "2     92.0  5350000.0    58152.173913  92+7平书房，婚房装修30万！满2年税少11万！再降20万   \n",
       "3     68.0  4350000.0    63970.588235  中环景观，电梯复式，豪装45万全送，拎包入住，小格局大设计，   \n",
       "4     80.0  4000000.0    50000.000000        美好家南北通精装2房板式房型采光好随时好看带天井   \n",
       "\n",
       "  district neighborhood  done  \n",
       "0  baoshan      dachang     1  \n",
       "1  baoshan      dachang     1  \n",
       "2  baoshan      dachang     1  \n",
       "3  baoshan      dachang     1  \n",
       "4  baoshan      dachang     1  "
      ]
     },
     "execution_count": 2,
     "metadata": {},
     "output_type": "execute_result"
    }
   ],
   "source": [
    "df = pd.read_csv('UTSEUS-anjuke-real-estate-baoshan.csv')\n",
    "df.head()"
   ]
  },
  {
   "cell_type": "markdown",
   "metadata": {},
   "source": [
    "## Get the data we care about"
   ]
  },
  {
   "cell_type": "code",
   "execution_count": 4,
   "metadata": {},
   "outputs": [
    {
     "data": {
      "text/plain": [
       "Index(['id', 'address', 'longitude', 'latitude', 'bedroom', 'room', 'surface',\n",
       "       'price', 'onesquaremeter', 'tags', 'district', 'neighborhood', 'done'],\n",
       "      dtype='object')"
      ]
     },
     "execution_count": 4,
     "metadata": {},
     "output_type": "execute_result"
    }
   ],
   "source": [
    "df.columns"
   ]
  },
  {
   "cell_type": "code",
   "execution_count": 5,
   "metadata": {},
   "outputs": [],
   "source": [
    "df_modeling = df[['longitude','latitude','bedroom','room','surface','price','onesquaremeter']]"
   ]
  },
  {
   "cell_type": "markdown",
   "metadata": {},
   "source": [
    "## Remove missing values"
   ]
  },
  {
   "cell_type": "code",
   "execution_count": 6,
   "metadata": {},
   "outputs": [],
   "source": [
    "df_modeling = df_modeling.dropna()"
   ]
  },
  {
   "cell_type": "markdown",
   "metadata": {},
   "source": [
    "## See the distribution"
   ]
  },
  {
   "cell_type": "code",
   "execution_count": 8,
   "metadata": {},
   "outputs": [],
   "source": [
    "from matplotlib import pyplot as plt\n",
    "%matplotlib inline"
   ]
  },
  {
   "cell_type": "markdown",
   "metadata": {},
   "source": [
    "#### This will first sort the series and then plot, ignoring the index of the series:"
   ]
  },
  {
   "cell_type": "code",
   "execution_count": 9,
   "metadata": {},
   "outputs": [
    {
     "data": {
      "text/plain": [
       "<matplotlib.axes._subplots.AxesSubplot at 0x192f78f9ba8>"
      ]
     },
     "execution_count": 9,
     "metadata": {},
     "output_type": "execute_result"
    },
    {
     "data": {
      "image/png": "[encoded data removed]",
      "text/plain": [
       "<Figure size 432x288 with 1 Axes>"
      ]
     },
     "metadata": {
      "needs_background": "light"
     },
     "output_type": "display_data"
    }
   ],
   "source": [
    "df_modeling['price'].sort_values().plot(use_index=False)"
   ]
  },
  {
   "cell_type": "markdown",
   "metadata": {},
   "source": [
    "## Scale the data"
   ]
  },
  {
   "cell_type": "markdown",
   "metadata": {},
   "source": [
    "## Add categorical data"
   ]
  },
  {
   "cell_type": "code",
   "execution_count": 13,
   "metadata": {},
   "outputs": [],
   "source": [
    "# Separate df data and ML data\n",
    "X = df[['longitude', 'latitude', 'bedroom', 'room', 'surface']] #features\n",
    "Y = df['price'] #target variable"
   ]
  },
  {
   "cell_type": "code",
   "execution_count": 12,
   "metadata": {},
   "outputs": [],
   "source": [
    "Z = pd.DataFrame.copy(Y)\n",
    "Z[Y <= np.quantile(Y,0.25)] = \"Very Cheap\" # could also use class 1,2,3,4\n",
    "Z[(Y > np.quantile(Y, 0.25)) & (Y <= np.quantile(Y, 0.5))] = \"Cheap\"\n",
    "Z[(Y > np.quantile(Y, 0.5)) & (Y <= np.quantile(Y, 0.75))] = \"Expensive\"\n",
    "Z[Y > np.quantile(Y,0.75)] = \"Very Expensive\""
   ]
  },
  {
   "cell_type": "markdown",
   "metadata": {},
   "source": [
    "## Training and testing sets creation"
   ]
  },
  {
   "cell_type": "code",
   "execution_count": 16,
   "metadata": {},
   "outputs": [],
   "source": [
    "from sklearn.model_selection import train_test_split\n",
    "X_train, X_test, Z_train, Z_test = train_test_split(X, Z, test_size=0.3, shuffle=True)"
   ]
  },
  {
   "cell_type": "markdown",
   "metadata": {},
   "source": [
    "## Classification"
   ]
  },
  {
   "cell_type": "markdown",
   "metadata": {},
   "source": [
    "### 1. AdaBoost (Boosting)"
   ]
  },
  {
   "cell_type": "markdown",
   "metadata": {},
   "source": [
    "n_estimators : The maximum number of estimators at which boosting is terminated. In case of perfect fit, the learning procedure is stopped early."
   ]
  },
  {
   "cell_type": "code",
   "execution_count": 21,
   "metadata": {},
   "outputs": [
    {
     "data": {
      "text/plain": [
       "GridSearchCV(cv=5, error_score='raise-deprecating',\n",
       "             estimator=AdaBoostClassifier(algorithm='SAMME.R',\n",
       "                                          base_estimator=None,\n",
       "                                          learning_rate=1.0, n_estimators=50,\n",
       "                                          random_state=None),\n",
       "             iid='warn', n_jobs=None,\n",
       "             param_grid={'n_estimators': [10, 50, 100]},\n",
       "             pre_dispatch='2*n_jobs', refit=True, return_train_score=False,\n",
       "             scoring=None, verbose=0)"
      ]
     },
     "execution_count": 21,
     "metadata": {},
     "output_type": "execute_result"
    }
   ],
   "source": [
    "# We  want to determine the best param\n",
    "from sklearn.model_selection import GridSearchCV\n",
    "from sklearn.ensemble import AdaBoostClassifier\n",
    "param_grid = {'n_estimators': [10, 50, 100]}\n",
    "clf = AdaBoostClassifier()\n",
    "search = GridSearchCV(clf, param_grid, cv= 5)\n",
    "search.fit(X_train, Z_train)"
   ]
  },
  {
   "cell_type": "code",
   "execution_count": 23,
   "metadata": {},
   "outputs": [
    {
     "data": {
      "text/plain": [
       "0.6708958837772397"
      ]
     },
     "execution_count": 23,
     "metadata": {},
     "output_type": "execute_result"
    }
   ],
   "source": [
    "#Best model\n",
    "clf = AdaBoostClassifier(n_estimators=50)\n",
    "clf = clf.fit(X_train, Z_train)\n",
    "prediction = clf.predict(X_test)\n",
    "np.mean(prediction == Z_test)"
   ]
  },
  {
   "cell_type": "markdown",
   "metadata": {},
   "source": [
    "### 2. Support Vector Machines"
   ]
  },
  {
   "cell_type": "code",
   "execution_count": 26,
   "metadata": {},
   "outputs": [],
   "source": [
    "from sklearn.model_selection import cross_val_score\n",
    "from sklearn.model_selection import ShuffleSplit"
   ]
  },
  {
   "cell_type": "code",
   "execution_count": null,
   "metadata": {},
   "outputs": [],
   "source": [
    "from sklearn import svm\n",
    "clf = svm.SVC()\n",
    "scores = cross_val_score(clf, X, Z, cv=ShuffleSplit(n_splits=5))\n",
    "scores.mean()"
   ]
  },
  {
   "cell_type": "markdown",
   "metadata": {},
   "source": [
    "### 3. Decision Tree"
   ]
  },
  {
   "cell_type": "code",
   "execution_count": 31,
   "metadata": {},
   "outputs": [
    {
     "data": {
      "text/plain": [
       "0.871089588377724"
      ]
     },
     "execution_count": 31,
     "metadata": {},
     "output_type": "execute_result"
    }
   ],
   "source": [
    "from sklearn import tree\n",
    "clf = tree.DecisionTreeClassifier()\n",
    "clf = clf.fit(X_train, Z_train)\n",
    "prediction = clf.predict(X_test)\n",
    "np.mean(prediction == Z_test)"
   ]
  },
  {
   "cell_type": "code",
   "execution_count": 33,
   "metadata": {},
   "outputs": [
    {
     "data": {
      "text/plain": [
       "[Text(418.5, 453.0, 'X[4] <= 78.5\\nentropy = 0.75\\nsamples = 24091\\nvalue = [5932, 6148, 6156, 5855]'),\n",
       " Text(209.25, 271.8, 'X[4] <= 51.5\\nentropy = 0.623\\nsamples = 12664\\nvalue = [5147, 1943, 5499, 75]'),\n",
       " Text(104.625, 90.59999999999997, 'entropy = 0.265\\nsamples = 4296\\nvalue = [653, 18, 3625, 0]'),\n",
       " Text(313.875, 90.59999999999997, 'entropy = 0.608\\nsamples = 8368\\nvalue = [4494, 1925, 1874, 75]'),\n",
       " Text(627.75, 271.8, 'X[4] <= 101.5\\nentropy = 0.601\\nsamples = 11427\\nvalue = [785, 4205, 657, 5780]'),\n",
       " Text(523.125, 90.59999999999997, 'entropy = 0.631\\nsamples = 7253\\nvalue = [670, 3553, 585, 2445]'),\n",
       " Text(732.375, 90.59999999999997, 'entropy = 0.336\\nsamples = 4174\\nvalue = [115, 652, 72, 3335]')]"
      ]
     },
     "execution_count": 33,
     "metadata": {},
     "output_type": "execute_result"
    },
    {
     "data": {
      "image/png": "[encoded data removed]",
      "text/plain": [
       "<Figure size 1080x720 with 1 Axes>"
      ]
     },
     "metadata": {
      "needs_background": "light"
     },
     "output_type": "display_data"
    }
   ],
   "source": [
    "from sklearn import tree\n",
    "clf = tree.DecisionTreeClassifier(max_depth=2)\n",
    "clf = clf.fit(X_train, Z_train)\n",
    "plt.figure(figsize=(15,10))\n",
    "tree.plot_tree(clf)"
   ]
  },
  {
   "cell_type": "markdown",
   "metadata": {},
   "source": [
    "### 4. Random Forest"
   ]
  },
  {
   "cell_type": "code",
   "execution_count": 34,
   "metadata": {},
   "outputs": [
    {
     "data": {
      "text/plain": [
       "0.6166585956416465"
      ]
     },
     "execution_count": 34,
     "metadata": {},
     "output_type": "execute_result"
    }
   ],
   "source": [
    "from sklearn.ensemble import RandomForestClassifier\n",
    "rfc = RandomForestClassifier(max_depth=25, random_state=0, n_estimators = 100)\n",
    "clf = clf.fit(X_train, Z_train)\n",
    "prediction = clf.predict(X_test)\n",
    "np.mean(prediction == Z_test)"
   ]
  },
  {
   "cell_type": "markdown",
   "metadata": {},
   "source": [
    "### 5. K nearest Neighbors"
   ]
  },
  {
   "cell_type": "code",
   "execution_count": 39,
   "metadata": {},
   "outputs": [
    {
     "data": {
      "text/plain": [
       "0.6630341790498113"
      ]
     },
     "execution_count": 39,
     "metadata": {},
     "output_type": "execute_result"
    }
   ],
   "source": [
    "from sklearn import neighbors, datasets\n",
    "n_neighbors = 2000\n",
    "clf = neighbors.KNeighborsClassifier(n_neighbors, weights='distance')\n",
    "scores = cross_val_score(clf, X, Z, cv=5)\n",
    "clf.fit(X, Z)\n",
    "np.mean(scores)"
   ]
  },
  {
   "cell_type": "markdown",
   "metadata": {},
   "source": [
    "### Cross Validation ft. Decision Tree"
   ]
  },
  {
   "cell_type": "code",
   "execution_count": 37,
   "metadata": {},
   "outputs": [
    {
     "data": {
      "text/plain": [
       "0.5182422933889637"
      ]
     },
     "execution_count": 37,
     "metadata": {},
     "output_type": "execute_result"
    }
   ],
   "source": [
    "from sklearn.model_selection import cross_val_score\n",
    "clf = tree.DecisionTreeClassifier(max_depth = 2)\n",
    "scores = cross_val_score(clf, X, Z, cv=5)\n",
    "np.mean(scores)"
   ]
  },
  {
   "cell_type": "code",
   "execution_count": null,
   "metadata": {},
   "outputs": [],
   "source": []
  }
 ],
 "metadata": {
  "kernelspec": {
   "display_name": "Python 3",
   "language": "python",
   "name": "python3"
  },
  "language_info": {
   "codemirror_mode": {
    "name": "ipython",
    "version": 3
   },
   "file_extension": ".py",
   "mimetype": "text/x-python",
   "name": "python",
   "nbconvert_exporter": "python",
   "pygments_lexer": "ipython3",
   "version": "3.7.3"
  }
 },
 "nbformat": 4,
 "nbformat_minor": 4
}
