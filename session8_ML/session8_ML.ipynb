{
 "cells": [
  {
   "cell_type": "markdown",
   "metadata": {},
   "source": [
    "# Session 8 - Introduction to Machine Learning"
   ]
  },
  {
   "cell_type": "markdown",
   "metadata": {},
   "source": [
    "Goal: the one thing that is difficult to guess is the price, we will try to learn the price. It's a numeric variable, when there is a very large amount values we can say that is continuous. To guess a continuous value we use regression. "
   ]
  },
  {
   "cell_type": "markdown",
   "metadata": {},
   "source": [
    "Simple case: 2 class problem - categorize the price"
   ]
  },
  {
   "cell_type": "code",
   "execution_count": 141,
   "metadata": {},
   "outputs": [],
   "source": [
    "import pandas as pd\n",
    "from sklearn import tree\n",
    "import matplotlib.pyplot as plt\n",
    "import numpy as np"
   ]
  },
  {
   "cell_type": "code",
   "execution_count": 142,
   "metadata": {},
   "outputs": [],
   "source": [
    "df = pd.read_csv(\"UTSEUS-anjuke-real-estate-baoshan.csv\")"
   ]
  },
  {
   "cell_type": "code",
   "execution_count": 143,
   "metadata": {},
   "outputs": [
    {
     "data": {
      "text/html": [
       "<div>\n",
       "<style scoped>\n",
       "    .dataframe tbody tr th:only-of-type {\n",
       "        vertical-align: middle;\n",
       "    }\n",
       "\n",
       "    .dataframe tbody tr th {\n",
       "        vertical-align: top;\n",
       "    }\n",
       "\n",
       "    .dataframe thead th {\n",
       "        text-align: right;\n",
       "    }\n",
       "</style>\n",
       "<table border=\"1\" class=\"dataframe\">\n",
       "  <thead>\n",
       "    <tr style=\"text-align: right;\">\n",
       "      <th></th>\n",
       "      <th>id</th>\n",
       "      <th>address</th>\n",
       "      <th>longitude</th>\n",
       "      <th>latitude</th>\n",
       "      <th>bedroom</th>\n",
       "      <th>room</th>\n",
       "      <th>surface</th>\n",
       "      <th>price</th>\n",
       "      <th>onesquaremeter</th>\n",
       "      <th>tags</th>\n",
       "      <th>district</th>\n",
       "      <th>neighborhood</th>\n",
       "      <th>done</th>\n",
       "    </tr>\n",
       "  </thead>\n",
       "  <tbody>\n",
       "    <tr>\n",
       "      <th>0</th>\n",
       "      <td>A888553302</td>\n",
       "      <td>宝山-大场  金地艺境(宝山)(555弄)</td>\n",
       "      <td>121.343927</td>\n",
       "      <td>31.319356</td>\n",
       "      <td>2</td>\n",
       "      <td>2</td>\n",
       "      <td>30.0</td>\n",
       "      <td>1160000.0</td>\n",
       "      <td>38666.666667</td>\n",
       "      <td>金地开发 **首推 地铁首通 价格首降 配套就是你能想到的</td>\n",
       "      <td>baoshan</td>\n",
       "      <td>dachang</td>\n",
       "      <td>1</td>\n",
       "    </tr>\n",
       "    <tr>\n",
       "      <th>1</th>\n",
       "      <td>A888376847</td>\n",
       "      <td>宝山-大场  骏华苑</td>\n",
       "      <td>121.407325</td>\n",
       "      <td>31.302368</td>\n",
       "      <td>1</td>\n",
       "      <td>1</td>\n",
       "      <td>38.0</td>\n",
       "      <td>1950000.0</td>\n",
       "      <td>51315.789474</td>\n",
       "      <td>龙璟公馆嘉兴市近万达广场，北大附属实验校区，地铁沿线高铁站旁</td>\n",
       "      <td>baoshan</td>\n",
       "      <td>dachang</td>\n",
       "      <td>1</td>\n",
       "    </tr>\n",
       "    <tr>\n",
       "      <th>2</th>\n",
       "      <td>A885088482</td>\n",
       "      <td>宝山-大场  琉樽尚品(255弄)</td>\n",
       "      <td>121.397487</td>\n",
       "      <td>31.290871</td>\n",
       "      <td>3</td>\n",
       "      <td>2</td>\n",
       "      <td>92.0</td>\n",
       "      <td>5350000.0</td>\n",
       "      <td>58152.173913</td>\n",
       "      <td>92+7平书房，婚房装修30万！满2年税少11万！再降20万</td>\n",
       "      <td>baoshan</td>\n",
       "      <td>dachang</td>\n",
       "      <td>1</td>\n",
       "    </tr>\n",
       "    <tr>\n",
       "      <th>3</th>\n",
       "      <td>A885392981</td>\n",
       "      <td>宝山-大场  琉樽尚品（255弄）</td>\n",
       "      <td>121.397487</td>\n",
       "      <td>31.290871</td>\n",
       "      <td>2</td>\n",
       "      <td>2</td>\n",
       "      <td>68.0</td>\n",
       "      <td>4350000.0</td>\n",
       "      <td>63970.588235</td>\n",
       "      <td>中环景观，电梯复式，豪装45万全送，拎包入住，小格局大设计，</td>\n",
       "      <td>baoshan</td>\n",
       "      <td>dachang</td>\n",
       "      <td>1</td>\n",
       "    </tr>\n",
       "    <tr>\n",
       "      <th>4</th>\n",
       "      <td>A885831305</td>\n",
       "      <td>宝山-大场  美好家小区</td>\n",
       "      <td>121.421397</td>\n",
       "      <td>31.302658</td>\n",
       "      <td>2</td>\n",
       "      <td>2</td>\n",
       "      <td>80.0</td>\n",
       "      <td>4000000.0</td>\n",
       "      <td>50000.000000</td>\n",
       "      <td>美好家南北通精装2房板式房型采光好随时好看带天井</td>\n",
       "      <td>baoshan</td>\n",
       "      <td>dachang</td>\n",
       "      <td>1</td>\n",
       "    </tr>\n",
       "  </tbody>\n",
       "</table>\n",
       "</div>"
      ],
      "text/plain": [
       "           id                address   longitude   latitude  bedroom  room  \\\n",
       "0  A888553302  宝山-大场  金地艺境(宝山)(555弄)  121.343927  31.319356        2     2   \n",
       "1  A888376847             宝山-大场  骏华苑  121.407325  31.302368        1     1   \n",
       "2  A885088482      宝山-大场  琉樽尚品(255弄)  121.397487  31.290871        3     2   \n",
       "3  A885392981      宝山-大场  琉樽尚品（255弄）  121.397487  31.290871        2     2   \n",
       "4  A885831305           宝山-大场  美好家小区  121.421397  31.302658        2     2   \n",
       "\n",
       "   surface      price  onesquaremeter                            tags  \\\n",
       "0     30.0  1160000.0    38666.666667   金地开发 **首推 地铁首通 价格首降 配套就是你能想到的   \n",
       "1     38.0  1950000.0    51315.789474  龙璟公馆嘉兴市近万达广场，北大附属实验校区，地铁沿线高铁站旁   \n",
       "2     92.0  5350000.0    58152.173913  92+7平书房，婚房装修30万！满2年税少11万！再降20万   \n",
       "3     68.0  4350000.0    63970.588235  中环景观，电梯复式，豪装45万全送，拎包入住，小格局大设计，   \n",
       "4     80.0  4000000.0    50000.000000        美好家南北通精装2房板式房型采光好随时好看带天井   \n",
       "\n",
       "  district neighborhood  done  \n",
       "0  baoshan      dachang     1  \n",
       "1  baoshan      dachang     1  \n",
       "2  baoshan      dachang     1  \n",
       "3  baoshan      dachang     1  \n",
       "4  baoshan      dachang     1  "
      ]
     },
     "execution_count": 143,
     "metadata": {},
     "output_type": "execute_result"
    }
   ],
   "source": [
    "df.head()"
   ]
  },
  {
   "cell_type": "markdown",
   "metadata": {},
   "source": [
    "## Clean df "
   ]
  },
  {
   "cell_type": "markdown",
   "metadata": {},
   "source": [
    "Remove id, adress (we have long and lat), onesquaremeter, tags, district, neighborhood, done"
   ]
  },
  {
   "cell_type": "markdown",
   "metadata": {},
   "source": [
    "The target variable is \"price\". We have to predict it y learning rules from df using decision trees."
   ]
  },
  {
   "cell_type": "code",
   "execution_count": 144,
   "metadata": {},
   "outputs": [],
   "source": [
    "X = df[['longitude', 'latitude', 'bedroom', 'room', 'surface']]\n",
    "Y = df[['price']]"
   ]
  },
  {
   "cell_type": "code",
   "execution_count": 145,
   "metadata": {},
   "outputs": [],
   "source": [
    "#plt.hist(Y, 100)"
   ]
  },
  {
   "cell_type": "markdown",
   "metadata": {},
   "source": [
    "## Bins"
   ]
  },
  {
   "cell_type": "code",
   "execution_count": 146,
   "metadata": {},
   "outputs": [],
   "source": [
    "medianY = np.median(Y)"
   ]
  },
  {
   "cell_type": "code",
   "execution_count": 147,
   "metadata": {},
   "outputs": [],
   "source": [
    "Z = pd.DataFrame.copy(Y)\n",
    "Z[Y<medianY] = \"cheap\"\n",
    "Z[Y>=medianY] = \"expensive\""
   ]
  },
  {
   "cell_type": "code",
   "execution_count": 148,
   "metadata": {},
   "outputs": [],
   "source": [
    "clf = tree.DecisionTreeClassifier()\n",
    "clf = clf.fit(X,Z)"
   ]
  },
  {
   "cell_type": "code",
   "execution_count": 149,
   "metadata": {},
   "outputs": [
    {
     "data": {
      "text/plain": [
       "array(['expensive'], dtype=object)"
      ]
     },
     "execution_count": 149,
     "metadata": {},
     "output_type": "execute_result"
    }
   ],
   "source": [
    "clf.predict([[121, 31, 3, 5, 200]])"
   ]
  },
  {
   "cell_type": "code",
   "execution_count": 150,
   "metadata": {},
   "outputs": [
    {
     "data": {
      "text/html": [
       "<div>\n",
       "<style scoped>\n",
       "    .dataframe tbody tr th:only-of-type {\n",
       "        vertical-align: middle;\n",
       "    }\n",
       "\n",
       "    .dataframe tbody tr th {\n",
       "        vertical-align: top;\n",
       "    }\n",
       "\n",
       "    .dataframe thead th {\n",
       "        text-align: right;\n",
       "    }\n",
       "</style>\n",
       "<table border=\"1\" class=\"dataframe\">\n",
       "  <thead>\n",
       "    <tr style=\"text-align: right;\">\n",
       "      <th></th>\n",
       "      <th>id</th>\n",
       "      <th>address</th>\n",
       "      <th>longitude</th>\n",
       "      <th>latitude</th>\n",
       "      <th>bedroom</th>\n",
       "      <th>room</th>\n",
       "      <th>surface</th>\n",
       "      <th>price</th>\n",
       "      <th>onesquaremeter</th>\n",
       "      <th>tags</th>\n",
       "      <th>district</th>\n",
       "      <th>neighborhood</th>\n",
       "      <th>done</th>\n",
       "      <th>class</th>\n",
       "    </tr>\n",
       "  </thead>\n",
       "  <tbody>\n",
       "    <tr>\n",
       "      <th>0</th>\n",
       "      <td>A888553302</td>\n",
       "      <td>宝山-大场  金地艺境(宝山)(555弄)</td>\n",
       "      <td>121.343927</td>\n",
       "      <td>31.319356</td>\n",
       "      <td>2</td>\n",
       "      <td>2</td>\n",
       "      <td>30.0</td>\n",
       "      <td>1160000.0</td>\n",
       "      <td>38666.666667</td>\n",
       "      <td>金地开发 **首推 地铁首通 价格首降 配套就是你能想到的</td>\n",
       "      <td>baoshan</td>\n",
       "      <td>dachang</td>\n",
       "      <td>1</td>\n",
       "      <td>cheap</td>\n",
       "    </tr>\n",
       "    <tr>\n",
       "      <th>1</th>\n",
       "      <td>A888376847</td>\n",
       "      <td>宝山-大场  骏华苑</td>\n",
       "      <td>121.407325</td>\n",
       "      <td>31.302368</td>\n",
       "      <td>1</td>\n",
       "      <td>1</td>\n",
       "      <td>38.0</td>\n",
       "      <td>1950000.0</td>\n",
       "      <td>51315.789474</td>\n",
       "      <td>龙璟公馆嘉兴市近万达广场，北大附属实验校区，地铁沿线高铁站旁</td>\n",
       "      <td>baoshan</td>\n",
       "      <td>dachang</td>\n",
       "      <td>1</td>\n",
       "      <td>cheap</td>\n",
       "    </tr>\n",
       "    <tr>\n",
       "      <th>2</th>\n",
       "      <td>A885088482</td>\n",
       "      <td>宝山-大场  琉樽尚品(255弄)</td>\n",
       "      <td>121.397487</td>\n",
       "      <td>31.290871</td>\n",
       "      <td>3</td>\n",
       "      <td>2</td>\n",
       "      <td>92.0</td>\n",
       "      <td>5350000.0</td>\n",
       "      <td>58152.173913</td>\n",
       "      <td>92+7平书房，婚房装修30万！满2年税少11万！再降20万</td>\n",
       "      <td>baoshan</td>\n",
       "      <td>dachang</td>\n",
       "      <td>1</td>\n",
       "      <td>expensive</td>\n",
       "    </tr>\n",
       "    <tr>\n",
       "      <th>3</th>\n",
       "      <td>A885392981</td>\n",
       "      <td>宝山-大场  琉樽尚品（255弄）</td>\n",
       "      <td>121.397487</td>\n",
       "      <td>31.290871</td>\n",
       "      <td>2</td>\n",
       "      <td>2</td>\n",
       "      <td>68.0</td>\n",
       "      <td>4350000.0</td>\n",
       "      <td>63970.588235</td>\n",
       "      <td>中环景观，电梯复式，豪装45万全送，拎包入住，小格局大设计，</td>\n",
       "      <td>baoshan</td>\n",
       "      <td>dachang</td>\n",
       "      <td>1</td>\n",
       "      <td>expensive</td>\n",
       "    </tr>\n",
       "    <tr>\n",
       "      <th>4</th>\n",
       "      <td>A885831305</td>\n",
       "      <td>宝山-大场  美好家小区</td>\n",
       "      <td>121.421397</td>\n",
       "      <td>31.302658</td>\n",
       "      <td>2</td>\n",
       "      <td>2</td>\n",
       "      <td>80.0</td>\n",
       "      <td>4000000.0</td>\n",
       "      <td>50000.000000</td>\n",
       "      <td>美好家南北通精装2房板式房型采光好随时好看带天井</td>\n",
       "      <td>baoshan</td>\n",
       "      <td>dachang</td>\n",
       "      <td>1</td>\n",
       "      <td>expensive</td>\n",
       "    </tr>\n",
       "  </tbody>\n",
       "</table>\n",
       "</div>"
      ],
      "text/plain": [
       "           id                address   longitude   latitude  bedroom  room  \\\n",
       "0  A888553302  宝山-大场  金地艺境(宝山)(555弄)  121.343927  31.319356        2     2   \n",
       "1  A888376847             宝山-大场  骏华苑  121.407325  31.302368        1     1   \n",
       "2  A885088482      宝山-大场  琉樽尚品(255弄)  121.397487  31.290871        3     2   \n",
       "3  A885392981      宝山-大场  琉樽尚品（255弄）  121.397487  31.290871        2     2   \n",
       "4  A885831305           宝山-大场  美好家小区  121.421397  31.302658        2     2   \n",
       "\n",
       "   surface      price  onesquaremeter                            tags  \\\n",
       "0     30.0  1160000.0    38666.666667   金地开发 **首推 地铁首通 价格首降 配套就是你能想到的   \n",
       "1     38.0  1950000.0    51315.789474  龙璟公馆嘉兴市近万达广场，北大附属实验校区，地铁沿线高铁站旁   \n",
       "2     92.0  5350000.0    58152.173913  92+7平书房，婚房装修30万！满2年税少11万！再降20万   \n",
       "3     68.0  4350000.0    63970.588235  中环景观，电梯复式，豪装45万全送，拎包入住，小格局大设计，   \n",
       "4     80.0  4000000.0    50000.000000        美好家南北通精装2房板式房型采光好随时好看带天井   \n",
       "\n",
       "  district neighborhood  done      class  \n",
       "0  baoshan      dachang     1      cheap  \n",
       "1  baoshan      dachang     1      cheap  \n",
       "2  baoshan      dachang     1  expensive  \n",
       "3  baoshan      dachang     1  expensive  \n",
       "4  baoshan      dachang     1  expensive  "
      ]
     },
     "execution_count": 150,
     "metadata": {},
     "output_type": "execute_result"
    }
   ],
   "source": [
    "df['class'] = Z\n",
    "df.head()"
   ]
  },
  {
   "cell_type": "markdown",
   "metadata": {},
   "source": [
    "## Modeling"
   ]
  },
  {
   "cell_type": "markdown",
   "metadata": {},
   "source": [
    "# Create a column is_train and I do a random between 0 and 1 and I put the ratio I want : attribute a random number for each line \n",
    "# and if it <= .75 it puts true otherwise false\n",
    "X['is_train'] = np.random.uniform(0, 1, len(X)) <= .75\n",
    "X['is_train']\n",
    "# Regardless of the warning"
   ]
  },
  {
   "cell_type": "markdown",
   "metadata": {},
   "source": [
    "train, test = X[X['is_train']==True], [X['is_train']==False]"
   ]
  },
  {
   "cell_type": "markdown",
   "metadata": {},
   "source": [
    "Random + Split df in train and test"
   ]
  },
  {
   "cell_type": "code",
   "execution_count": 151,
   "metadata": {},
   "outputs": [],
   "source": [
    "from sklearn.model_selection import train_test_split\n",
    "train, test = train_test_split(df, test_size=0.3)"
   ]
  },
  {
   "cell_type": "code",
   "execution_count": 152,
   "metadata": {},
   "outputs": [
    {
     "data": {
      "text/plain": [
       "34416"
      ]
     },
     "execution_count": 152,
     "metadata": {},
     "output_type": "execute_result"
    }
   ],
   "source": [
    "len(test)+len(train)"
   ]
  },
  {
   "cell_type": "code",
   "execution_count": 153,
   "metadata": {},
   "outputs": [],
   "source": [
    "clf = tree.DecisionTreeClassifier()\n",
    "clf = clf.fit(train[['longitude', 'latitude', 'bedroom', 'room', 'surface']], train['class'])"
   ]
  },
  {
   "cell_type": "code",
   "execution_count": 154,
   "metadata": {},
   "outputs": [],
   "source": [
    "prediction = clf.predict(test[['longitude', 'latitude', 'bedroom', 'room', 'surface']])"
   ]
  },
  {
   "cell_type": "code",
   "execution_count": 155,
   "metadata": {},
   "outputs": [
    {
     "data": {
      "text/plain": [
       "0.9472154963680387"
      ]
     },
     "execution_count": 155,
     "metadata": {},
     "output_type": "execute_result"
    }
   ],
   "source": [
    "np.mean(prediction == test['class'])"
   ]
  },
  {
   "cell_type": "markdown",
   "metadata": {},
   "source": [
    "## Crossed-validation"
   ]
  },
  {
   "cell_type": "code",
   "execution_count": 165,
   "metadata": {},
   "outputs": [
    {
     "data": {
      "text/plain": [
       "0.9115630447414294"
      ]
     },
     "execution_count": 165,
     "metadata": {},
     "output_type": "execute_result"
    }
   ],
   "source": [
    "from sklearn.model_selection import cross_val_score\n",
    "from sklearn.model_selection import ShuffleSplit\n",
    "clf = tree.DecisionTreeClassifier(max_depth=5) #increasing the depth to increase perf, but be careful to not overfit\n",
    "scores = cross_val_score(clf, X, Z, cv=ShuffleSplit(n_splits=5))\n",
    "scores\n",
    "np.mean(scores)"
   ]
  },
  {
   "cell_type": "code",
   "execution_count": 160,
   "metadata": {},
   "outputs": [
    {
     "data": {
      "text/plain": [
       "[<matplotlib.lines.Line2D at 0x27a0231e748>]"
      ]
     },
     "execution_count": 160,
     "metadata": {},
     "output_type": "execute_result"
    },
    {
     "data": {
      "image/png": "[encoded data removed]",
      "text/plain": [
       "<Figure size 432x288 with 1 Axes>"
      ]
     },
     "metadata": {
      "needs_background": "light"
     },
     "output_type": "display_data"
    }
   ],
   "source": [
    "plt.plot(X[\"latitude\"])"
   ]
  },
  {
   "cell_type": "code",
   "execution_count": 170,
   "metadata": {},
   "outputs": [
    {
     "data": {
      "text/plain": [
       "[Text(167.4, 181.2, 'X[4] <= 76.5\\nentropy = 0.5\\nsamples = 24091\\nvalue = [12004, 12087]'),\n",
       " Text(83.7, 108.72, 'X[4] <= 63.5\\nentropy = 0.259\\nsamples = 12250\\nvalue = [10374, 1876]'),\n",
       " Text(41.85, 36.23999999999998, 'entropy = 0.094\\nsamples = 8057\\nvalue = [7659, 398]'),\n",
       " Text(125.55000000000001, 36.23999999999998, 'entropy = 0.456\\nsamples = 4193\\nvalue = [2715, 1478]'),\n",
       " Text(251.10000000000002, 108.72, 'X[1] <= 31.411\\nentropy = 0.237\\nsamples = 11841\\nvalue = [1630, 10211]'),\n",
       " Text(209.25, 36.23999999999998, 'entropy = 0.158\\nsamples = 10663\\nvalue = [921, 9742]'),\n",
       " Text(292.95, 36.23999999999998, 'entropy = 0.479\\nsamples = 1178\\nvalue = [709, 469]')]"
      ]
     },
     "execution_count": 170,
     "metadata": {},
     "output_type": "execute_result"
    },
    {
     "data": {
      "image/png": "[encoded data removed]",
      "text/plain": [
       "<Figure size 432x288 with 1 Axes>"
      ]
     },
     "metadata": {
      "needs_background": "light"
     },
     "output_type": "display_data"
    }
   ],
   "source": [
    "from sklearn import tree\n",
    "clf = tree.DecisionTreeClassifier(max_depth=2)\n",
    "clf = clf.fit(train[['longitude', 'latitude', 'bedroom', 'room', 'surface']], train['class'])\n",
    "tree.plot_tree(clf)"
   ]
  },
  {
   "cell_type": "markdown",
   "metadata": {},
   "source": [
    "Try to get the best parameters: GridSearchCV"
   ]
  },
  {
   "cell_type": "code",
   "execution_count": 171,
   "metadata": {},
   "outputs": [],
   "source": [
    "from sklearn.model_selection import GridSearchCV"
   ]
  },
  {
   "cell_type": "code",
   "execution_count": null,
   "metadata": {},
   "outputs": [],
   "source": []
  }
 ],
 "metadata": {
  "kernelspec": {
   "display_name": "Python 3",
   "language": "python",
   "name": "python3"
  },
  "language_info": {
   "codemirror_mode": {
    "name": "ipython",
    "version": 3
   },
   "file_extension": ".py",
   "mimetype": "text/x-python",
   "name": "python",
   "nbconvert_exporter": "python",
   "pygments_lexer": "ipython3",
   "version": "3.7.3"
  }
 },
 "nbformat": 4,
 "nbformat_minor": 4
}
